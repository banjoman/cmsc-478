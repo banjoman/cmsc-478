{
 "cells": [
  {
   "cell_type": "markdown",
   "metadata": {
    "colab_type": "text",
    "id": "RaJyFbxlZz9C"
   },
   "source": [
    "# CMSC478 Machine Learning - Spring 2020\n",
    "\n",
    "## Instructor: Fereydoon Vafaei\n",
    "\n",
    "### <font color=\"blue\">Assignment-2: Multi-Class Classification Using Random Forests and SVM</font>"
   ]
  },
  {
   "cell_type": "markdown",
   "metadata": {
    "colab_type": "text",
    "id": "PCWlR_UoZz9I"
   },
   "source": [
    "## Overview and Learning Objectives"
   ]
  },
  {
   "cell_type": "markdown",
   "metadata": {
    "colab_type": "text",
    "id": "rMAGBkqyZz9L"
   },
   "source": [
    "In Assignment-2, you're going to build on the skills you developed in Assignment-1, and extend them on a relatively larger dataset of video games and their ratings as predicted value.\n",
    "\n",
    "As discussed in the lectures, multi-class classification means your model classifies multiple (more than two) classes/labels. You are going to build classifiers that can predict video game ratings.\n",
    "\n",
    "<b>Note:</b> Read ALL the instructions in this notebook very carefully. Careless reading and skipping lines would be a major source of making mistakes and losing points in your assignments. Some outputs have been shared while some others have not been shared intentionally. You may NOT share the outputs, the code, and the answers in Piazza.\n",
    "\n",
    "Pedagogically, this assignment will help you:\n",
    "- better understand the concepts you learned and how to use ML models in practice. \n",
    "- pratice reading documentation. This is a very important skill in AI/ML/Data Science collaborative environments and teams.\n",
    "\n",
    "So, let's get started!"
   ]
  },
  {
   "cell_type": "markdown",
   "metadata": {
    "colab_type": "text",
    "id": "wfIuluw_Zz9M"
   },
   "source": [
    "## Part I - Preprocessing"
   ]
  },
  {
   "cell_type": "markdown",
   "metadata": {
    "colab_type": "text",
    "id": "SVZNjmFAZz9O"
   },
   "source": [
    "The description of the dataset you're going to work on can be seen [here](https://www.kaggle.com/rush4ratio/video-game-sales-with-ratings). You are going to use the features to predict video game rating - `Rating` column.\n",
    "\n",
    "You can download the dataset directly from [here](https://github.com/fereydoonvafaei/CMSC478-Spring2020/blob/master/Assignment-2/video-games.csv).\n",
    "\n",
    "Follow the instructions for loading the data, preprocessing, training and testing carefully. You can enter your code in the areas with elipsis `...` notation."
   ]
  },
  {
   "cell_type": "markdown",
   "metadata": {
    "colab_type": "text",
    "id": "XlbVi9ngZz9Q"
   },
   "source": [
    "## <font color=\"red\"> Required Coding"
   ]
  },
  {
   "cell_type": "code",
   "execution_count": 1,
   "metadata": {
    "colab": {},
    "colab_type": "code",
    "id": "6rEcjtgdZz9R"
   },
   "outputs": [],
   "source": [
    "# Import all the necessary modules from python and sklearn\n",
    "# You may start with pandas, numpy and matplotlib,\n",
    "# and keep adding the necessary modules here as you move forward\n",
    "import pandas as pd\n",
    "import numpy as np\n",
    "import matplotlib.pyplot as plt\n",
    "from sklearn.model_selection import train_test_split\n",
    "from sklearn.ensemble import RandomForestClassifier\n",
    "from sklearn.svm import LinearSVC\n",
    "from sklearn.svm import SVC\n",
    "from sklearn.model_selection import cross_val_score\n",
    "from sklearn import metrics\n",
    "import warnings\n",
    "warnings.filterwarnings(\"ignore\")"
   ]
  },
  {
   "cell_type": "code",
   "execution_count": 2,
   "metadata": {
    "colab": {
     "base_uri": "https://localhost:8080/",
     "height": 292
    },
    "colab_type": "code",
    "id": "QD4SYOQEZz9X",
    "outputId": "28468778-5700-4b1a-8876-25a54b51e54d"
   },
   "outputs": [
    {
     "name": "stdout",
     "output_type": "stream",
     "text": [
      "(16719, 16)\n"
     ]
    },
    {
     "data": {
      "text/html": [
       "<div>\n",
       "<style scoped>\n",
       "    .dataframe tbody tr th:only-of-type {\n",
       "        vertical-align: middle;\n",
       "    }\n",
       "\n",
       "    .dataframe tbody tr th {\n",
       "        vertical-align: top;\n",
       "    }\n",
       "\n",
       "    .dataframe thead th {\n",
       "        text-align: right;\n",
       "    }\n",
       "</style>\n",
       "<table border=\"1\" class=\"dataframe\">\n",
       "  <thead>\n",
       "    <tr style=\"text-align: right;\">\n",
       "      <th></th>\n",
       "      <th>Name</th>\n",
       "      <th>Platform</th>\n",
       "      <th>Year_of_Release</th>\n",
       "      <th>Genre</th>\n",
       "      <th>Publisher</th>\n",
       "      <th>NA_Sales</th>\n",
       "      <th>EU_Sales</th>\n",
       "      <th>JP_Sales</th>\n",
       "      <th>Other_Sales</th>\n",
       "      <th>Global_Sales</th>\n",
       "      <th>Critic_Score</th>\n",
       "      <th>Critic_Count</th>\n",
       "      <th>User_Score</th>\n",
       "      <th>User_Count</th>\n",
       "      <th>Developer</th>\n",
       "      <th>Rating</th>\n",
       "    </tr>\n",
       "  </thead>\n",
       "  <tbody>\n",
       "    <tr>\n",
       "      <th>0</th>\n",
       "      <td>Wii Sports</td>\n",
       "      <td>Wii</td>\n",
       "      <td>2006.0</td>\n",
       "      <td>Sports</td>\n",
       "      <td>Nintendo</td>\n",
       "      <td>41.36</td>\n",
       "      <td>28.96</td>\n",
       "      <td>3.77</td>\n",
       "      <td>8.45</td>\n",
       "      <td>82.53</td>\n",
       "      <td>76.0</td>\n",
       "      <td>51.0</td>\n",
       "      <td>8</td>\n",
       "      <td>322.0</td>\n",
       "      <td>Nintendo</td>\n",
       "      <td>E</td>\n",
       "    </tr>\n",
       "    <tr>\n",
       "      <th>1</th>\n",
       "      <td>Super Mario Bros.</td>\n",
       "      <td>NES</td>\n",
       "      <td>1985.0</td>\n",
       "      <td>Platform</td>\n",
       "      <td>Nintendo</td>\n",
       "      <td>29.08</td>\n",
       "      <td>3.58</td>\n",
       "      <td>6.81</td>\n",
       "      <td>0.77</td>\n",
       "      <td>40.24</td>\n",
       "      <td>NaN</td>\n",
       "      <td>NaN</td>\n",
       "      <td>NaN</td>\n",
       "      <td>NaN</td>\n",
       "      <td>NaN</td>\n",
       "      <td>NaN</td>\n",
       "    </tr>\n",
       "    <tr>\n",
       "      <th>2</th>\n",
       "      <td>Mario Kart Wii</td>\n",
       "      <td>Wii</td>\n",
       "      <td>2008.0</td>\n",
       "      <td>Racing</td>\n",
       "      <td>Nintendo</td>\n",
       "      <td>15.68</td>\n",
       "      <td>12.76</td>\n",
       "      <td>3.79</td>\n",
       "      <td>3.29</td>\n",
       "      <td>35.52</td>\n",
       "      <td>82.0</td>\n",
       "      <td>73.0</td>\n",
       "      <td>8.3</td>\n",
       "      <td>709.0</td>\n",
       "      <td>Nintendo</td>\n",
       "      <td>E</td>\n",
       "    </tr>\n",
       "    <tr>\n",
       "      <th>3</th>\n",
       "      <td>Wii Sports Resort</td>\n",
       "      <td>Wii</td>\n",
       "      <td>2009.0</td>\n",
       "      <td>Sports</td>\n",
       "      <td>Nintendo</td>\n",
       "      <td>15.61</td>\n",
       "      <td>10.93</td>\n",
       "      <td>3.28</td>\n",
       "      <td>2.95</td>\n",
       "      <td>32.77</td>\n",
       "      <td>80.0</td>\n",
       "      <td>73.0</td>\n",
       "      <td>8</td>\n",
       "      <td>192.0</td>\n",
       "      <td>Nintendo</td>\n",
       "      <td>E</td>\n",
       "    </tr>\n",
       "    <tr>\n",
       "      <th>4</th>\n",
       "      <td>Pokemon Red/Pokemon Blue</td>\n",
       "      <td>GB</td>\n",
       "      <td>1996.0</td>\n",
       "      <td>Role-Playing</td>\n",
       "      <td>Nintendo</td>\n",
       "      <td>11.27</td>\n",
       "      <td>8.89</td>\n",
       "      <td>10.22</td>\n",
       "      <td>1.00</td>\n",
       "      <td>31.37</td>\n",
       "      <td>NaN</td>\n",
       "      <td>NaN</td>\n",
       "      <td>NaN</td>\n",
       "      <td>NaN</td>\n",
       "      <td>NaN</td>\n",
       "      <td>NaN</td>\n",
       "    </tr>\n",
       "  </tbody>\n",
       "</table>\n",
       "</div>"
      ],
      "text/plain": [
       "                       Name Platform  Year_of_Release         Genre Publisher  \\\n",
       "0                Wii Sports      Wii           2006.0        Sports  Nintendo   \n",
       "1         Super Mario Bros.      NES           1985.0      Platform  Nintendo   \n",
       "2            Mario Kart Wii      Wii           2008.0        Racing  Nintendo   \n",
       "3         Wii Sports Resort      Wii           2009.0        Sports  Nintendo   \n",
       "4  Pokemon Red/Pokemon Blue       GB           1996.0  Role-Playing  Nintendo   \n",
       "\n",
       "   NA_Sales  EU_Sales  JP_Sales  Other_Sales  Global_Sales  Critic_Score  \\\n",
       "0     41.36     28.96      3.77         8.45         82.53          76.0   \n",
       "1     29.08      3.58      6.81         0.77         40.24           NaN   \n",
       "2     15.68     12.76      3.79         3.29         35.52          82.0   \n",
       "3     15.61     10.93      3.28         2.95         32.77          80.0   \n",
       "4     11.27      8.89     10.22         1.00         31.37           NaN   \n",
       "\n",
       "   Critic_Count User_Score  User_Count Developer Rating  \n",
       "0          51.0          8       322.0  Nintendo      E  \n",
       "1           NaN        NaN         NaN       NaN    NaN  \n",
       "2          73.0        8.3       709.0  Nintendo      E  \n",
       "3          73.0          8       192.0  Nintendo      E  \n",
       "4           NaN        NaN         NaN       NaN    NaN  "
      ]
     },
     "execution_count": 2,
     "metadata": {},
     "output_type": "execute_result"
    }
   ],
   "source": [
    "# Load the data as a dataframe using pandas\n",
    "game_data = pd.read_csv('video-games.csv')\n",
    "\n",
    "print(game_data.shape)\n",
    "game_data.head()"
   ]
  },
  {
   "cell_type": "code",
   "execution_count": 3,
   "metadata": {
    "colab": {
     "base_uri": "https://localhost:8080/",
     "height": 373
    },
    "colab_type": "code",
    "id": "iytOThwCZz9d",
    "outputId": "de3e1098-3af3-4b17-fbe1-daaef6f2c635"
   },
   "outputs": [
    {
     "name": "stdout",
     "output_type": "stream",
     "text": [
      "(6825, 16)\n"
     ]
    },
    {
     "data": {
      "text/html": [
       "<div>\n",
       "<style scoped>\n",
       "    .dataframe tbody tr th:only-of-type {\n",
       "        vertical-align: middle;\n",
       "    }\n",
       "\n",
       "    .dataframe tbody tr th {\n",
       "        vertical-align: top;\n",
       "    }\n",
       "\n",
       "    .dataframe thead th {\n",
       "        text-align: right;\n",
       "    }\n",
       "</style>\n",
       "<table border=\"1\" class=\"dataframe\">\n",
       "  <thead>\n",
       "    <tr style=\"text-align: right;\">\n",
       "      <th></th>\n",
       "      <th>Name</th>\n",
       "      <th>Platform</th>\n",
       "      <th>Year_of_Release</th>\n",
       "      <th>Genre</th>\n",
       "      <th>Publisher</th>\n",
       "      <th>NA_Sales</th>\n",
       "      <th>EU_Sales</th>\n",
       "      <th>JP_Sales</th>\n",
       "      <th>Other_Sales</th>\n",
       "      <th>Global_Sales</th>\n",
       "      <th>Critic_Score</th>\n",
       "      <th>Critic_Count</th>\n",
       "      <th>User_Score</th>\n",
       "      <th>User_Count</th>\n",
       "      <th>Developer</th>\n",
       "      <th>Rating</th>\n",
       "    </tr>\n",
       "  </thead>\n",
       "  <tbody>\n",
       "    <tr>\n",
       "      <th>0</th>\n",
       "      <td>Wii Sports</td>\n",
       "      <td>Wii</td>\n",
       "      <td>2006.0</td>\n",
       "      <td>Sports</td>\n",
       "      <td>Nintendo</td>\n",
       "      <td>41.36</td>\n",
       "      <td>28.96</td>\n",
       "      <td>3.77</td>\n",
       "      <td>8.45</td>\n",
       "      <td>82.53</td>\n",
       "      <td>76.0</td>\n",
       "      <td>51.0</td>\n",
       "      <td>8</td>\n",
       "      <td>322.0</td>\n",
       "      <td>Nintendo</td>\n",
       "      <td>E</td>\n",
       "    </tr>\n",
       "    <tr>\n",
       "      <th>2</th>\n",
       "      <td>Mario Kart Wii</td>\n",
       "      <td>Wii</td>\n",
       "      <td>2008.0</td>\n",
       "      <td>Racing</td>\n",
       "      <td>Nintendo</td>\n",
       "      <td>15.68</td>\n",
       "      <td>12.76</td>\n",
       "      <td>3.79</td>\n",
       "      <td>3.29</td>\n",
       "      <td>35.52</td>\n",
       "      <td>82.0</td>\n",
       "      <td>73.0</td>\n",
       "      <td>8.3</td>\n",
       "      <td>709.0</td>\n",
       "      <td>Nintendo</td>\n",
       "      <td>E</td>\n",
       "    </tr>\n",
       "    <tr>\n",
       "      <th>3</th>\n",
       "      <td>Wii Sports Resort</td>\n",
       "      <td>Wii</td>\n",
       "      <td>2009.0</td>\n",
       "      <td>Sports</td>\n",
       "      <td>Nintendo</td>\n",
       "      <td>15.61</td>\n",
       "      <td>10.93</td>\n",
       "      <td>3.28</td>\n",
       "      <td>2.95</td>\n",
       "      <td>32.77</td>\n",
       "      <td>80.0</td>\n",
       "      <td>73.0</td>\n",
       "      <td>8</td>\n",
       "      <td>192.0</td>\n",
       "      <td>Nintendo</td>\n",
       "      <td>E</td>\n",
       "    </tr>\n",
       "    <tr>\n",
       "      <th>6</th>\n",
       "      <td>New Super Mario Bros.</td>\n",
       "      <td>DS</td>\n",
       "      <td>2006.0</td>\n",
       "      <td>Platform</td>\n",
       "      <td>Nintendo</td>\n",
       "      <td>11.28</td>\n",
       "      <td>9.14</td>\n",
       "      <td>6.50</td>\n",
       "      <td>2.88</td>\n",
       "      <td>29.80</td>\n",
       "      <td>89.0</td>\n",
       "      <td>65.0</td>\n",
       "      <td>8.5</td>\n",
       "      <td>431.0</td>\n",
       "      <td>Nintendo</td>\n",
       "      <td>E</td>\n",
       "    </tr>\n",
       "    <tr>\n",
       "      <th>7</th>\n",
       "      <td>Wii Play</td>\n",
       "      <td>Wii</td>\n",
       "      <td>2006.0</td>\n",
       "      <td>Misc</td>\n",
       "      <td>Nintendo</td>\n",
       "      <td>13.96</td>\n",
       "      <td>9.18</td>\n",
       "      <td>2.93</td>\n",
       "      <td>2.84</td>\n",
       "      <td>28.92</td>\n",
       "      <td>58.0</td>\n",
       "      <td>41.0</td>\n",
       "      <td>6.6</td>\n",
       "      <td>129.0</td>\n",
       "      <td>Nintendo</td>\n",
       "      <td>E</td>\n",
       "    </tr>\n",
       "  </tbody>\n",
       "</table>\n",
       "</div>"
      ],
      "text/plain": [
       "                    Name Platform  Year_of_Release     Genre Publisher  \\\n",
       "0             Wii Sports      Wii           2006.0    Sports  Nintendo   \n",
       "2         Mario Kart Wii      Wii           2008.0    Racing  Nintendo   \n",
       "3      Wii Sports Resort      Wii           2009.0    Sports  Nintendo   \n",
       "6  New Super Mario Bros.       DS           2006.0  Platform  Nintendo   \n",
       "7               Wii Play      Wii           2006.0      Misc  Nintendo   \n",
       "\n",
       "   NA_Sales  EU_Sales  JP_Sales  Other_Sales  Global_Sales  Critic_Score  \\\n",
       "0     41.36     28.96      3.77         8.45         82.53          76.0   \n",
       "2     15.68     12.76      3.79         3.29         35.52          82.0   \n",
       "3     15.61     10.93      3.28         2.95         32.77          80.0   \n",
       "6     11.28      9.14      6.50         2.88         29.80          89.0   \n",
       "7     13.96      9.18      2.93         2.84         28.92          58.0   \n",
       "\n",
       "   Critic_Count User_Score  User_Count Developer Rating  \n",
       "0          51.0          8       322.0  Nintendo      E  \n",
       "2          73.0        8.3       709.0  Nintendo      E  \n",
       "3          73.0          8       192.0  Nintendo      E  \n",
       "6          65.0        8.5       431.0  Nintendo      E  \n",
       "7          41.0        6.6       129.0  Nintendo      E  "
      ]
     },
     "execution_count": 3,
     "metadata": {},
     "output_type": "execute_result"
    }
   ],
   "source": [
    "# Drop NAs\n",
    "game_data= game_data.dropna()\n",
    "\n",
    "print(game_data.shape)\n",
    "game_data.head()"
   ]
  },
  {
   "cell_type": "code",
   "execution_count": 4,
   "metadata": {
    "colab": {
     "base_uri": "https://localhost:8080/",
     "height": 227
    },
    "colab_type": "code",
    "id": "Zta2GCDdZz9k",
    "outputId": "5d87f24c-ac4c-4dac-a85e-a824ae60b3cb"
   },
   "outputs": [
    {
     "name": "stdout",
     "output_type": "stream",
     "text": [
      "(6825, 15)\n"
     ]
    },
    {
     "data": {
      "text/html": [
       "<div>\n",
       "<style scoped>\n",
       "    .dataframe tbody tr th:only-of-type {\n",
       "        vertical-align: middle;\n",
       "    }\n",
       "\n",
       "    .dataframe tbody tr th {\n",
       "        vertical-align: top;\n",
       "    }\n",
       "\n",
       "    .dataframe thead th {\n",
       "        text-align: right;\n",
       "    }\n",
       "</style>\n",
       "<table border=\"1\" class=\"dataframe\">\n",
       "  <thead>\n",
       "    <tr style=\"text-align: right;\">\n",
       "      <th></th>\n",
       "      <th>Platform</th>\n",
       "      <th>Year_of_Release</th>\n",
       "      <th>Genre</th>\n",
       "      <th>Publisher</th>\n",
       "      <th>NA_Sales</th>\n",
       "      <th>EU_Sales</th>\n",
       "      <th>JP_Sales</th>\n",
       "      <th>Other_Sales</th>\n",
       "      <th>Global_Sales</th>\n",
       "      <th>Critic_Score</th>\n",
       "      <th>Critic_Count</th>\n",
       "      <th>User_Score</th>\n",
       "      <th>User_Count</th>\n",
       "      <th>Developer</th>\n",
       "      <th>Rating</th>\n",
       "    </tr>\n",
       "  </thead>\n",
       "  <tbody>\n",
       "    <tr>\n",
       "      <th>0</th>\n",
       "      <td>Wii</td>\n",
       "      <td>2006.0</td>\n",
       "      <td>Sports</td>\n",
       "      <td>Nintendo</td>\n",
       "      <td>41.36</td>\n",
       "      <td>28.96</td>\n",
       "      <td>3.77</td>\n",
       "      <td>8.45</td>\n",
       "      <td>82.53</td>\n",
       "      <td>76.0</td>\n",
       "      <td>51.0</td>\n",
       "      <td>8</td>\n",
       "      <td>322.0</td>\n",
       "      <td>Nintendo</td>\n",
       "      <td>E</td>\n",
       "    </tr>\n",
       "    <tr>\n",
       "      <th>2</th>\n",
       "      <td>Wii</td>\n",
       "      <td>2008.0</td>\n",
       "      <td>Racing</td>\n",
       "      <td>Nintendo</td>\n",
       "      <td>15.68</td>\n",
       "      <td>12.76</td>\n",
       "      <td>3.79</td>\n",
       "      <td>3.29</td>\n",
       "      <td>35.52</td>\n",
       "      <td>82.0</td>\n",
       "      <td>73.0</td>\n",
       "      <td>8.3</td>\n",
       "      <td>709.0</td>\n",
       "      <td>Nintendo</td>\n",
       "      <td>E</td>\n",
       "    </tr>\n",
       "    <tr>\n",
       "      <th>3</th>\n",
       "      <td>Wii</td>\n",
       "      <td>2009.0</td>\n",
       "      <td>Sports</td>\n",
       "      <td>Nintendo</td>\n",
       "      <td>15.61</td>\n",
       "      <td>10.93</td>\n",
       "      <td>3.28</td>\n",
       "      <td>2.95</td>\n",
       "      <td>32.77</td>\n",
       "      <td>80.0</td>\n",
       "      <td>73.0</td>\n",
       "      <td>8</td>\n",
       "      <td>192.0</td>\n",
       "      <td>Nintendo</td>\n",
       "      <td>E</td>\n",
       "    </tr>\n",
       "    <tr>\n",
       "      <th>6</th>\n",
       "      <td>DS</td>\n",
       "      <td>2006.0</td>\n",
       "      <td>Platform</td>\n",
       "      <td>Nintendo</td>\n",
       "      <td>11.28</td>\n",
       "      <td>9.14</td>\n",
       "      <td>6.50</td>\n",
       "      <td>2.88</td>\n",
       "      <td>29.80</td>\n",
       "      <td>89.0</td>\n",
       "      <td>65.0</td>\n",
       "      <td>8.5</td>\n",
       "      <td>431.0</td>\n",
       "      <td>Nintendo</td>\n",
       "      <td>E</td>\n",
       "    </tr>\n",
       "    <tr>\n",
       "      <th>7</th>\n",
       "      <td>Wii</td>\n",
       "      <td>2006.0</td>\n",
       "      <td>Misc</td>\n",
       "      <td>Nintendo</td>\n",
       "      <td>13.96</td>\n",
       "      <td>9.18</td>\n",
       "      <td>2.93</td>\n",
       "      <td>2.84</td>\n",
       "      <td>28.92</td>\n",
       "      <td>58.0</td>\n",
       "      <td>41.0</td>\n",
       "      <td>6.6</td>\n",
       "      <td>129.0</td>\n",
       "      <td>Nintendo</td>\n",
       "      <td>E</td>\n",
       "    </tr>\n",
       "  </tbody>\n",
       "</table>\n",
       "</div>"
      ],
      "text/plain": [
       "  Platform  Year_of_Release     Genre Publisher  NA_Sales  EU_Sales  JP_Sales  \\\n",
       "0      Wii           2006.0    Sports  Nintendo     41.36     28.96      3.77   \n",
       "2      Wii           2008.0    Racing  Nintendo     15.68     12.76      3.79   \n",
       "3      Wii           2009.0    Sports  Nintendo     15.61     10.93      3.28   \n",
       "6       DS           2006.0  Platform  Nintendo     11.28      9.14      6.50   \n",
       "7      Wii           2006.0      Misc  Nintendo     13.96      9.18      2.93   \n",
       "\n",
       "   Other_Sales  Global_Sales  Critic_Score  Critic_Count User_Score  \\\n",
       "0         8.45         82.53          76.0          51.0          8   \n",
       "2         3.29         35.52          82.0          73.0        8.3   \n",
       "3         2.95         32.77          80.0          73.0          8   \n",
       "6         2.88         29.80          89.0          65.0        8.5   \n",
       "7         2.84         28.92          58.0          41.0        6.6   \n",
       "\n",
       "   User_Count Developer Rating  \n",
       "0       322.0  Nintendo      E  \n",
       "2       709.0  Nintendo      E  \n",
       "3       192.0  Nintendo      E  \n",
       "6       431.0  Nintendo      E  \n",
       "7       129.0  Nintendo      E  "
      ]
     },
     "execution_count": 4,
     "metadata": {},
     "output_type": "execute_result"
    }
   ],
   "source": [
    "# Drop \"Name\" column as it does not provide any useful info\n",
    "game_data.drop([\"Name\"], axis=1, inplace=True)\n",
    "\n",
    "print(game_data.shape)\n",
    "game_data.head()"
   ]
  },
  {
   "cell_type": "code",
   "execution_count": 5,
   "metadata": {
    "colab": {
     "base_uri": "https://localhost:8080/",
     "height": 227
    },
    "colab_type": "code",
    "id": "2I-J9R28Zz9s",
    "outputId": "2d817879-ae94-4597-ef1f-a0a6fcd80ffb"
   },
   "outputs": [
    {
     "name": "stdout",
     "output_type": "stream",
     "text": [
      "(6825, 14)\n"
     ]
    },
    {
     "data": {
      "text/html": [
       "<div>\n",
       "<style scoped>\n",
       "    .dataframe tbody tr th:only-of-type {\n",
       "        vertical-align: middle;\n",
       "    }\n",
       "\n",
       "    .dataframe tbody tr th {\n",
       "        vertical-align: top;\n",
       "    }\n",
       "\n",
       "    .dataframe thead th {\n",
       "        text-align: right;\n",
       "    }\n",
       "</style>\n",
       "<table border=\"1\" class=\"dataframe\">\n",
       "  <thead>\n",
       "    <tr style=\"text-align: right;\">\n",
       "      <th></th>\n",
       "      <th>Platform</th>\n",
       "      <th>Year_of_Release</th>\n",
       "      <th>Genre</th>\n",
       "      <th>Publisher</th>\n",
       "      <th>NA_Sales</th>\n",
       "      <th>EU_Sales</th>\n",
       "      <th>JP_Sales</th>\n",
       "      <th>Other_Sales</th>\n",
       "      <th>Critic_Score</th>\n",
       "      <th>Critic_Count</th>\n",
       "      <th>User_Score</th>\n",
       "      <th>User_Count</th>\n",
       "      <th>Developer</th>\n",
       "      <th>Rating</th>\n",
       "    </tr>\n",
       "  </thead>\n",
       "  <tbody>\n",
       "    <tr>\n",
       "      <th>0</th>\n",
       "      <td>Wii</td>\n",
       "      <td>2006.0</td>\n",
       "      <td>Sports</td>\n",
       "      <td>Nintendo</td>\n",
       "      <td>41.36</td>\n",
       "      <td>28.96</td>\n",
       "      <td>3.77</td>\n",
       "      <td>8.45</td>\n",
       "      <td>76.0</td>\n",
       "      <td>51.0</td>\n",
       "      <td>8</td>\n",
       "      <td>322.0</td>\n",
       "      <td>Nintendo</td>\n",
       "      <td>E</td>\n",
       "    </tr>\n",
       "    <tr>\n",
       "      <th>2</th>\n",
       "      <td>Wii</td>\n",
       "      <td>2008.0</td>\n",
       "      <td>Racing</td>\n",
       "      <td>Nintendo</td>\n",
       "      <td>15.68</td>\n",
       "      <td>12.76</td>\n",
       "      <td>3.79</td>\n",
       "      <td>3.29</td>\n",
       "      <td>82.0</td>\n",
       "      <td>73.0</td>\n",
       "      <td>8.3</td>\n",
       "      <td>709.0</td>\n",
       "      <td>Nintendo</td>\n",
       "      <td>E</td>\n",
       "    </tr>\n",
       "    <tr>\n",
       "      <th>3</th>\n",
       "      <td>Wii</td>\n",
       "      <td>2009.0</td>\n",
       "      <td>Sports</td>\n",
       "      <td>Nintendo</td>\n",
       "      <td>15.61</td>\n",
       "      <td>10.93</td>\n",
       "      <td>3.28</td>\n",
       "      <td>2.95</td>\n",
       "      <td>80.0</td>\n",
       "      <td>73.0</td>\n",
       "      <td>8</td>\n",
       "      <td>192.0</td>\n",
       "      <td>Nintendo</td>\n",
       "      <td>E</td>\n",
       "    </tr>\n",
       "    <tr>\n",
       "      <th>6</th>\n",
       "      <td>DS</td>\n",
       "      <td>2006.0</td>\n",
       "      <td>Platform</td>\n",
       "      <td>Nintendo</td>\n",
       "      <td>11.28</td>\n",
       "      <td>9.14</td>\n",
       "      <td>6.50</td>\n",
       "      <td>2.88</td>\n",
       "      <td>89.0</td>\n",
       "      <td>65.0</td>\n",
       "      <td>8.5</td>\n",
       "      <td>431.0</td>\n",
       "      <td>Nintendo</td>\n",
       "      <td>E</td>\n",
       "    </tr>\n",
       "    <tr>\n",
       "      <th>7</th>\n",
       "      <td>Wii</td>\n",
       "      <td>2006.0</td>\n",
       "      <td>Misc</td>\n",
       "      <td>Nintendo</td>\n",
       "      <td>13.96</td>\n",
       "      <td>9.18</td>\n",
       "      <td>2.93</td>\n",
       "      <td>2.84</td>\n",
       "      <td>58.0</td>\n",
       "      <td>41.0</td>\n",
       "      <td>6.6</td>\n",
       "      <td>129.0</td>\n",
       "      <td>Nintendo</td>\n",
       "      <td>E</td>\n",
       "    </tr>\n",
       "  </tbody>\n",
       "</table>\n",
       "</div>"
      ],
      "text/plain": [
       "  Platform  Year_of_Release     Genre Publisher  NA_Sales  EU_Sales  JP_Sales  \\\n",
       "0      Wii           2006.0    Sports  Nintendo     41.36     28.96      3.77   \n",
       "2      Wii           2008.0    Racing  Nintendo     15.68     12.76      3.79   \n",
       "3      Wii           2009.0    Sports  Nintendo     15.61     10.93      3.28   \n",
       "6       DS           2006.0  Platform  Nintendo     11.28      9.14      6.50   \n",
       "7      Wii           2006.0      Misc  Nintendo     13.96      9.18      2.93   \n",
       "\n",
       "   Other_Sales  Critic_Score  Critic_Count User_Score  User_Count Developer  \\\n",
       "0         8.45          76.0          51.0          8       322.0  Nintendo   \n",
       "2         3.29          82.0          73.0        8.3       709.0  Nintendo   \n",
       "3         2.95          80.0          73.0          8       192.0  Nintendo   \n",
       "6         2.88          89.0          65.0        8.5       431.0  Nintendo   \n",
       "7         2.84          58.0          41.0        6.6       129.0  Nintendo   \n",
       "\n",
       "  Rating  \n",
       "0      E  \n",
       "2      E  \n",
       "3      E  \n",
       "6      E  \n",
       "7      E  "
      ]
     },
     "execution_count": 5,
     "metadata": {},
     "output_type": "execute_result"
    }
   ],
   "source": [
    "# Drop \"Global_Sales\" column as it is a redundant feature - it's just sum of regional and other sales\n",
    "game_data.drop([\"Global_Sales\"], axis=1, inplace=True)\n",
    "\n",
    "print(game_data.shape)\n",
    "game_data.head()"
   ]
  },
  {
   "cell_type": "code",
   "execution_count": 6,
   "metadata": {
    "colab": {},
    "colab_type": "code",
    "id": "WtPJazV4Zz9x"
   },
   "outputs": [],
   "source": [
    "# Get feature vector X (all columns but \"Rating\") and target label y as \"Rating\"\n",
    "X = game_data.drop(['Rating'], axis=1)\n",
    "y = game_data['Rating']"
   ]
  },
  {
   "cell_type": "markdown",
   "metadata": {
    "colab_type": "text",
    "id": "07sJ-EnUZz92"
   },
   "source": [
    "> You can resort the row indices but it's not necessary."
   ]
  },
  {
   "cell_type": "code",
   "execution_count": 7,
   "metadata": {
    "colab": {
     "base_uri": "https://localhost:8080/",
     "height": 207
    },
    "colab_type": "code",
    "id": "lQE7hTwTZz94",
    "outputId": "3238522d-964f-4e25-814b-8e6dc1e07089"
   },
   "outputs": [
    {
     "name": "stdout",
     "output_type": "stream",
     "text": [
      "(6825, 13)\n"
     ]
    },
    {
     "data": {
      "text/html": [
       "<div>\n",
       "<style scoped>\n",
       "    .dataframe tbody tr th:only-of-type {\n",
       "        vertical-align: middle;\n",
       "    }\n",
       "\n",
       "    .dataframe tbody tr th {\n",
       "        vertical-align: top;\n",
       "    }\n",
       "\n",
       "    .dataframe thead th {\n",
       "        text-align: right;\n",
       "    }\n",
       "</style>\n",
       "<table border=\"1\" class=\"dataframe\">\n",
       "  <thead>\n",
       "    <tr style=\"text-align: right;\">\n",
       "      <th></th>\n",
       "      <th>Platform</th>\n",
       "      <th>Year_of_Release</th>\n",
       "      <th>Genre</th>\n",
       "      <th>Publisher</th>\n",
       "      <th>NA_Sales</th>\n",
       "      <th>EU_Sales</th>\n",
       "      <th>JP_Sales</th>\n",
       "      <th>Other_Sales</th>\n",
       "      <th>Critic_Score</th>\n",
       "      <th>Critic_Count</th>\n",
       "      <th>User_Score</th>\n",
       "      <th>User_Count</th>\n",
       "      <th>Developer</th>\n",
       "    </tr>\n",
       "  </thead>\n",
       "  <tbody>\n",
       "    <tr>\n",
       "      <th>0</th>\n",
       "      <td>Wii</td>\n",
       "      <td>2006.0</td>\n",
       "      <td>Sports</td>\n",
       "      <td>Nintendo</td>\n",
       "      <td>41.36</td>\n",
       "      <td>28.96</td>\n",
       "      <td>3.77</td>\n",
       "      <td>8.45</td>\n",
       "      <td>76.0</td>\n",
       "      <td>51.0</td>\n",
       "      <td>8</td>\n",
       "      <td>322.0</td>\n",
       "      <td>Nintendo</td>\n",
       "    </tr>\n",
       "    <tr>\n",
       "      <th>2</th>\n",
       "      <td>Wii</td>\n",
       "      <td>2008.0</td>\n",
       "      <td>Racing</td>\n",
       "      <td>Nintendo</td>\n",
       "      <td>15.68</td>\n",
       "      <td>12.76</td>\n",
       "      <td>3.79</td>\n",
       "      <td>3.29</td>\n",
       "      <td>82.0</td>\n",
       "      <td>73.0</td>\n",
       "      <td>8.3</td>\n",
       "      <td>709.0</td>\n",
       "      <td>Nintendo</td>\n",
       "    </tr>\n",
       "    <tr>\n",
       "      <th>3</th>\n",
       "      <td>Wii</td>\n",
       "      <td>2009.0</td>\n",
       "      <td>Sports</td>\n",
       "      <td>Nintendo</td>\n",
       "      <td>15.61</td>\n",
       "      <td>10.93</td>\n",
       "      <td>3.28</td>\n",
       "      <td>2.95</td>\n",
       "      <td>80.0</td>\n",
       "      <td>73.0</td>\n",
       "      <td>8</td>\n",
       "      <td>192.0</td>\n",
       "      <td>Nintendo</td>\n",
       "    </tr>\n",
       "    <tr>\n",
       "      <th>6</th>\n",
       "      <td>DS</td>\n",
       "      <td>2006.0</td>\n",
       "      <td>Platform</td>\n",
       "      <td>Nintendo</td>\n",
       "      <td>11.28</td>\n",
       "      <td>9.14</td>\n",
       "      <td>6.50</td>\n",
       "      <td>2.88</td>\n",
       "      <td>89.0</td>\n",
       "      <td>65.0</td>\n",
       "      <td>8.5</td>\n",
       "      <td>431.0</td>\n",
       "      <td>Nintendo</td>\n",
       "    </tr>\n",
       "    <tr>\n",
       "      <th>7</th>\n",
       "      <td>Wii</td>\n",
       "      <td>2006.0</td>\n",
       "      <td>Misc</td>\n",
       "      <td>Nintendo</td>\n",
       "      <td>13.96</td>\n",
       "      <td>9.18</td>\n",
       "      <td>2.93</td>\n",
       "      <td>2.84</td>\n",
       "      <td>58.0</td>\n",
       "      <td>41.0</td>\n",
       "      <td>6.6</td>\n",
       "      <td>129.0</td>\n",
       "      <td>Nintendo</td>\n",
       "    </tr>\n",
       "  </tbody>\n",
       "</table>\n",
       "</div>"
      ],
      "text/plain": [
       "  Platform  Year_of_Release     Genre Publisher  NA_Sales  EU_Sales  JP_Sales  \\\n",
       "0      Wii           2006.0    Sports  Nintendo     41.36     28.96      3.77   \n",
       "2      Wii           2008.0    Racing  Nintendo     15.68     12.76      3.79   \n",
       "3      Wii           2009.0    Sports  Nintendo     15.61     10.93      3.28   \n",
       "6       DS           2006.0  Platform  Nintendo     11.28      9.14      6.50   \n",
       "7      Wii           2006.0      Misc  Nintendo     13.96      9.18      2.93   \n",
       "\n",
       "   Other_Sales  Critic_Score  Critic_Count User_Score  User_Count Developer  \n",
       "0         8.45          76.0          51.0          8       322.0  Nintendo  \n",
       "2         3.29          82.0          73.0        8.3       709.0  Nintendo  \n",
       "3         2.95          80.0          73.0          8       192.0  Nintendo  \n",
       "6         2.88          89.0          65.0        8.5       431.0  Nintendo  \n",
       "7         2.84          58.0          41.0        6.6       129.0  Nintendo  "
      ]
     },
     "execution_count": 7,
     "metadata": {},
     "output_type": "execute_result"
    }
   ],
   "source": [
    "# Print X shape and head\n",
    "print(X.shape)\n",
    "X.head()"
   ]
  },
  {
   "cell_type": "markdown",
   "metadata": {
    "colab_type": "text",
    "id": "AHwrN0LhZz-A"
   },
   "source": [
    "> Since some of the features are categorical, we need to convert them to numerical. One common technique is One-Hot Encoding which creates dummy variables. You can see some simple examples of one-hot encoding [here](https://pandas.pydata.org/pandas-docs/stable/reference/api/pandas.get_dummies.html)."
   ]
  },
  {
   "cell_type": "code",
   "execution_count": 8,
   "metadata": {
    "colab": {
     "base_uri": "https://localhost:8080/",
     "height": 303
    },
    "colab_type": "code",
    "id": "TZwQuosWZz-C",
    "outputId": "ffaea6e0-5427-4718-c83a-fa39e32bb870"
   },
   "outputs": [
    {
     "name": "stdout",
     "output_type": "stream",
     "text": [
      "(6825, 1677)\n"
     ]
    },
    {
     "data": {
      "text/html": [
       "<div>\n",
       "<style scoped>\n",
       "    .dataframe tbody tr th:only-of-type {\n",
       "        vertical-align: middle;\n",
       "    }\n",
       "\n",
       "    .dataframe tbody tr th {\n",
       "        vertical-align: top;\n",
       "    }\n",
       "\n",
       "    .dataframe thead th {\n",
       "        text-align: right;\n",
       "    }\n",
       "</style>\n",
       "<table border=\"1\" class=\"dataframe\">\n",
       "  <thead>\n",
       "    <tr style=\"text-align: right;\">\n",
       "      <th></th>\n",
       "      <th>Year_of_Release</th>\n",
       "      <th>NA_Sales</th>\n",
       "      <th>EU_Sales</th>\n",
       "      <th>JP_Sales</th>\n",
       "      <th>Other_Sales</th>\n",
       "      <th>Critic_Score</th>\n",
       "      <th>Critic_Count</th>\n",
       "      <th>User_Count</th>\n",
       "      <th>Platform_3DS</th>\n",
       "      <th>Platform_DC</th>\n",
       "      <th>...</th>\n",
       "      <th>Developer_h.a.n.d. Inc.</th>\n",
       "      <th>Developer_iNiS</th>\n",
       "      <th>Developer_id Software</th>\n",
       "      <th>Developer_id Software, Nerve Software</th>\n",
       "      <th>Developer_id Software, Raven Software</th>\n",
       "      <th>Developer_n-Space</th>\n",
       "      <th>Developer_neo Software</th>\n",
       "      <th>Developer_odenis studio</th>\n",
       "      <th>Developer_syn Sophia</th>\n",
       "      <th>Developer_zSlide</th>\n",
       "    </tr>\n",
       "  </thead>\n",
       "  <tbody>\n",
       "    <tr>\n",
       "      <th>0</th>\n",
       "      <td>2006.0</td>\n",
       "      <td>41.36</td>\n",
       "      <td>28.96</td>\n",
       "      <td>3.77</td>\n",
       "      <td>8.45</td>\n",
       "      <td>76.0</td>\n",
       "      <td>51.0</td>\n",
       "      <td>322.0</td>\n",
       "      <td>0</td>\n",
       "      <td>0</td>\n",
       "      <td>...</td>\n",
       "      <td>0</td>\n",
       "      <td>0</td>\n",
       "      <td>0</td>\n",
       "      <td>0</td>\n",
       "      <td>0</td>\n",
       "      <td>0</td>\n",
       "      <td>0</td>\n",
       "      <td>0</td>\n",
       "      <td>0</td>\n",
       "      <td>0</td>\n",
       "    </tr>\n",
       "    <tr>\n",
       "      <th>2</th>\n",
       "      <td>2008.0</td>\n",
       "      <td>15.68</td>\n",
       "      <td>12.76</td>\n",
       "      <td>3.79</td>\n",
       "      <td>3.29</td>\n",
       "      <td>82.0</td>\n",
       "      <td>73.0</td>\n",
       "      <td>709.0</td>\n",
       "      <td>0</td>\n",
       "      <td>0</td>\n",
       "      <td>...</td>\n",
       "      <td>0</td>\n",
       "      <td>0</td>\n",
       "      <td>0</td>\n",
       "      <td>0</td>\n",
       "      <td>0</td>\n",
       "      <td>0</td>\n",
       "      <td>0</td>\n",
       "      <td>0</td>\n",
       "      <td>0</td>\n",
       "      <td>0</td>\n",
       "    </tr>\n",
       "    <tr>\n",
       "      <th>3</th>\n",
       "      <td>2009.0</td>\n",
       "      <td>15.61</td>\n",
       "      <td>10.93</td>\n",
       "      <td>3.28</td>\n",
       "      <td>2.95</td>\n",
       "      <td>80.0</td>\n",
       "      <td>73.0</td>\n",
       "      <td>192.0</td>\n",
       "      <td>0</td>\n",
       "      <td>0</td>\n",
       "      <td>...</td>\n",
       "      <td>0</td>\n",
       "      <td>0</td>\n",
       "      <td>0</td>\n",
       "      <td>0</td>\n",
       "      <td>0</td>\n",
       "      <td>0</td>\n",
       "      <td>0</td>\n",
       "      <td>0</td>\n",
       "      <td>0</td>\n",
       "      <td>0</td>\n",
       "    </tr>\n",
       "    <tr>\n",
       "      <th>6</th>\n",
       "      <td>2006.0</td>\n",
       "      <td>11.28</td>\n",
       "      <td>9.14</td>\n",
       "      <td>6.50</td>\n",
       "      <td>2.88</td>\n",
       "      <td>89.0</td>\n",
       "      <td>65.0</td>\n",
       "      <td>431.0</td>\n",
       "      <td>0</td>\n",
       "      <td>0</td>\n",
       "      <td>...</td>\n",
       "      <td>0</td>\n",
       "      <td>0</td>\n",
       "      <td>0</td>\n",
       "      <td>0</td>\n",
       "      <td>0</td>\n",
       "      <td>0</td>\n",
       "      <td>0</td>\n",
       "      <td>0</td>\n",
       "      <td>0</td>\n",
       "      <td>0</td>\n",
       "    </tr>\n",
       "    <tr>\n",
       "      <th>7</th>\n",
       "      <td>2006.0</td>\n",
       "      <td>13.96</td>\n",
       "      <td>9.18</td>\n",
       "      <td>2.93</td>\n",
       "      <td>2.84</td>\n",
       "      <td>58.0</td>\n",
       "      <td>41.0</td>\n",
       "      <td>129.0</td>\n",
       "      <td>0</td>\n",
       "      <td>0</td>\n",
       "      <td>...</td>\n",
       "      <td>0</td>\n",
       "      <td>0</td>\n",
       "      <td>0</td>\n",
       "      <td>0</td>\n",
       "      <td>0</td>\n",
       "      <td>0</td>\n",
       "      <td>0</td>\n",
       "      <td>0</td>\n",
       "      <td>0</td>\n",
       "      <td>0</td>\n",
       "    </tr>\n",
       "  </tbody>\n",
       "</table>\n",
       "<p>5 rows × 1677 columns</p>\n",
       "</div>"
      ],
      "text/plain": [
       "   Year_of_Release  NA_Sales  EU_Sales  JP_Sales  Other_Sales  Critic_Score  \\\n",
       "0           2006.0     41.36     28.96      3.77         8.45          76.0   \n",
       "2           2008.0     15.68     12.76      3.79         3.29          82.0   \n",
       "3           2009.0     15.61     10.93      3.28         2.95          80.0   \n",
       "6           2006.0     11.28      9.14      6.50         2.88          89.0   \n",
       "7           2006.0     13.96      9.18      2.93         2.84          58.0   \n",
       "\n",
       "   Critic_Count  User_Count  Platform_3DS  Platform_DC  ...  \\\n",
       "0          51.0       322.0             0            0  ...   \n",
       "2          73.0       709.0             0            0  ...   \n",
       "3          73.0       192.0             0            0  ...   \n",
       "6          65.0       431.0             0            0  ...   \n",
       "7          41.0       129.0             0            0  ...   \n",
       "\n",
       "   Developer_h.a.n.d. Inc.  Developer_iNiS  Developer_id Software  \\\n",
       "0                        0               0                      0   \n",
       "2                        0               0                      0   \n",
       "3                        0               0                      0   \n",
       "6                        0               0                      0   \n",
       "7                        0               0                      0   \n",
       "\n",
       "   Developer_id Software, Nerve Software  \\\n",
       "0                                      0   \n",
       "2                                      0   \n",
       "3                                      0   \n",
       "6                                      0   \n",
       "7                                      0   \n",
       "\n",
       "   Developer_id Software, Raven Software  Developer_n-Space  \\\n",
       "0                                      0                  0   \n",
       "2                                      0                  0   \n",
       "3                                      0                  0   \n",
       "6                                      0                  0   \n",
       "7                                      0                  0   \n",
       "\n",
       "   Developer_neo Software  Developer_odenis studio  Developer_syn Sophia  \\\n",
       "0                       0                        0                     0   \n",
       "2                       0                        0                     0   \n",
       "3                       0                        0                     0   \n",
       "6                       0                        0                     0   \n",
       "7                       0                        0                     0   \n",
       "\n",
       "   Developer_zSlide  \n",
       "0                 0  \n",
       "2                 0  \n",
       "3                 0  \n",
       "6                 0  \n",
       "7                 0  \n",
       "\n",
       "[5 rows x 1677 columns]"
      ]
     },
     "execution_count": 8,
     "metadata": {},
     "output_type": "execute_result"
    }
   ],
   "source": [
    "# Using pandas.get_dummies() create dummy variables for categorical features (needs 1 line of code only)\n",
    "X = pd.get_dummies(X)\n",
    "\n",
    "print(X.shape)\n",
    "X.head()"
   ]
  },
  {
   "cell_type": "code",
   "execution_count": 9,
   "metadata": {
    "colab": {
     "base_uri": "https://localhost:8080/",
     "height": 147
    },
    "colab_type": "code",
    "id": "ARfMs57MZz-I",
    "outputId": "51af708f-8f21-4887-9120-e72949f68859"
   },
   "outputs": [
    {
     "name": "stdout",
     "output_type": "stream",
     "text": [
      "(6825,)\n",
      "['E' 'M' 'T' 'E10+' 'AO' 'K-A' 'RP']\n"
     ]
    },
    {
     "data": {
      "text/plain": [
       "0    E\n",
       "2    E\n",
       "3    E\n",
       "6    E\n",
       "7    E\n",
       "Name: Rating, dtype: object"
      ]
     },
     "execution_count": 9,
     "metadata": {},
     "output_type": "execute_result"
    }
   ],
   "source": [
    "# Print y shape and head and its unique values\n",
    "print(y.shape)\n",
    "print(y.unique())\n",
    "y.head()"
   ]
  },
  {
   "cell_type": "markdown",
   "metadata": {
    "colab_type": "text",
    "id": "s19vktdYZz-N"
   },
   "source": [
    "> You must convert your categorical labels/classes to numerical from 0 to 6. In Assignment-1, you used scikit-learn to do it. Here is another useful technique provided to you using `map` and `lambda` for conversion and the output type will be preserved as pandas series. NOTE: Your ourput should precisely match with the provided output."
   ]
  },
  {
   "cell_type": "code",
   "execution_count": 10,
   "metadata": {
    "colab": {
     "base_uri": "https://localhost:8080/",
     "height": 163
    },
    "colab_type": "code",
    "id": "Pypg_tMFZz-O",
    "outputId": "5648cd36-f6c2-4fa4-e896-be0bf5700ecd"
   },
   "outputs": [
    {
     "name": "stdout",
     "output_type": "stream",
     "text": [
      "[0 3 2 1 4 5 6]\n",
      "(6825,)\n",
      "<class 'pandas.core.series.Series'>\n"
     ]
    },
    {
     "data": {
      "text/plain": [
       "0    0\n",
       "2    0\n",
       "3    0\n",
       "6    0\n",
       "7    0\n",
       "Name: Rating, dtype: int64"
      ]
     },
     "execution_count": 10,
     "metadata": {},
     "output_type": "execute_result"
    }
   ],
   "source": [
    "# Convert categorical class labels to numerical\n",
    "y = y.map(lambda x: {'E' :0, 'E10+' :1, 'T' :2, 'M' :3, 'AO' :4, 'K-A' :5, 'RP' :6}.get(x))\n",
    "\n",
    "print(y.unique())\n",
    "print(y.shape)\n",
    "print(type(y))\n",
    "y.head()"
   ]
  },
  {
   "cell_type": "markdown",
   "metadata": {
    "colab_type": "text",
    "id": "2Hj1tXx-Zz-S"
   },
   "source": [
    "> <b>Note:</b> The output of the following cell is provided to you for your reference. All the following cells depend on the correctness of your preprocessing steps and can be verified by this output."
   ]
  },
  {
   "cell_type": "code",
   "execution_count": 11,
   "metadata": {
    "colab": {
     "base_uri": "https://localhost:8080/",
     "height": 303
    },
    "colab_type": "code",
    "id": "FIp7dQ51Zz-U",
    "outputId": "10167a84-4b1b-4a93-f86b-15a3c7f6c1f9"
   },
   "outputs": [
    {
     "name": "stdout",
     "output_type": "stream",
     "text": [
      "(6825, 1677)\n"
     ]
    },
    {
     "data": {
      "text/html": [
       "<div>\n",
       "<style scoped>\n",
       "    .dataframe tbody tr th:only-of-type {\n",
       "        vertical-align: middle;\n",
       "    }\n",
       "\n",
       "    .dataframe tbody tr th {\n",
       "        vertical-align: top;\n",
       "    }\n",
       "\n",
       "    .dataframe thead th {\n",
       "        text-align: right;\n",
       "    }\n",
       "</style>\n",
       "<table border=\"1\" class=\"dataframe\">\n",
       "  <thead>\n",
       "    <tr style=\"text-align: right;\">\n",
       "      <th></th>\n",
       "      <th>Year_of_Release</th>\n",
       "      <th>NA_Sales</th>\n",
       "      <th>EU_Sales</th>\n",
       "      <th>JP_Sales</th>\n",
       "      <th>Other_Sales</th>\n",
       "      <th>Critic_Score</th>\n",
       "      <th>Critic_Count</th>\n",
       "      <th>User_Count</th>\n",
       "      <th>Platform_3DS</th>\n",
       "      <th>Platform_DC</th>\n",
       "      <th>...</th>\n",
       "      <th>Developer_h.a.n.d. Inc.</th>\n",
       "      <th>Developer_iNiS</th>\n",
       "      <th>Developer_id Software</th>\n",
       "      <th>Developer_id Software, Nerve Software</th>\n",
       "      <th>Developer_id Software, Raven Software</th>\n",
       "      <th>Developer_n-Space</th>\n",
       "      <th>Developer_neo Software</th>\n",
       "      <th>Developer_odenis studio</th>\n",
       "      <th>Developer_syn Sophia</th>\n",
       "      <th>Developer_zSlide</th>\n",
       "    </tr>\n",
       "  </thead>\n",
       "  <tbody>\n",
       "    <tr>\n",
       "      <th>0</th>\n",
       "      <td>-0.341201</td>\n",
       "      <td>42.349741</td>\n",
       "      <td>41.793631</td>\n",
       "      <td>12.887711</td>\n",
       "      <td>31.007176</td>\n",
       "      <td>0.413044</td>\n",
       "      <td>1.148059</td>\n",
       "      <td>0.250734</td>\n",
       "      <td>-0.152441</td>\n",
       "      <td>-0.045338</td>\n",
       "      <td>...</td>\n",
       "      <td>-0.029663</td>\n",
       "      <td>-0.024216</td>\n",
       "      <td>-0.034257</td>\n",
       "      <td>-0.012105</td>\n",
       "      <td>-0.02097</td>\n",
       "      <td>-0.043685</td>\n",
       "      <td>-0.012105</td>\n",
       "      <td>-0.012105</td>\n",
       "      <td>-0.017121</td>\n",
       "      <td>-0.012105</td>\n",
       "    </tr>\n",
       "    <tr>\n",
       "      <th>2</th>\n",
       "      <td>0.133752</td>\n",
       "      <td>15.802014</td>\n",
       "      <td>18.222438</td>\n",
       "      <td>12.957265</td>\n",
       "      <td>11.885525</td>\n",
       "      <td>0.845709</td>\n",
       "      <td>2.292536</td>\n",
       "      <td>0.909586</td>\n",
       "      <td>-0.152441</td>\n",
       "      <td>-0.045338</td>\n",
       "      <td>...</td>\n",
       "      <td>-0.029663</td>\n",
       "      <td>-0.024216</td>\n",
       "      <td>-0.034257</td>\n",
       "      <td>-0.012105</td>\n",
       "      <td>-0.02097</td>\n",
       "      <td>-0.043685</td>\n",
       "      <td>-0.012105</td>\n",
       "      <td>-0.012105</td>\n",
       "      <td>-0.017121</td>\n",
       "      <td>-0.012105</td>\n",
       "    </tr>\n",
       "    <tr>\n",
       "      <th>3</th>\n",
       "      <td>0.371229</td>\n",
       "      <td>15.729649</td>\n",
       "      <td>15.559767</td>\n",
       "      <td>11.183651</td>\n",
       "      <td>10.625572</td>\n",
       "      <td>0.701487</td>\n",
       "      <td>2.292536</td>\n",
       "      <td>0.029415</td>\n",
       "      <td>-0.152441</td>\n",
       "      <td>-0.045338</td>\n",
       "      <td>...</td>\n",
       "      <td>-0.029663</td>\n",
       "      <td>-0.024216</td>\n",
       "      <td>-0.034257</td>\n",
       "      <td>-0.012105</td>\n",
       "      <td>-0.02097</td>\n",
       "      <td>-0.043685</td>\n",
       "      <td>-0.012105</td>\n",
       "      <td>-0.012105</td>\n",
       "      <td>-0.017121</td>\n",
       "      <td>-0.012105</td>\n",
       "    </tr>\n",
       "    <tr>\n",
       "      <th>6</th>\n",
       "      <td>-0.341201</td>\n",
       "      <td>11.253338</td>\n",
       "      <td>12.955296</td>\n",
       "      <td>22.381762</td>\n",
       "      <td>10.366169</td>\n",
       "      <td>1.350484</td>\n",
       "      <td>1.876363</td>\n",
       "      <td>0.436302</td>\n",
       "      <td>-0.152441</td>\n",
       "      <td>-0.045338</td>\n",
       "      <td>...</td>\n",
       "      <td>-0.029663</td>\n",
       "      <td>-0.024216</td>\n",
       "      <td>-0.034257</td>\n",
       "      <td>-0.012105</td>\n",
       "      <td>-0.02097</td>\n",
       "      <td>-0.043685</td>\n",
       "      <td>-0.012105</td>\n",
       "      <td>-0.012105</td>\n",
       "      <td>-0.017121</td>\n",
       "      <td>-0.012105</td>\n",
       "    </tr>\n",
       "    <tr>\n",
       "      <th>7</th>\n",
       "      <td>-0.341201</td>\n",
       "      <td>14.023895</td>\n",
       "      <td>13.013496</td>\n",
       "      <td>9.966465</td>\n",
       "      <td>10.217939</td>\n",
       "      <td>-0.884950</td>\n",
       "      <td>0.627843</td>\n",
       "      <td>-0.077840</td>\n",
       "      <td>-0.152441</td>\n",
       "      <td>-0.045338</td>\n",
       "      <td>...</td>\n",
       "      <td>-0.029663</td>\n",
       "      <td>-0.024216</td>\n",
       "      <td>-0.034257</td>\n",
       "      <td>-0.012105</td>\n",
       "      <td>-0.02097</td>\n",
       "      <td>-0.043685</td>\n",
       "      <td>-0.012105</td>\n",
       "      <td>-0.012105</td>\n",
       "      <td>-0.017121</td>\n",
       "      <td>-0.012105</td>\n",
       "    </tr>\n",
       "  </tbody>\n",
       "</table>\n",
       "<p>5 rows × 1677 columns</p>\n",
       "</div>"
      ],
      "text/plain": [
       "   Year_of_Release   NA_Sales   EU_Sales   JP_Sales  Other_Sales  \\\n",
       "0        -0.341201  42.349741  41.793631  12.887711    31.007176   \n",
       "2         0.133752  15.802014  18.222438  12.957265    11.885525   \n",
       "3         0.371229  15.729649  15.559767  11.183651    10.625572   \n",
       "6        -0.341201  11.253338  12.955296  22.381762    10.366169   \n",
       "7        -0.341201  14.023895  13.013496   9.966465    10.217939   \n",
       "\n",
       "   Critic_Score  Critic_Count  User_Count  Platform_3DS  Platform_DC  ...  \\\n",
       "0      0.413044      1.148059    0.250734     -0.152441    -0.045338  ...   \n",
       "2      0.845709      2.292536    0.909586     -0.152441    -0.045338  ...   \n",
       "3      0.701487      2.292536    0.029415     -0.152441    -0.045338  ...   \n",
       "6      1.350484      1.876363    0.436302     -0.152441    -0.045338  ...   \n",
       "7     -0.884950      0.627843   -0.077840     -0.152441    -0.045338  ...   \n",
       "\n",
       "   Developer_h.a.n.d. Inc.  Developer_iNiS  Developer_id Software  \\\n",
       "0                -0.029663       -0.024216              -0.034257   \n",
       "2                -0.029663       -0.024216              -0.034257   \n",
       "3                -0.029663       -0.024216              -0.034257   \n",
       "6                -0.029663       -0.024216              -0.034257   \n",
       "7                -0.029663       -0.024216              -0.034257   \n",
       "\n",
       "   Developer_id Software, Nerve Software  \\\n",
       "0                              -0.012105   \n",
       "2                              -0.012105   \n",
       "3                              -0.012105   \n",
       "6                              -0.012105   \n",
       "7                              -0.012105   \n",
       "\n",
       "   Developer_id Software, Raven Software  Developer_n-Space  \\\n",
       "0                               -0.02097          -0.043685   \n",
       "2                               -0.02097          -0.043685   \n",
       "3                               -0.02097          -0.043685   \n",
       "6                               -0.02097          -0.043685   \n",
       "7                               -0.02097          -0.043685   \n",
       "\n",
       "   Developer_neo Software  Developer_odenis studio  Developer_syn Sophia  \\\n",
       "0               -0.012105                -0.012105             -0.017121   \n",
       "2               -0.012105                -0.012105             -0.017121   \n",
       "3               -0.012105                -0.012105             -0.017121   \n",
       "6               -0.012105                -0.012105             -0.017121   \n",
       "7               -0.012105                -0.012105             -0.017121   \n",
       "\n",
       "   Developer_zSlide  \n",
       "0         -0.012105  \n",
       "2         -0.012105  \n",
       "3         -0.012105  \n",
       "6         -0.012105  \n",
       "7         -0.012105  \n",
       "\n",
       "[5 rows x 1677 columns]"
      ]
     },
     "execution_count": 11,
     "metadata": {},
     "output_type": "execute_result"
    }
   ],
   "source": [
    "# Normalize X using mean() and std()  NOTE: The output is provided for your reference.\n",
    "\n",
    "Xm = np.mean(X, axis = 0)\n",
    "Xs = np.std(X, axis = 0)\n",
    "X = (X - Xm) / Xs\n",
    "\n",
    "print(X.shape)\n",
    "X.head()"
   ]
  },
  {
   "cell_type": "code",
   "execution_count": 12,
   "metadata": {
    "colab": {
     "base_uri": "https://localhost:8080/",
     "height": 82
    },
    "colab_type": "code",
    "id": "k8Ye0VQvZz-Y",
    "outputId": "de6ad73c-327f-4598-9ec6-39f15cac96f5"
   },
   "outputs": [
    {
     "name": "stdout",
     "output_type": "stream",
     "text": [
      "(5460, 1677)\n",
      "(5460,)\n",
      "(1365, 1677)\n",
      "(1365,)\n"
     ]
    }
   ],
   "source": [
    "# Split the data to train and test with ratio of 80/20 for train/test respectively\n",
    "X_train, X_test, y_train, y_test = train_test_split(X, y, test_size=0.2)\n",
    "\n",
    "print(X_train.shape)\n",
    "print(y_train.shape)\n",
    "print(X_test.shape)\n",
    "print(y_test.shape)"
   ]
  },
  {
   "cell_type": "markdown",
   "metadata": {
    "colab_type": "text",
    "id": "nexVY21NZz-f"
   },
   "source": [
    "## Part II - Multi-Class Classification Using Random Forests"
   ]
  },
  {
   "cell_type": "markdown",
   "metadata": {
    "colab_type": "text",
    "id": "N4S5EkLQZz-g"
   },
   "source": [
    "Next, you're going to build classifiers. Some classifiers like [Random Forests in sklearn](https://scikit-learn.org/stable/modules/generated/sklearn.ensemble.RandomForestClassifier.html) can directly be applied on multi-class classification, so let's try RF first.\n",
    "\n",
    "You may start with default hyperparameters, but you should definitely fine-tune them as described in the following cell to achieve at least 0.65 for mean cv score. Your cv score should use `accuracy` as its metric. Also notice that - as discussed in the lectures - you must apply `cross_val_score` on the whole dataset (not just on training or testing set). You may see the full documentation of `cross_val_score` [here](https://scikit-learn.org/stable/modules/generated/sklearn.model_selection.cross_val_score.html).\n",
    "\n",
    "> Note: Depending on the speed of your computer and the hyperparameter values you choose, running this cell may take a few minutes."
   ]
  },
  {
   "cell_type": "code",
   "execution_count": 13,
   "metadata": {
    "colab": {},
    "colab_type": "code",
    "id": "DeBysQalZz-h"
   },
   "outputs": [],
   "source": [
    "# Create a RandomForestClassifier - You may start with default hyperparameters,\n",
    "# but you should fine-tune them to achieve at least 0.65 for mean cv score\n",
    "rf_clf = RandomForestClassifier(n_jobs=-1, random_state=42)"
   ]
  },
  {
   "cell_type": "code",
   "execution_count": 14,
   "metadata": {
    "colab": {
     "base_uri": "https://localhost:8080/",
     "height": 33
    },
    "colab_type": "code",
    "id": "5F5ipVoBZz-m",
    "outputId": "4a9cd5e3-b217-4208-b3ae-d23fb7cec80f"
   },
   "outputs": [
    {
     "name": "stdout",
     "output_type": "stream",
     "text": [
      "Mean cv Score - Random Forest:  0.6783663155906107\n"
     ]
    }
   ],
   "source": [
    "# Perform a 10-fold cross validation\n",
    "# Hint: cross validation should be done on the whole dataset\n",
    "rf_cv_score = (cross_val_score(rf_clf, X, y, cv=10, n_jobs=-1))\n",
    "\n",
    "print(\"Mean cv Score - Random Forest: \", rf_cv_score.mean())"
   ]
  },
  {
   "cell_type": "markdown",
   "metadata": {
    "colab_type": "text",
    "id": "XzzK91rrZz-q"
   },
   "source": [
    "> Next, you're going to fine-tune your rf classifier based on `n_estimators` hyperparameter. Depending on your computer speed, this may take a long time. Read the comments in the following cell, and plot the impact of n_estimators on mean cv scores. To make it a bit faster, you're going to change cv to 5-fold. cv `scoring` will still be `accuracy`."
   ]
  },
  {
   "cell_type": "code",
   "execution_count": 15,
   "metadata": {
    "colab": {
     "base_uri": "https://localhost:8080/",
     "height": 312
    },
    "colab_type": "code",
    "id": "kOgYM9-MZz-r",
    "outputId": "af39f8d9-dfd1-4aa3-80a8-2960473183ae"
   },
   "outputs": [
    {
     "data": {
      "text/plain": [
       "Text(0, 0.5, 'rf_mean_cv_score')"
      ]
     },
     "execution_count": 15,
     "metadata": {},
     "output_type": "execute_result"
    },
    {
     "data": {
      "image/png": "[encoded data removed]",
      "text/plain": [
       "<Figure size 432x288 with 1 Axes>"
      ]
     },
     "metadata": {
      "needs_background": "light"
     },
     "output_type": "display_data"
    }
   ],
   "source": [
    "# Now fine-tune n_estimators hyperparameter as follows:\n",
    "\n",
    "# 1- Write a for loop that iterates over n_estimators from 1 to 100\n",
    "# 2- In each iteration, do 5-fold cv and calculate rf_cv_score.mean()\n",
    "# and append it to the list rf_mean_cv_scores\n",
    "# 3- Finally, plot rf_mean_cv_scores on y-axis versus n_est_list on x-axis\n",
    "# Your plot should have title \"Fine-tuning n_estimators\", and label for each axis\n",
    "# Incomplete plots will get ZERO credit!\n",
    "\n",
    "# NOTE: Depending on your computer speed, running this may take well more than an hour or even several hours!\n",
    "\n",
    "rf_mean_cv_scores = []\n",
    "n_est_list = range(1, 100)\n",
    "for n in n_est_list:\n",
    "  rf_clf_ft = RandomForestClassifier(n_estimators=n, n_jobs=-1)\n",
    "  rf_cv_score = (cross_val_score(rf_clf_ft, X, y, cv=5, n_jobs=-1))\n",
    "  rf_mean_cv_scores.append(rf_cv_score.mean())\n",
    "\n",
    "plt.plot(n_est_list, rf_mean_cv_scores, '.')\n",
    "plt.title('Fine-tuning n_estimators')\n",
    "plt.xlabel('n_est')\n",
    "plt.ylabel('rf_mean_cv_score')"
   ]
  },
  {
   "cell_type": "code",
   "execution_count": 16,
   "metadata": {
    "colab": {
     "base_uri": "https://localhost:8080/",
     "height": 147
    },
    "colab_type": "code",
    "id": "Xm3UfKkYZz-v",
    "outputId": "0604431b-efb7-43f9-cc7b-8ec77c313301"
   },
   "outputs": [
    {
     "data": {
      "text/plain": [
       "RandomForestClassifier(bootstrap=True, ccp_alpha=0.0, class_weight=None,\n",
       "                       criterion='gini', max_depth=None, max_features='auto',\n",
       "                       max_leaf_nodes=None, max_samples=None,\n",
       "                       min_impurity_decrease=0.0, min_impurity_split=None,\n",
       "                       min_samples_leaf=1, min_samples_split=2,\n",
       "                       min_weight_fraction_leaf=0.0, n_estimators=100,\n",
       "                       n_jobs=-1, oob_score=False, random_state=42, verbose=0,\n",
       "                       warm_start=False)"
      ]
     },
     "execution_count": 16,
     "metadata": {},
     "output_type": "execute_result"
    }
   ],
   "source": [
    "# Fit the rf_clf on the training set\n",
    "rf_clf.fit(X_train, y_train)"
   ]
  },
  {
   "cell_type": "code",
   "execution_count": 17,
   "metadata": {
    "colab": {
     "base_uri": "https://localhost:8080/",
     "height": 245
    },
    "colab_type": "code",
    "id": "JJxhXfgmZz-0",
    "outputId": "2bfdd2aa-708f-4cc5-9887-d6b0f5cb6830"
   },
   "outputs": [
    {
     "name": "stdout",
     "output_type": "stream",
     "text": [
      "Platform 0.04396976010628559\n",
      "Year_of_Release 0.04226224020587562\n",
      "Genre 0.038927666251493354\n",
      "Publisher 0.02032862362726571\n",
      "NA_Sales 0.03135962950706881\n",
      "EU_Sales 0.04428238407064414\n",
      "JP_Sales 0.05180563974832299\n",
      "Other_Sales 0.06093697600580323\n",
      "Critic_Score 0.002800067494332425\n",
      "Critic_Count 0.0001519055669709007\n",
      "User_Score 0.010416354643019583\n",
      "User_Count 0.005936017548947819\n",
      "Developer 0.003442557230402377\n",
      "Rating 0.0056018896280979205\n"
     ]
    }
   ],
   "source": [
    "# Get feature_importances of rf for all features\n",
    "for name, score in zip(game_data, rf_clf.feature_importances_):\n",
    "    print(name, score)"
   ]
  },
  {
   "cell_type": "code",
   "execution_count": 18,
   "metadata": {
    "colab": {},
    "colab_type": "code",
    "id": "Ck041KC5Zz-4"
   },
   "outputs": [],
   "source": [
    "# Make predictions on test set\n",
    "y_pred = rf_clf.predict(X_test)"
   ]
  },
  {
   "cell_type": "code",
   "execution_count": 19,
   "metadata": {
    "colab": {
     "base_uri": "https://localhost:8080/",
     "height": 196
    },
    "colab_type": "code",
    "id": "hXk1IB7aZz--",
    "outputId": "8d8e7a54-4791-4d6a-cde5-6db2e74c076b"
   },
   "outputs": [
    {
     "name": "stdout",
     "output_type": "stream",
     "text": [
      "              precision    recall  f1-score   support\n",
      "\n",
      "           0       0.76      0.83      0.79       438\n",
      "           1       0.72      0.41      0.52       179\n",
      "           2       0.63      0.75      0.68       455\n",
      "           3       0.77      0.65      0.71       292\n",
      "           4       0.00      0.00      0.00         1\n",
      "\n",
      "    accuracy                           0.71      1365\n",
      "   macro avg       0.57      0.53      0.54      1365\n",
      "weighted avg       0.71      0.71      0.70      1365\n",
      "\n"
     ]
    }
   ],
   "source": [
    "# Get classification report # Note: You must import the related module from sklearn to run this cell!\n",
    "print(metrics.classification_report(y_test, y_pred))"
   ]
  },
  {
   "cell_type": "markdown",
   "metadata": {
    "colab_type": "text",
    "id": "BbYY7S-ZZz_C"
   },
   "source": [
    "### Part II Questions\n",
    "\n",
    "Answer the following question HERE:\n",
    "\n",
    "Q1 [3 points] - According to `feature_importance` of rf classifier, (which works based on the average impurity reduction of the feature across all trees of the forest) what are the most important features in predicting Rating? Name top five.\n",
    "\n",
    "**Other_Sales, JP_Sales, EU_Sales, Platform, Year_of_Release**\n",
    "\n",
    "Q2 [2 points]- According to your plot, what is the best range for n_estimators?\n",
    "\n",
    "**According to the plot, it seems that the best `n_estimator` value is somewhere within the range of 80 to 100, with some of the visible high values in the mid-40s and becoming more common and consistently high-scoring in the range between 80 to 100.**\n",
    "\n",
    "Q3 [3 points] - According to the classification report of rf classifier, which classes are relatively easier to classify? Compare different metrics of each class label that you see in the classification report.\n",
    "\n",
    "**Games rated E seem to be the easiest to classify, with a high precision, top recall, and top f1 score. T and M games are also classifiable on similar levels, with comparable f1 scores and recalls, although T games see a dropoff in precision. In comparison to games E10+ and AO, those three classes seem to have been well-understood by the model that we built.**"
   ]
  },
  {
   "cell_type": "markdown",
   "metadata": {
    "colab_type": "text",
    "id": "n2ap-Ok9Zz_D"
   },
   "source": [
    "## Part III - Multi-Class Classification Using SVM and Kernels"
   ]
  },
  {
   "cell_type": "markdown",
   "metadata": {
    "colab_type": "text",
    "id": "VewJAT4aZz_E"
   },
   "source": [
    "In Part III, you're going to use SVM and kernels for multi-class classification."
   ]
  },
  {
   "cell_type": "markdown",
   "metadata": {
    "colab_type": "text",
    "id": "mvierxOFZz_G"
   },
   "source": [
    "To use [SVM implementation from scikit-learn](https://scikit-learn.org/stable/modules/svm.html#multi-class-classification), you need to use OvO or OvR strategies.\n",
    "\n",
    "Remember from the lectures that SVM can be linear or non-linear using kernels. [LinearSVC](https://scikit-learn.org/stable/modules/generated/sklearn.svm.LinearSVC.html#sklearn.svm.LinearSVC) is the implementation of SVM for the case of a linear kernel.\n",
    "\n",
    "Note that [LinearSVC](https://scikit-learn.org/stable/modules/generated/sklearn.svm.LinearSVC.html#sklearn.svm.LinearSVC) does not accept keyword kernel, as this is assumed to be linear. It implements OvR multi-class strategy and uses it by default, thus training n_class models and the runtime is usually less than OvO strategy although for this dataset, it may still take a few minutes to run."
   ]
  },
  {
   "cell_type": "markdown",
   "metadata": {
    "colab_type": "text",
    "id": "ut3qSA94Zz_H"
   },
   "source": [
    "## <font color=\"red\"> Required Coding"
   ]
  },
  {
   "cell_type": "code",
   "execution_count": 20,
   "metadata": {
    "colab": {},
    "colab_type": "code",
    "id": "jCfXAWk7Zz_J"
   },
   "outputs": [],
   "source": [
    "# Build a linear SVM - You may start with default hyperparameters,\n",
    "# but you should fine-tune them to get at least 0.65 for mean cv score\n",
    "lin_svm_clf = LinearSVC(random_state=42)"
   ]
  },
  {
   "cell_type": "code",
   "execution_count": 21,
   "metadata": {
    "colab": {},
    "colab_type": "code",
    "id": "8LZ4LmAvZz_P"
   },
   "outputs": [
    {
     "name": "stdout",
     "output_type": "stream",
     "text": [
      "Mean cv Score - Linear SVM:  0.6691332872483395\n"
     ]
    }
   ],
   "source": [
    "# Perform a 10-fold cross validation\n",
    "# Hint: cross validation should be done on the whole dataset\n",
    "lin_svm_cv_score = (cross_val_score(lin_svm_clf, X, y, cv=10, n_jobs=-1))\n",
    "print(\"Mean cv Score - Linear SVM: \", lin_svm_cv_score.mean())"
   ]
  },
  {
   "cell_type": "code",
   "execution_count": 24,
   "metadata": {
    "colab": {},
    "colab_type": "code",
    "id": "sY_iZC43Zz_T"
   },
   "outputs": [
    {
     "data": {
      "text/plain": [
       "Text(0, 0.5, 'svm_mean_cv_scores')"
      ]
     },
     "execution_count": 24,
     "metadata": {},
     "output_type": "execute_result"
    },
    {
     "data": {
      "image/png": "[encoded data removed]",
      "text/plain": [
       "<Figure size 432x288 with 1 Axes>"
      ]
     },
     "metadata": {
      "needs_background": "light"
     },
     "output_type": "display_data"
    }
   ],
   "source": [
    "# Now fine-tune C hyperparameter as follows:\n",
    "\n",
    "# 1- Write a for loop that iterates over C from 1 to 100\n",
    "# 2- In each iteration, do 5-fold cv and calculate lin_svm_cv_score.mean()\n",
    "# and append it to the list svm_mean_cv_scores\n",
    "# 3- Finally, plot svm_mean_cv_scores on y-axis versus C_values on x-axis\n",
    "# Your plot should have title \"Fine-tuning C Hyperparameter\", and label for each axis\n",
    "# Incomplete plots will get ZERO credit!\n",
    "\n",
    "# NOTE: Depending on your computer speed, running this may take well more than an hour or even more!\n",
    "\n",
    "svm_mean_cv_scores = []\n",
    "C_values = range(1, 100)\n",
    "for c in C_values:\n",
    "  lin_svm_clf_ft = LinearSVC(C=c)\n",
    "  lin_svm_cv_score = (cross_val_score(lin_svm_clf_ft, X, y, cv=5, n_jobs=-1))\n",
    "  svm_mean_cv_scores.append(lin_svm_cv_score.mean())\n",
    "\n",
    "plt.plot(C_values, svm_mean_cv_scores, '.')\n",
    "plt.title('Fine-tuning C Hyperparameter')\n",
    "plt.xlabel('C_values')\n",
    "plt.ylabel('svm_mean_cv_scores')"
   ]
  },
  {
   "cell_type": "markdown",
   "metadata": {
    "colab_type": "text",
    "id": "fLy4Od40Zz_W"
   },
   "source": [
    "> Now, let's try [kernel svm](https://scikit-learn.org/stable/modules/generated/sklearn.svm.SVC.html) on this problem. Fine-tune C hyperparameter with at least 3 values {1, 10, 100}."
   ]
  },
  {
   "cell_type": "code",
   "execution_count": 39,
   "metadata": {
    "colab": {},
    "colab_type": "code",
    "id": "EQBR6kgOZz_Z"
   },
   "outputs": [],
   "source": [
    "# Build a kernel svm with rbf kernel\n",
    "# Note: You should specify ovo strategy, see the example in documentation section 1.4.1.1\n",
    "# https://scikit-learn.org/stable/modules/svm.html#multi-class-classification\n",
    "rbf_svm_clf = SVC(kernel='rbf', decision_function_shape='ovo', C=10, random_state=42)"
   ]
  },
  {
   "cell_type": "code",
   "execution_count": 40,
   "metadata": {
    "colab": {},
    "colab_type": "code",
    "id": "bYD88Z8JZz_g"
   },
   "outputs": [
    {
     "name": "stdout",
     "output_type": "stream",
     "text": [
      "Mean cv Score - Kernel SVM - RBF:  0.6906639244664088\n"
     ]
    }
   ],
   "source": [
    "# Perform a 10-fold cross validation\n",
    "# Hint: cross validation should be done on the whole dataset\n",
    "rbf_svm_cv_score = (cross_val_score(rbf_svm_clf, X, y, cv=10))\n",
    "\n",
    "print(\"Mean cv Score - Kernel SVM - RBF: \", rbf_svm_cv_score.mean())"
   ]
  },
  {
   "cell_type": "code",
   "execution_count": 41,
   "metadata": {
    "colab": {},
    "colab_type": "code",
    "id": "NE9N_5qZZz_l"
   },
   "outputs": [],
   "source": [
    "# Build a kernel svm with polynomial kernel\n",
    "poly_svm_clf = SVC(kernel='poly', decision_function_shape='ovo', C=100, random_state=42)"
   ]
  },
  {
   "cell_type": "code",
   "execution_count": 42,
   "metadata": {
    "colab": {},
    "colab_type": "code",
    "id": "VjAZn7PnZz_p"
   },
   "outputs": [
    {
     "name": "stdout",
     "output_type": "stream",
     "text": [
      "Mean cv Score - Kernel SVM - Poly:  0.6174115404267012\n"
     ]
    }
   ],
   "source": [
    "# Perform a 10-fold cross validation\n",
    "# Hint: cross validation should be done on the whole dataset\n",
    "poly_svm_cv_score = (cross_val_score(poly_svm_clf, X, y, cv=10))\n",
    "\n",
    "print(\"Mean cv Score - Kernel SVM - Poly: \", poly_svm_cv_score.mean())"
   ]
  },
  {
   "cell_type": "markdown",
   "metadata": {
    "colab_type": "text",
    "id": "5uKQ_QjdZz_x"
   },
   "source": [
    "### Part III Questions"
   ]
  },
  {
   "cell_type": "markdown",
   "metadata": {
    "colab_type": "text",
    "id": "8oj7LFR8Zz_y"
   },
   "source": [
    "Anwser the following question HERE:\n",
    "\n",
    "Q1 [2 points] - According to the plot, what is the best range of values for C hyperparameter of linear SVM?\n",
    "\n",
    "**The best range of values for the C hyperparameters are well within the values of 1 and 5. There was a great dropoff in cross validation scores almost immediately after testing the first few low values, so it is safe to say that 1 was the best value for the linear support vector machine.**\n",
    "\n",
    "Q2 [2 points] - Acording to your experiments, which non-linear kernel worked better on this dataset? Was it better to use linear svm or kernel svm on this dataset?\n",
    "\n",
    "**Looking at the average cross validation scores, it seems that after optimally tuning each support vector machine model, the best performing kernel was the polynomial. While linear SVM did not trail far behind, polynomial SVM performed best among the three models that we evaluated.**"
   ]
  },
  {
   "cell_type": "markdown",
   "metadata": {
    "colab_type": "text",
    "id": "rzPqeIfvZz_z"
   },
   "source": [
    "## Grading\n",
    "\n",
    "Assignment-2 has a maximum of 100 points. Make sure that you get the correct outputs for all cells that you implement and give complete answers to all questions. Also, your notebook should be written with no grammatical and spelling errors and should be easy-to-read.\n",
    "\n",
    "The breakdown of the 100 points is as follows:\n",
    "\n",
    "- Part I preprocessing: 10 points (if you don't get the correct X and y, your whole assignment will get no credit!\n",
    "\n",
    "- Part II Random Forests - 40 points\n",
    "    - Implementation and training: 12 points\n",
    "    - Fine-tuning plot: 20 points\n",
    "    - Questions: 8 points\n",
    "\n",
    "- Part III SVM and Kernels - 50 points\n",
    "    - Implementation and training: 26 points\n",
    "    - Fine-tuning C plot: 20 points\n",
    "    - Questions: 4 points\n",
    "\n",
    "<b>Note: </b>Follow the instructions of each section carefully. Up to 10 points may be deducted if your submitted notebook is not easy to read and follow or if it has grammatical, spelling or formatting issues."
   ]
  },
  {
   "cell_type": "markdown",
   "metadata": {
    "colab_type": "text",
    "id": "h9qqb5MyZz_0"
   },
   "source": [
    "Name your notebook ```Lastname-A2.ipynb```. Submit the completed notebook using the ```Assignment-2``` link on Blackboard.\n",
    "\n",
    "Grading will be based on \n",
    "\n",
    "  * correct implementation, correct answer to the questions, and\n",
    "  * readability of the notebook.\n",
    "  \n",
    "<font color=red><b>Due Date: Saturday March 14th, 11:59PM.</b></font>"
   ]
  }
 ],
 "metadata": {
  "colab": {
   "name": "Assignment-2.ipynb",
   "provenance": []
  },
  "kernelspec": {
   "display_name": "Python 3",
   "language": "python",
   "name": "python3"
  },
  "language_info": {
   "codemirror_mode": {
    "name": "ipython",
    "version": 3
   },
   "file_extension": ".py",
   "mimetype": "text/x-python",
   "name": "python",
   "nbconvert_exporter": "python",
   "pygments_lexer": "ipython3",
   "version": "3.7.4"
  }
 },
 "nbformat": 4,
 "nbformat_minor": 1
}
