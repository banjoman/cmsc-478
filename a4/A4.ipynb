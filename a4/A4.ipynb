{
 "cells": [
  {
   "cell_type": "markdown",
   "metadata": {
    "colab_type": "text",
    "id": "YEb94YFjeZ9Y"
   },
   "source": [
    "# CMSC478 Machine Learning - Spring 2020\n",
    "\n",
    "## Instructor: Fereydoon Vafaei\n",
    "\n",
    "## <font color=\"blue\">Assignment-4: Multi-Class Classification and Regression with Neural Networks</font>"
   ]
  },
  {
   "cell_type": "markdown",
   "metadata": {
    "colab_type": "text",
    "id": "-ucnBZ1peZ9Z"
   },
   "source": [
    "## Overview and Learning Objectives"
   ]
  },
  {
   "cell_type": "markdown",
   "metadata": {
    "colab_type": "text",
    "id": "HkVFkoa3eZ9a"
   },
   "source": [
    "In Assignment-4, you're going to perform classification and regression using Neural Networks in Tensorflow and Keras.\n",
    "\n",
    "Pedagogically, this assignment will help you:\n",
    "- better understand how neural networks are built and applied on ML tasks - specifically classification and regression.\n",
    "- pratice NN implementation using Tensorflow 2 and Keras."
   ]
  },
  {
   "cell_type": "markdown",
   "metadata": {
    "colab_type": "text",
    "id": "W9HBZNTweZ9b"
   },
   "source": [
    "**Notice**: While some outputs are provided as reference, other outputs are NOT shared intentionally, and you should not share them or any solution code in Piazza.\n",
    "\n",
    "**Very Important Note:** You must run all cells and generate all outputs and plots. Notebooks with incomplete outputs will NOT be graded and will get ZERO credit! "
   ]
  },
  {
   "cell_type": "markdown",
   "metadata": {
    "colab_type": "text",
    "id": "DQ5290cveZ9b"
   },
   "source": [
    "## Part I - Multi-Class Classification Using NN"
   ]
  },
  {
   "cell_type": "markdown",
   "metadata": {
    "colab_type": "text",
    "id": "Mnda2WEleZ9c"
   },
   "source": [
    "First download the [data](https://github.com/fereydoonvafaei/CMSC478-Spring2020/blob/master/Assignment-4/video-games.csv). This is the same video games dataset you used in Assignment-2. You can read the descriptions of the data [here](https://www.kaggle.com/rush4ratio/video-game-sales-with-ratings). You are going to do multi-class classification on **Rating** as you did in A2."
   ]
  },
  {
   "cell_type": "markdown",
   "metadata": {
    "colab_type": "text",
    "id": "8zf31dt_eZ9d"
   },
   "source": [
    "## <font color=\"red\"> Required Coding"
   ]
  },
  {
   "cell_type": "code",
   "execution_count": 1,
   "metadata": {
    "colab": {},
    "colab_type": "code",
    "id": "v7PfUyQKeZ9d"
   },
   "outputs": [],
   "source": [
    "# Import necessary Python modules as well as Tensorflow and Keras\n",
    "import pandas as pd\n",
    "import numpy as np\n",
    "\n",
    "from sklearn.model_selection import train_test_split\n",
    "from sklearn.metrics import classification_report\n",
    "import matplotlib.pyplot as plt\n",
    "import tensorflow as tf\n",
    "\n",
    "import warnings\n",
    "warnings.filterwarnings(\"ignore\")"
   ]
  },
  {
   "cell_type": "code",
   "execution_count": 2,
   "metadata": {
    "colab": {
     "base_uri": "https://localhost:8080/",
     "height": 51
    },
    "colab_type": "code",
    "id": "8mX52RiNeZ9h",
    "outputId": "ca4659dc-a279-4a0e-9a64-4c45918cbf63"
   },
   "outputs": [
    {
     "name": "stdout",
     "output_type": "stream",
     "text": [
      "tf Version:  2.1.0\n",
      "Eager Execution mode:  True\n"
     ]
    }
   ],
   "source": [
    "print(\"tf Version: \", tf.__version__)\n",
    "print(\"Eager Execution mode: \", tf.executing_eagerly())"
   ]
  },
  {
   "cell_type": "markdown",
   "metadata": {
    "colab_type": "text",
    "id": "eKVbSBOTeZ9l"
   },
   "source": [
    "> Load the data and do all the required preprocessing steps that you did in Assignment-2 for classification on \"Rating\"."
   ]
  },
  {
   "cell_type": "code",
   "execution_count": 3,
   "metadata": {
    "colab": {
     "base_uri": "https://localhost:8080/",
     "height": 309
    },
    "colab_type": "code",
    "id": "ivtyz7eyeZ9m",
    "outputId": "2136ae5a-0464-40a8-cdde-92208c1decb9"
   },
   "outputs": [
    {
     "name": "stdout",
     "output_type": "stream",
     "text": [
      "(16719, 16)\n"
     ]
    },
    {
     "data": {
      "text/html": [
       "<div>\n",
       "<style scoped>\n",
       "    .dataframe tbody tr th:only-of-type {\n",
       "        vertical-align: middle;\n",
       "    }\n",
       "\n",
       "    .dataframe tbody tr th {\n",
       "        vertical-align: top;\n",
       "    }\n",
       "\n",
       "    .dataframe thead th {\n",
       "        text-align: right;\n",
       "    }\n",
       "</style>\n",
       "<table border=\"1\" class=\"dataframe\">\n",
       "  <thead>\n",
       "    <tr style=\"text-align: right;\">\n",
       "      <th></th>\n",
       "      <th>Name</th>\n",
       "      <th>Platform</th>\n",
       "      <th>Year_of_Release</th>\n",
       "      <th>Genre</th>\n",
       "      <th>Publisher</th>\n",
       "      <th>NA_Sales</th>\n",
       "      <th>EU_Sales</th>\n",
       "      <th>JP_Sales</th>\n",
       "      <th>Other_Sales</th>\n",
       "      <th>Global_Sales</th>\n",
       "      <th>Critic_Score</th>\n",
       "      <th>Critic_Count</th>\n",
       "      <th>User_Score</th>\n",
       "      <th>User_Count</th>\n",
       "      <th>Developer</th>\n",
       "      <th>Rating</th>\n",
       "    </tr>\n",
       "  </thead>\n",
       "  <tbody>\n",
       "    <tr>\n",
       "      <th>0</th>\n",
       "      <td>Wii Sports</td>\n",
       "      <td>Wii</td>\n",
       "      <td>2006.0</td>\n",
       "      <td>Sports</td>\n",
       "      <td>Nintendo</td>\n",
       "      <td>41.36</td>\n",
       "      <td>28.96</td>\n",
       "      <td>3.77</td>\n",
       "      <td>8.45</td>\n",
       "      <td>82.53</td>\n",
       "      <td>76.0</td>\n",
       "      <td>51.0</td>\n",
       "      <td>8</td>\n",
       "      <td>322.0</td>\n",
       "      <td>Nintendo</td>\n",
       "      <td>E</td>\n",
       "    </tr>\n",
       "    <tr>\n",
       "      <th>1</th>\n",
       "      <td>Super Mario Bros.</td>\n",
       "      <td>NES</td>\n",
       "      <td>1985.0</td>\n",
       "      <td>Platform</td>\n",
       "      <td>Nintendo</td>\n",
       "      <td>29.08</td>\n",
       "      <td>3.58</td>\n",
       "      <td>6.81</td>\n",
       "      <td>0.77</td>\n",
       "      <td>40.24</td>\n",
       "      <td>NaN</td>\n",
       "      <td>NaN</td>\n",
       "      <td>NaN</td>\n",
       "      <td>NaN</td>\n",
       "      <td>NaN</td>\n",
       "      <td>NaN</td>\n",
       "    </tr>\n",
       "    <tr>\n",
       "      <th>2</th>\n",
       "      <td>Mario Kart Wii</td>\n",
       "      <td>Wii</td>\n",
       "      <td>2008.0</td>\n",
       "      <td>Racing</td>\n",
       "      <td>Nintendo</td>\n",
       "      <td>15.68</td>\n",
       "      <td>12.76</td>\n",
       "      <td>3.79</td>\n",
       "      <td>3.29</td>\n",
       "      <td>35.52</td>\n",
       "      <td>82.0</td>\n",
       "      <td>73.0</td>\n",
       "      <td>8.3</td>\n",
       "      <td>709.0</td>\n",
       "      <td>Nintendo</td>\n",
       "      <td>E</td>\n",
       "    </tr>\n",
       "    <tr>\n",
       "      <th>3</th>\n",
       "      <td>Wii Sports Resort</td>\n",
       "      <td>Wii</td>\n",
       "      <td>2009.0</td>\n",
       "      <td>Sports</td>\n",
       "      <td>Nintendo</td>\n",
       "      <td>15.61</td>\n",
       "      <td>10.93</td>\n",
       "      <td>3.28</td>\n",
       "      <td>2.95</td>\n",
       "      <td>32.77</td>\n",
       "      <td>80.0</td>\n",
       "      <td>73.0</td>\n",
       "      <td>8</td>\n",
       "      <td>192.0</td>\n",
       "      <td>Nintendo</td>\n",
       "      <td>E</td>\n",
       "    </tr>\n",
       "    <tr>\n",
       "      <th>4</th>\n",
       "      <td>Pokemon Red/Pokemon Blue</td>\n",
       "      <td>GB</td>\n",
       "      <td>1996.0</td>\n",
       "      <td>Role-Playing</td>\n",
       "      <td>Nintendo</td>\n",
       "      <td>11.27</td>\n",
       "      <td>8.89</td>\n",
       "      <td>10.22</td>\n",
       "      <td>1.00</td>\n",
       "      <td>31.37</td>\n",
       "      <td>NaN</td>\n",
       "      <td>NaN</td>\n",
       "      <td>NaN</td>\n",
       "      <td>NaN</td>\n",
       "      <td>NaN</td>\n",
       "      <td>NaN</td>\n",
       "    </tr>\n",
       "  </tbody>\n",
       "</table>\n",
       "</div>"
      ],
      "text/plain": [
       "                       Name Platform  Year_of_Release         Genre Publisher  \\\n",
       "0                Wii Sports      Wii           2006.0        Sports  Nintendo   \n",
       "1         Super Mario Bros.      NES           1985.0      Platform  Nintendo   \n",
       "2            Mario Kart Wii      Wii           2008.0        Racing  Nintendo   \n",
       "3         Wii Sports Resort      Wii           2009.0        Sports  Nintendo   \n",
       "4  Pokemon Red/Pokemon Blue       GB           1996.0  Role-Playing  Nintendo   \n",
       "\n",
       "   NA_Sales  EU_Sales  JP_Sales  Other_Sales  Global_Sales  Critic_Score  \\\n",
       "0     41.36     28.96      3.77         8.45         82.53          76.0   \n",
       "1     29.08      3.58      6.81         0.77         40.24           NaN   \n",
       "2     15.68     12.76      3.79         3.29         35.52          82.0   \n",
       "3     15.61     10.93      3.28         2.95         32.77          80.0   \n",
       "4     11.27      8.89     10.22         1.00         31.37           NaN   \n",
       "\n",
       "   Critic_Count User_Score  User_Count Developer Rating  \n",
       "0          51.0          8       322.0  Nintendo      E  \n",
       "1           NaN        NaN         NaN       NaN    NaN  \n",
       "2          73.0        8.3       709.0  Nintendo      E  \n",
       "3          73.0          8       192.0  Nintendo      E  \n",
       "4           NaN        NaN         NaN       NaN    NaN  "
      ]
     },
     "execution_count": 3,
     "metadata": {},
     "output_type": "execute_result"
    }
   ],
   "source": [
    "# Load the data as a dataframe using pandas\n",
    "game_data = pd.read_csv(\"video-games.csv\")\n",
    "print(game_data.shape)\n",
    "game_data.head()"
   ]
  },
  {
   "cell_type": "markdown",
   "metadata": {
    "colab_type": "text",
    "id": "82_BzomTeZ9q"
   },
   "source": [
    "> Notice that preprocessing in A4, while extremely important to get the correct results moving forward, has no credit on its own because it's the same as A2."
   ]
  },
  {
   "cell_type": "markdown",
   "metadata": {
    "colab_type": "text",
    "id": "Pe7q92v1eZ9r"
   },
   "source": [
    "### Preprocessing"
   ]
  },
  {
   "cell_type": "code",
   "execution_count": 4,
   "metadata": {
    "colab": {
     "base_uri": "https://localhost:8080/",
     "height": 394
    },
    "colab_type": "code",
    "id": "P0iT8JI7eZ9r",
    "outputId": "cf25e942-6ad1-46b1-80df-71f96031b2c4"
   },
   "outputs": [
    {
     "name": "stdout",
     "output_type": "stream",
     "text": [
      "(6825, 16)\n"
     ]
    },
    {
     "data": {
      "text/html": [
       "<div>\n",
       "<style scoped>\n",
       "    .dataframe tbody tr th:only-of-type {\n",
       "        vertical-align: middle;\n",
       "    }\n",
       "\n",
       "    .dataframe tbody tr th {\n",
       "        vertical-align: top;\n",
       "    }\n",
       "\n",
       "    .dataframe thead th {\n",
       "        text-align: right;\n",
       "    }\n",
       "</style>\n",
       "<table border=\"1\" class=\"dataframe\">\n",
       "  <thead>\n",
       "    <tr style=\"text-align: right;\">\n",
       "      <th></th>\n",
       "      <th>Name</th>\n",
       "      <th>Platform</th>\n",
       "      <th>Year_of_Release</th>\n",
       "      <th>Genre</th>\n",
       "      <th>Publisher</th>\n",
       "      <th>NA_Sales</th>\n",
       "      <th>EU_Sales</th>\n",
       "      <th>JP_Sales</th>\n",
       "      <th>Other_Sales</th>\n",
       "      <th>Global_Sales</th>\n",
       "      <th>Critic_Score</th>\n",
       "      <th>Critic_Count</th>\n",
       "      <th>User_Score</th>\n",
       "      <th>User_Count</th>\n",
       "      <th>Developer</th>\n",
       "      <th>Rating</th>\n",
       "    </tr>\n",
       "  </thead>\n",
       "  <tbody>\n",
       "    <tr>\n",
       "      <th>0</th>\n",
       "      <td>Wii Sports</td>\n",
       "      <td>Wii</td>\n",
       "      <td>2006.0</td>\n",
       "      <td>Sports</td>\n",
       "      <td>Nintendo</td>\n",
       "      <td>41.36</td>\n",
       "      <td>28.96</td>\n",
       "      <td>3.77</td>\n",
       "      <td>8.45</td>\n",
       "      <td>82.53</td>\n",
       "      <td>76.0</td>\n",
       "      <td>51.0</td>\n",
       "      <td>8</td>\n",
       "      <td>322.0</td>\n",
       "      <td>Nintendo</td>\n",
       "      <td>E</td>\n",
       "    </tr>\n",
       "    <tr>\n",
       "      <th>2</th>\n",
       "      <td>Mario Kart Wii</td>\n",
       "      <td>Wii</td>\n",
       "      <td>2008.0</td>\n",
       "      <td>Racing</td>\n",
       "      <td>Nintendo</td>\n",
       "      <td>15.68</td>\n",
       "      <td>12.76</td>\n",
       "      <td>3.79</td>\n",
       "      <td>3.29</td>\n",
       "      <td>35.52</td>\n",
       "      <td>82.0</td>\n",
       "      <td>73.0</td>\n",
       "      <td>8.3</td>\n",
       "      <td>709.0</td>\n",
       "      <td>Nintendo</td>\n",
       "      <td>E</td>\n",
       "    </tr>\n",
       "    <tr>\n",
       "      <th>3</th>\n",
       "      <td>Wii Sports Resort</td>\n",
       "      <td>Wii</td>\n",
       "      <td>2009.0</td>\n",
       "      <td>Sports</td>\n",
       "      <td>Nintendo</td>\n",
       "      <td>15.61</td>\n",
       "      <td>10.93</td>\n",
       "      <td>3.28</td>\n",
       "      <td>2.95</td>\n",
       "      <td>32.77</td>\n",
       "      <td>80.0</td>\n",
       "      <td>73.0</td>\n",
       "      <td>8</td>\n",
       "      <td>192.0</td>\n",
       "      <td>Nintendo</td>\n",
       "      <td>E</td>\n",
       "    </tr>\n",
       "    <tr>\n",
       "      <th>6</th>\n",
       "      <td>New Super Mario Bros.</td>\n",
       "      <td>DS</td>\n",
       "      <td>2006.0</td>\n",
       "      <td>Platform</td>\n",
       "      <td>Nintendo</td>\n",
       "      <td>11.28</td>\n",
       "      <td>9.14</td>\n",
       "      <td>6.50</td>\n",
       "      <td>2.88</td>\n",
       "      <td>29.80</td>\n",
       "      <td>89.0</td>\n",
       "      <td>65.0</td>\n",
       "      <td>8.5</td>\n",
       "      <td>431.0</td>\n",
       "      <td>Nintendo</td>\n",
       "      <td>E</td>\n",
       "    </tr>\n",
       "    <tr>\n",
       "      <th>7</th>\n",
       "      <td>Wii Play</td>\n",
       "      <td>Wii</td>\n",
       "      <td>2006.0</td>\n",
       "      <td>Misc</td>\n",
       "      <td>Nintendo</td>\n",
       "      <td>13.96</td>\n",
       "      <td>9.18</td>\n",
       "      <td>2.93</td>\n",
       "      <td>2.84</td>\n",
       "      <td>28.92</td>\n",
       "      <td>58.0</td>\n",
       "      <td>41.0</td>\n",
       "      <td>6.6</td>\n",
       "      <td>129.0</td>\n",
       "      <td>Nintendo</td>\n",
       "      <td>E</td>\n",
       "    </tr>\n",
       "  </tbody>\n",
       "</table>\n",
       "</div>"
      ],
      "text/plain": [
       "                    Name Platform  Year_of_Release     Genre Publisher  \\\n",
       "0             Wii Sports      Wii           2006.0    Sports  Nintendo   \n",
       "2         Mario Kart Wii      Wii           2008.0    Racing  Nintendo   \n",
       "3      Wii Sports Resort      Wii           2009.0    Sports  Nintendo   \n",
       "6  New Super Mario Bros.       DS           2006.0  Platform  Nintendo   \n",
       "7               Wii Play      Wii           2006.0      Misc  Nintendo   \n",
       "\n",
       "   NA_Sales  EU_Sales  JP_Sales  Other_Sales  Global_Sales  Critic_Score  \\\n",
       "0     41.36     28.96      3.77         8.45         82.53          76.0   \n",
       "2     15.68     12.76      3.79         3.29         35.52          82.0   \n",
       "3     15.61     10.93      3.28         2.95         32.77          80.0   \n",
       "6     11.28      9.14      6.50         2.88         29.80          89.0   \n",
       "7     13.96      9.18      2.93         2.84         28.92          58.0   \n",
       "\n",
       "   Critic_Count User_Score  User_Count Developer Rating  \n",
       "0          51.0          8       322.0  Nintendo      E  \n",
       "2          73.0        8.3       709.0  Nintendo      E  \n",
       "3          73.0          8       192.0  Nintendo      E  \n",
       "6          65.0        8.5       431.0  Nintendo      E  \n",
       "7          41.0        6.6       129.0  Nintendo      E  "
      ]
     },
     "execution_count": 4,
     "metadata": {},
     "output_type": "execute_result"
    }
   ],
   "source": [
    "# Drop NAs\n",
    "game_data = game_data.dropna()\n",
    "print(game_data.shape)\n",
    "game_data.head()"
   ]
  },
  {
   "cell_type": "code",
   "execution_count": 5,
   "metadata": {
    "colab": {
     "base_uri": "https://localhost:8080/",
     "height": 221
    },
    "colab_type": "code",
    "id": "p3zrgk9HeZ9u",
    "outputId": "930ed9cd-f90f-401c-a016-51c828f13d12"
   },
   "outputs": [
    {
     "name": "stdout",
     "output_type": "stream",
     "text": [
      "(6825, 15)\n"
     ]
    },
    {
     "data": {
      "text/html": [
       "<div>\n",
       "<style scoped>\n",
       "    .dataframe tbody tr th:only-of-type {\n",
       "        vertical-align: middle;\n",
       "    }\n",
       "\n",
       "    .dataframe tbody tr th {\n",
       "        vertical-align: top;\n",
       "    }\n",
       "\n",
       "    .dataframe thead th {\n",
       "        text-align: right;\n",
       "    }\n",
       "</style>\n",
       "<table border=\"1\" class=\"dataframe\">\n",
       "  <thead>\n",
       "    <tr style=\"text-align: right;\">\n",
       "      <th></th>\n",
       "      <th>Platform</th>\n",
       "      <th>Year_of_Release</th>\n",
       "      <th>Genre</th>\n",
       "      <th>Publisher</th>\n",
       "      <th>NA_Sales</th>\n",
       "      <th>EU_Sales</th>\n",
       "      <th>JP_Sales</th>\n",
       "      <th>Other_Sales</th>\n",
       "      <th>Global_Sales</th>\n",
       "      <th>Critic_Score</th>\n",
       "      <th>Critic_Count</th>\n",
       "      <th>User_Score</th>\n",
       "      <th>User_Count</th>\n",
       "      <th>Developer</th>\n",
       "      <th>Rating</th>\n",
       "    </tr>\n",
       "  </thead>\n",
       "  <tbody>\n",
       "    <tr>\n",
       "      <th>0</th>\n",
       "      <td>Wii</td>\n",
       "      <td>2006.0</td>\n",
       "      <td>Sports</td>\n",
       "      <td>Nintendo</td>\n",
       "      <td>41.36</td>\n",
       "      <td>28.96</td>\n",
       "      <td>3.77</td>\n",
       "      <td>8.45</td>\n",
       "      <td>82.53</td>\n",
       "      <td>76.0</td>\n",
       "      <td>51.0</td>\n",
       "      <td>8</td>\n",
       "      <td>322.0</td>\n",
       "      <td>Nintendo</td>\n",
       "      <td>E</td>\n",
       "    </tr>\n",
       "    <tr>\n",
       "      <th>2</th>\n",
       "      <td>Wii</td>\n",
       "      <td>2008.0</td>\n",
       "      <td>Racing</td>\n",
       "      <td>Nintendo</td>\n",
       "      <td>15.68</td>\n",
       "      <td>12.76</td>\n",
       "      <td>3.79</td>\n",
       "      <td>3.29</td>\n",
       "      <td>35.52</td>\n",
       "      <td>82.0</td>\n",
       "      <td>73.0</td>\n",
       "      <td>8.3</td>\n",
       "      <td>709.0</td>\n",
       "      <td>Nintendo</td>\n",
       "      <td>E</td>\n",
       "    </tr>\n",
       "    <tr>\n",
       "      <th>3</th>\n",
       "      <td>Wii</td>\n",
       "      <td>2009.0</td>\n",
       "      <td>Sports</td>\n",
       "      <td>Nintendo</td>\n",
       "      <td>15.61</td>\n",
       "      <td>10.93</td>\n",
       "      <td>3.28</td>\n",
       "      <td>2.95</td>\n",
       "      <td>32.77</td>\n",
       "      <td>80.0</td>\n",
       "      <td>73.0</td>\n",
       "      <td>8</td>\n",
       "      <td>192.0</td>\n",
       "      <td>Nintendo</td>\n",
       "      <td>E</td>\n",
       "    </tr>\n",
       "    <tr>\n",
       "      <th>6</th>\n",
       "      <td>DS</td>\n",
       "      <td>2006.0</td>\n",
       "      <td>Platform</td>\n",
       "      <td>Nintendo</td>\n",
       "      <td>11.28</td>\n",
       "      <td>9.14</td>\n",
       "      <td>6.50</td>\n",
       "      <td>2.88</td>\n",
       "      <td>29.80</td>\n",
       "      <td>89.0</td>\n",
       "      <td>65.0</td>\n",
       "      <td>8.5</td>\n",
       "      <td>431.0</td>\n",
       "      <td>Nintendo</td>\n",
       "      <td>E</td>\n",
       "    </tr>\n",
       "    <tr>\n",
       "      <th>7</th>\n",
       "      <td>Wii</td>\n",
       "      <td>2006.0</td>\n",
       "      <td>Misc</td>\n",
       "      <td>Nintendo</td>\n",
       "      <td>13.96</td>\n",
       "      <td>9.18</td>\n",
       "      <td>2.93</td>\n",
       "      <td>2.84</td>\n",
       "      <td>28.92</td>\n",
       "      <td>58.0</td>\n",
       "      <td>41.0</td>\n",
       "      <td>6.6</td>\n",
       "      <td>129.0</td>\n",
       "      <td>Nintendo</td>\n",
       "      <td>E</td>\n",
       "    </tr>\n",
       "  </tbody>\n",
       "</table>\n",
       "</div>"
      ],
      "text/plain": [
       "  Platform  Year_of_Release     Genre Publisher  NA_Sales  EU_Sales  JP_Sales  \\\n",
       "0      Wii           2006.0    Sports  Nintendo     41.36     28.96      3.77   \n",
       "2      Wii           2008.0    Racing  Nintendo     15.68     12.76      3.79   \n",
       "3      Wii           2009.0    Sports  Nintendo     15.61     10.93      3.28   \n",
       "6       DS           2006.0  Platform  Nintendo     11.28      9.14      6.50   \n",
       "7      Wii           2006.0      Misc  Nintendo     13.96      9.18      2.93   \n",
       "\n",
       "   Other_Sales  Global_Sales  Critic_Score  Critic_Count User_Score  \\\n",
       "0         8.45         82.53          76.0          51.0          8   \n",
       "2         3.29         35.52          82.0          73.0        8.3   \n",
       "3         2.95         32.77          80.0          73.0          8   \n",
       "6         2.88         29.80          89.0          65.0        8.5   \n",
       "7         2.84         28.92          58.0          41.0        6.6   \n",
       "\n",
       "   User_Count Developer Rating  \n",
       "0       322.0  Nintendo      E  \n",
       "2       709.0  Nintendo      E  \n",
       "3       192.0  Nintendo      E  \n",
       "6       431.0  Nintendo      E  \n",
       "7       129.0  Nintendo      E  "
      ]
     },
     "execution_count": 5,
     "metadata": {},
     "output_type": "execute_result"
    }
   ],
   "source": [
    "# Drop \"Name\" column as it does not provide any useful info\n",
    "game_data.drop([\"Name\"], axis = 1, inplace = True)\n",
    "print(game_data.shape)\n",
    "game_data.head()"
   ]
  },
  {
   "cell_type": "code",
   "execution_count": 6,
   "metadata": {
    "colab": {
     "base_uri": "https://localhost:8080/",
     "height": 221
    },
    "colab_type": "code",
    "id": "egangTdReZ9y",
    "outputId": "531cc94f-0866-48eb-dab0-d1f03147d1a6"
   },
   "outputs": [
    {
     "name": "stdout",
     "output_type": "stream",
     "text": [
      "(6825, 14)\n"
     ]
    },
    {
     "data": {
      "text/html": [
       "<div>\n",
       "<style scoped>\n",
       "    .dataframe tbody tr th:only-of-type {\n",
       "        vertical-align: middle;\n",
       "    }\n",
       "\n",
       "    .dataframe tbody tr th {\n",
       "        vertical-align: top;\n",
       "    }\n",
       "\n",
       "    .dataframe thead th {\n",
       "        text-align: right;\n",
       "    }\n",
       "</style>\n",
       "<table border=\"1\" class=\"dataframe\">\n",
       "  <thead>\n",
       "    <tr style=\"text-align: right;\">\n",
       "      <th></th>\n",
       "      <th>Platform</th>\n",
       "      <th>Year_of_Release</th>\n",
       "      <th>Genre</th>\n",
       "      <th>Publisher</th>\n",
       "      <th>NA_Sales</th>\n",
       "      <th>EU_Sales</th>\n",
       "      <th>JP_Sales</th>\n",
       "      <th>Other_Sales</th>\n",
       "      <th>Critic_Score</th>\n",
       "      <th>Critic_Count</th>\n",
       "      <th>User_Score</th>\n",
       "      <th>User_Count</th>\n",
       "      <th>Developer</th>\n",
       "      <th>Rating</th>\n",
       "    </tr>\n",
       "  </thead>\n",
       "  <tbody>\n",
       "    <tr>\n",
       "      <th>0</th>\n",
       "      <td>Wii</td>\n",
       "      <td>2006.0</td>\n",
       "      <td>Sports</td>\n",
       "      <td>Nintendo</td>\n",
       "      <td>41.36</td>\n",
       "      <td>28.96</td>\n",
       "      <td>3.77</td>\n",
       "      <td>8.45</td>\n",
       "      <td>76.0</td>\n",
       "      <td>51.0</td>\n",
       "      <td>8</td>\n",
       "      <td>322.0</td>\n",
       "      <td>Nintendo</td>\n",
       "      <td>E</td>\n",
       "    </tr>\n",
       "    <tr>\n",
       "      <th>2</th>\n",
       "      <td>Wii</td>\n",
       "      <td>2008.0</td>\n",
       "      <td>Racing</td>\n",
       "      <td>Nintendo</td>\n",
       "      <td>15.68</td>\n",
       "      <td>12.76</td>\n",
       "      <td>3.79</td>\n",
       "      <td>3.29</td>\n",
       "      <td>82.0</td>\n",
       "      <td>73.0</td>\n",
       "      <td>8.3</td>\n",
       "      <td>709.0</td>\n",
       "      <td>Nintendo</td>\n",
       "      <td>E</td>\n",
       "    </tr>\n",
       "    <tr>\n",
       "      <th>3</th>\n",
       "      <td>Wii</td>\n",
       "      <td>2009.0</td>\n",
       "      <td>Sports</td>\n",
       "      <td>Nintendo</td>\n",
       "      <td>15.61</td>\n",
       "      <td>10.93</td>\n",
       "      <td>3.28</td>\n",
       "      <td>2.95</td>\n",
       "      <td>80.0</td>\n",
       "      <td>73.0</td>\n",
       "      <td>8</td>\n",
       "      <td>192.0</td>\n",
       "      <td>Nintendo</td>\n",
       "      <td>E</td>\n",
       "    </tr>\n",
       "    <tr>\n",
       "      <th>6</th>\n",
       "      <td>DS</td>\n",
       "      <td>2006.0</td>\n",
       "      <td>Platform</td>\n",
       "      <td>Nintendo</td>\n",
       "      <td>11.28</td>\n",
       "      <td>9.14</td>\n",
       "      <td>6.50</td>\n",
       "      <td>2.88</td>\n",
       "      <td>89.0</td>\n",
       "      <td>65.0</td>\n",
       "      <td>8.5</td>\n",
       "      <td>431.0</td>\n",
       "      <td>Nintendo</td>\n",
       "      <td>E</td>\n",
       "    </tr>\n",
       "    <tr>\n",
       "      <th>7</th>\n",
       "      <td>Wii</td>\n",
       "      <td>2006.0</td>\n",
       "      <td>Misc</td>\n",
       "      <td>Nintendo</td>\n",
       "      <td>13.96</td>\n",
       "      <td>9.18</td>\n",
       "      <td>2.93</td>\n",
       "      <td>2.84</td>\n",
       "      <td>58.0</td>\n",
       "      <td>41.0</td>\n",
       "      <td>6.6</td>\n",
       "      <td>129.0</td>\n",
       "      <td>Nintendo</td>\n",
       "      <td>E</td>\n",
       "    </tr>\n",
       "  </tbody>\n",
       "</table>\n",
       "</div>"
      ],
      "text/plain": [
       "  Platform  Year_of_Release     Genre Publisher  NA_Sales  EU_Sales  JP_Sales  \\\n",
       "0      Wii           2006.0    Sports  Nintendo     41.36     28.96      3.77   \n",
       "2      Wii           2008.0    Racing  Nintendo     15.68     12.76      3.79   \n",
       "3      Wii           2009.0    Sports  Nintendo     15.61     10.93      3.28   \n",
       "6       DS           2006.0  Platform  Nintendo     11.28      9.14      6.50   \n",
       "7      Wii           2006.0      Misc  Nintendo     13.96      9.18      2.93   \n",
       "\n",
       "   Other_Sales  Critic_Score  Critic_Count User_Score  User_Count Developer  \\\n",
       "0         8.45          76.0          51.0          8       322.0  Nintendo   \n",
       "2         3.29          82.0          73.0        8.3       709.0  Nintendo   \n",
       "3         2.95          80.0          73.0          8       192.0  Nintendo   \n",
       "6         2.88          89.0          65.0        8.5       431.0  Nintendo   \n",
       "7         2.84          58.0          41.0        6.6       129.0  Nintendo   \n",
       "\n",
       "  Rating  \n",
       "0      E  \n",
       "2      E  \n",
       "3      E  \n",
       "6      E  \n",
       "7      E  "
      ]
     },
     "execution_count": 6,
     "metadata": {},
     "output_type": "execute_result"
    }
   ],
   "source": [
    "# Drop \"Global_Sales\" column as it is redundant feature - it's just sum of regional and other sales\n",
    "game_data.drop([\"Global_Sales\"], axis = 1, inplace = True)\n",
    "print(game_data.shape)\n",
    "game_data.head()"
   ]
  },
  {
   "cell_type": "code",
   "execution_count": 7,
   "metadata": {
    "colab": {},
    "colab_type": "code",
    "id": "wWOgO8TbeZ91"
   },
   "outputs": [],
   "source": [
    "# Get feature vector X (all columns but \"Rating\") and target label y as \"Rating\"\n",
    "X = game_data.drop(['Rating'], axis = 1)\n",
    "y = game_data['Rating']"
   ]
  },
  {
   "cell_type": "code",
   "execution_count": 8,
   "metadata": {
    "colab": {
     "base_uri": "https://localhost:8080/",
     "height": 221
    },
    "colab_type": "code",
    "id": "9ccbSkuQeZ94",
    "outputId": "62fe4ce0-6f83-44df-f02a-6ebb1e8636bf"
   },
   "outputs": [
    {
     "name": "stdout",
     "output_type": "stream",
     "text": [
      "(6825, 13)\n"
     ]
    },
    {
     "data": {
      "text/html": [
       "<div>\n",
       "<style scoped>\n",
       "    .dataframe tbody tr th:only-of-type {\n",
       "        vertical-align: middle;\n",
       "    }\n",
       "\n",
       "    .dataframe tbody tr th {\n",
       "        vertical-align: top;\n",
       "    }\n",
       "\n",
       "    .dataframe thead th {\n",
       "        text-align: right;\n",
       "    }\n",
       "</style>\n",
       "<table border=\"1\" class=\"dataframe\">\n",
       "  <thead>\n",
       "    <tr style=\"text-align: right;\">\n",
       "      <th></th>\n",
       "      <th>Platform</th>\n",
       "      <th>Year_of_Release</th>\n",
       "      <th>Genre</th>\n",
       "      <th>Publisher</th>\n",
       "      <th>NA_Sales</th>\n",
       "      <th>EU_Sales</th>\n",
       "      <th>JP_Sales</th>\n",
       "      <th>Other_Sales</th>\n",
       "      <th>Critic_Score</th>\n",
       "      <th>Critic_Count</th>\n",
       "      <th>User_Score</th>\n",
       "      <th>User_Count</th>\n",
       "      <th>Developer</th>\n",
       "    </tr>\n",
       "  </thead>\n",
       "  <tbody>\n",
       "    <tr>\n",
       "      <th>0</th>\n",
       "      <td>Wii</td>\n",
       "      <td>2006.0</td>\n",
       "      <td>Sports</td>\n",
       "      <td>Nintendo</td>\n",
       "      <td>41.36</td>\n",
       "      <td>28.96</td>\n",
       "      <td>3.77</td>\n",
       "      <td>8.45</td>\n",
       "      <td>76.0</td>\n",
       "      <td>51.0</td>\n",
       "      <td>8</td>\n",
       "      <td>322.0</td>\n",
       "      <td>Nintendo</td>\n",
       "    </tr>\n",
       "    <tr>\n",
       "      <th>2</th>\n",
       "      <td>Wii</td>\n",
       "      <td>2008.0</td>\n",
       "      <td>Racing</td>\n",
       "      <td>Nintendo</td>\n",
       "      <td>15.68</td>\n",
       "      <td>12.76</td>\n",
       "      <td>3.79</td>\n",
       "      <td>3.29</td>\n",
       "      <td>82.0</td>\n",
       "      <td>73.0</td>\n",
       "      <td>8.3</td>\n",
       "      <td>709.0</td>\n",
       "      <td>Nintendo</td>\n",
       "    </tr>\n",
       "    <tr>\n",
       "      <th>3</th>\n",
       "      <td>Wii</td>\n",
       "      <td>2009.0</td>\n",
       "      <td>Sports</td>\n",
       "      <td>Nintendo</td>\n",
       "      <td>15.61</td>\n",
       "      <td>10.93</td>\n",
       "      <td>3.28</td>\n",
       "      <td>2.95</td>\n",
       "      <td>80.0</td>\n",
       "      <td>73.0</td>\n",
       "      <td>8</td>\n",
       "      <td>192.0</td>\n",
       "      <td>Nintendo</td>\n",
       "    </tr>\n",
       "    <tr>\n",
       "      <th>6</th>\n",
       "      <td>DS</td>\n",
       "      <td>2006.0</td>\n",
       "      <td>Platform</td>\n",
       "      <td>Nintendo</td>\n",
       "      <td>11.28</td>\n",
       "      <td>9.14</td>\n",
       "      <td>6.50</td>\n",
       "      <td>2.88</td>\n",
       "      <td>89.0</td>\n",
       "      <td>65.0</td>\n",
       "      <td>8.5</td>\n",
       "      <td>431.0</td>\n",
       "      <td>Nintendo</td>\n",
       "    </tr>\n",
       "    <tr>\n",
       "      <th>7</th>\n",
       "      <td>Wii</td>\n",
       "      <td>2006.0</td>\n",
       "      <td>Misc</td>\n",
       "      <td>Nintendo</td>\n",
       "      <td>13.96</td>\n",
       "      <td>9.18</td>\n",
       "      <td>2.93</td>\n",
       "      <td>2.84</td>\n",
       "      <td>58.0</td>\n",
       "      <td>41.0</td>\n",
       "      <td>6.6</td>\n",
       "      <td>129.0</td>\n",
       "      <td>Nintendo</td>\n",
       "    </tr>\n",
       "  </tbody>\n",
       "</table>\n",
       "</div>"
      ],
      "text/plain": [
       "  Platform  Year_of_Release     Genre Publisher  NA_Sales  EU_Sales  JP_Sales  \\\n",
       "0      Wii           2006.0    Sports  Nintendo     41.36     28.96      3.77   \n",
       "2      Wii           2008.0    Racing  Nintendo     15.68     12.76      3.79   \n",
       "3      Wii           2009.0    Sports  Nintendo     15.61     10.93      3.28   \n",
       "6       DS           2006.0  Platform  Nintendo     11.28      9.14      6.50   \n",
       "7      Wii           2006.0      Misc  Nintendo     13.96      9.18      2.93   \n",
       "\n",
       "   Other_Sales  Critic_Score  Critic_Count User_Score  User_Count Developer  \n",
       "0         8.45          76.0          51.0          8       322.0  Nintendo  \n",
       "2         3.29          82.0          73.0        8.3       709.0  Nintendo  \n",
       "3         2.95          80.0          73.0          8       192.0  Nintendo  \n",
       "6         2.88          89.0          65.0        8.5       431.0  Nintendo  \n",
       "7         2.84          58.0          41.0        6.6       129.0  Nintendo  "
      ]
     },
     "execution_count": 8,
     "metadata": {},
     "output_type": "execute_result"
    }
   ],
   "source": [
    "# Print X shape and head\n",
    "print(X.shape)\n",
    "X.head()"
   ]
  },
  {
   "cell_type": "code",
   "execution_count": 9,
   "metadata": {
    "colab": {
     "base_uri": "https://localhost:8080/",
     "height": 321
    },
    "colab_type": "code",
    "id": "sC2mRUYLeZ96",
    "outputId": "3547e467-a075-4017-a806-85a5981845bb"
   },
   "outputs": [
    {
     "name": "stdout",
     "output_type": "stream",
     "text": [
      "(6825, 1677)\n"
     ]
    },
    {
     "data": {
      "text/html": [
       "<div>\n",
       "<style scoped>\n",
       "    .dataframe tbody tr th:only-of-type {\n",
       "        vertical-align: middle;\n",
       "    }\n",
       "\n",
       "    .dataframe tbody tr th {\n",
       "        vertical-align: top;\n",
       "    }\n",
       "\n",
       "    .dataframe thead th {\n",
       "        text-align: right;\n",
       "    }\n",
       "</style>\n",
       "<table border=\"1\" class=\"dataframe\">\n",
       "  <thead>\n",
       "    <tr style=\"text-align: right;\">\n",
       "      <th></th>\n",
       "      <th>Year_of_Release</th>\n",
       "      <th>NA_Sales</th>\n",
       "      <th>EU_Sales</th>\n",
       "      <th>JP_Sales</th>\n",
       "      <th>Other_Sales</th>\n",
       "      <th>Critic_Score</th>\n",
       "      <th>Critic_Count</th>\n",
       "      <th>User_Count</th>\n",
       "      <th>Platform_3DS</th>\n",
       "      <th>Platform_DC</th>\n",
       "      <th>...</th>\n",
       "      <th>Developer_h.a.n.d. Inc.</th>\n",
       "      <th>Developer_iNiS</th>\n",
       "      <th>Developer_id Software</th>\n",
       "      <th>Developer_id Software, Nerve Software</th>\n",
       "      <th>Developer_id Software, Raven Software</th>\n",
       "      <th>Developer_n-Space</th>\n",
       "      <th>Developer_neo Software</th>\n",
       "      <th>Developer_odenis studio</th>\n",
       "      <th>Developer_syn Sophia</th>\n",
       "      <th>Developer_zSlide</th>\n",
       "    </tr>\n",
       "  </thead>\n",
       "  <tbody>\n",
       "    <tr>\n",
       "      <th>0</th>\n",
       "      <td>2006.0</td>\n",
       "      <td>41.36</td>\n",
       "      <td>28.96</td>\n",
       "      <td>3.77</td>\n",
       "      <td>8.45</td>\n",
       "      <td>76.0</td>\n",
       "      <td>51.0</td>\n",
       "      <td>322.0</td>\n",
       "      <td>0</td>\n",
       "      <td>0</td>\n",
       "      <td>...</td>\n",
       "      <td>0</td>\n",
       "      <td>0</td>\n",
       "      <td>0</td>\n",
       "      <td>0</td>\n",
       "      <td>0</td>\n",
       "      <td>0</td>\n",
       "      <td>0</td>\n",
       "      <td>0</td>\n",
       "      <td>0</td>\n",
       "      <td>0</td>\n",
       "    </tr>\n",
       "    <tr>\n",
       "      <th>2</th>\n",
       "      <td>2008.0</td>\n",
       "      <td>15.68</td>\n",
       "      <td>12.76</td>\n",
       "      <td>3.79</td>\n",
       "      <td>3.29</td>\n",
       "      <td>82.0</td>\n",
       "      <td>73.0</td>\n",
       "      <td>709.0</td>\n",
       "      <td>0</td>\n",
       "      <td>0</td>\n",
       "      <td>...</td>\n",
       "      <td>0</td>\n",
       "      <td>0</td>\n",
       "      <td>0</td>\n",
       "      <td>0</td>\n",
       "      <td>0</td>\n",
       "      <td>0</td>\n",
       "      <td>0</td>\n",
       "      <td>0</td>\n",
       "      <td>0</td>\n",
       "      <td>0</td>\n",
       "    </tr>\n",
       "    <tr>\n",
       "      <th>3</th>\n",
       "      <td>2009.0</td>\n",
       "      <td>15.61</td>\n",
       "      <td>10.93</td>\n",
       "      <td>3.28</td>\n",
       "      <td>2.95</td>\n",
       "      <td>80.0</td>\n",
       "      <td>73.0</td>\n",
       "      <td>192.0</td>\n",
       "      <td>0</td>\n",
       "      <td>0</td>\n",
       "      <td>...</td>\n",
       "      <td>0</td>\n",
       "      <td>0</td>\n",
       "      <td>0</td>\n",
       "      <td>0</td>\n",
       "      <td>0</td>\n",
       "      <td>0</td>\n",
       "      <td>0</td>\n",
       "      <td>0</td>\n",
       "      <td>0</td>\n",
       "      <td>0</td>\n",
       "    </tr>\n",
       "    <tr>\n",
       "      <th>6</th>\n",
       "      <td>2006.0</td>\n",
       "      <td>11.28</td>\n",
       "      <td>9.14</td>\n",
       "      <td>6.50</td>\n",
       "      <td>2.88</td>\n",
       "      <td>89.0</td>\n",
       "      <td>65.0</td>\n",
       "      <td>431.0</td>\n",
       "      <td>0</td>\n",
       "      <td>0</td>\n",
       "      <td>...</td>\n",
       "      <td>0</td>\n",
       "      <td>0</td>\n",
       "      <td>0</td>\n",
       "      <td>0</td>\n",
       "      <td>0</td>\n",
       "      <td>0</td>\n",
       "      <td>0</td>\n",
       "      <td>0</td>\n",
       "      <td>0</td>\n",
       "      <td>0</td>\n",
       "    </tr>\n",
       "    <tr>\n",
       "      <th>7</th>\n",
       "      <td>2006.0</td>\n",
       "      <td>13.96</td>\n",
       "      <td>9.18</td>\n",
       "      <td>2.93</td>\n",
       "      <td>2.84</td>\n",
       "      <td>58.0</td>\n",
       "      <td>41.0</td>\n",
       "      <td>129.0</td>\n",
       "      <td>0</td>\n",
       "      <td>0</td>\n",
       "      <td>...</td>\n",
       "      <td>0</td>\n",
       "      <td>0</td>\n",
       "      <td>0</td>\n",
       "      <td>0</td>\n",
       "      <td>0</td>\n",
       "      <td>0</td>\n",
       "      <td>0</td>\n",
       "      <td>0</td>\n",
       "      <td>0</td>\n",
       "      <td>0</td>\n",
       "    </tr>\n",
       "  </tbody>\n",
       "</table>\n",
       "<p>5 rows × 1677 columns</p>\n",
       "</div>"
      ],
      "text/plain": [
       "   Year_of_Release  NA_Sales  EU_Sales  JP_Sales  Other_Sales  Critic_Score  \\\n",
       "0           2006.0     41.36     28.96      3.77         8.45          76.0   \n",
       "2           2008.0     15.68     12.76      3.79         3.29          82.0   \n",
       "3           2009.0     15.61     10.93      3.28         2.95          80.0   \n",
       "6           2006.0     11.28      9.14      6.50         2.88          89.0   \n",
       "7           2006.0     13.96      9.18      2.93         2.84          58.0   \n",
       "\n",
       "   Critic_Count  User_Count  Platform_3DS  Platform_DC  ...  \\\n",
       "0          51.0       322.0             0            0  ...   \n",
       "2          73.0       709.0             0            0  ...   \n",
       "3          73.0       192.0             0            0  ...   \n",
       "6          65.0       431.0             0            0  ...   \n",
       "7          41.0       129.0             0            0  ...   \n",
       "\n",
       "   Developer_h.a.n.d. Inc.  Developer_iNiS  Developer_id Software  \\\n",
       "0                        0               0                      0   \n",
       "2                        0               0                      0   \n",
       "3                        0               0                      0   \n",
       "6                        0               0                      0   \n",
       "7                        0               0                      0   \n",
       "\n",
       "   Developer_id Software, Nerve Software  \\\n",
       "0                                      0   \n",
       "2                                      0   \n",
       "3                                      0   \n",
       "6                                      0   \n",
       "7                                      0   \n",
       "\n",
       "   Developer_id Software, Raven Software  Developer_n-Space  \\\n",
       "0                                      0                  0   \n",
       "2                                      0                  0   \n",
       "3                                      0                  0   \n",
       "6                                      0                  0   \n",
       "7                                      0                  0   \n",
       "\n",
       "   Developer_neo Software  Developer_odenis studio  Developer_syn Sophia  \\\n",
       "0                       0                        0                     0   \n",
       "2                       0                        0                     0   \n",
       "3                       0                        0                     0   \n",
       "6                       0                        0                     0   \n",
       "7                       0                        0                     0   \n",
       "\n",
       "   Developer_zSlide  \n",
       "0                 0  \n",
       "2                 0  \n",
       "3                 0  \n",
       "6                 0  \n",
       "7                 0  \n",
       "\n",
       "[5 rows x 1677 columns]"
      ]
     },
     "execution_count": 9,
     "metadata": {},
     "output_type": "execute_result"
    }
   ],
   "source": [
    "# Using pandas.get_dummies() create dummy variables for categorical features\n",
    "X = pd.get_dummies(X)\n",
    "print(X.shape)\n",
    "X.head()"
   ]
  },
  {
   "cell_type": "code",
   "execution_count": 10,
   "metadata": {
    "colab": {
     "base_uri": "https://localhost:8080/",
     "height": 153
    },
    "colab_type": "code",
    "id": "PWSsRc9neZ9-",
    "outputId": "817159f1-ab5e-4762-d59b-c737915bbe26"
   },
   "outputs": [
    {
     "name": "stdout",
     "output_type": "stream",
     "text": [
      "(6825,)\n",
      "['E' 'M' 'T' 'E10+' 'AO' 'K-A' 'RP']\n"
     ]
    },
    {
     "data": {
      "text/plain": [
       "0    E\n",
       "2    E\n",
       "3    E\n",
       "6    E\n",
       "7    E\n",
       "Name: Rating, dtype: object"
      ]
     },
     "execution_count": 10,
     "metadata": {},
     "output_type": "execute_result"
    }
   ],
   "source": [
    "# Print y shape and head and its unique values\n",
    "print(y.shape)\n",
    "print(y.unique())\n",
    "y.head()"
   ]
  },
  {
   "cell_type": "markdown",
   "metadata": {
    "colab_type": "text",
    "id": "PMerHhr9eZ-C"
   },
   "source": [
    "> <b>Note:</b> The output of the following cells is provided to you for your reference. All the following cells depend on the correctness of your preprocessing steps and can be verified by these outputs."
   ]
  },
  {
   "cell_type": "code",
   "execution_count": 11,
   "metadata": {
    "colab": {
     "base_uri": "https://localhost:8080/",
     "height": 170
    },
    "colab_type": "code",
    "id": "feN3tLtoeZ-D",
    "outputId": "a26bd17b-65bd-4373-ee39-46aa0eace0cb"
   },
   "outputs": [
    {
     "name": "stdout",
     "output_type": "stream",
     "text": [
      "[0 3 2 1 4 5 6]\n",
      "(6825,)\n",
      "<class 'pandas.core.series.Series'>\n"
     ]
    },
    {
     "data": {
      "text/plain": [
       "0    0\n",
       "2    0\n",
       "3    0\n",
       "6    0\n",
       "7    0\n",
       "Name: Rating, dtype: int64"
      ]
     },
     "execution_count": 11,
     "metadata": {},
     "output_type": "execute_result"
    }
   ],
   "source": [
    "# Convert categorical class labels to numerical\n",
    "y = y.map(lambda x: {'E' :0, 'E10+' :1, 'T' :2, 'M' :3, 'AO' :4, 'K-A' :5, 'RP' :6}.get(x))\n",
    "print(y.unique())\n",
    "print(y.shape)\n",
    "print(type(y))\n",
    "y.head()"
   ]
  },
  {
   "cell_type": "code",
   "execution_count": 12,
   "metadata": {
    "colab": {
     "base_uri": "https://localhost:8080/",
     "height": 321
    },
    "colab_type": "code",
    "id": "VSJ0qExaeZ-F",
    "outputId": "27f51e3b-ddeb-4c58-b456-9d16659f8a10"
   },
   "outputs": [
    {
     "name": "stdout",
     "output_type": "stream",
     "text": [
      "(6825, 1677)\n"
     ]
    },
    {
     "data": {
      "text/html": [
       "<div>\n",
       "<style scoped>\n",
       "    .dataframe tbody tr th:only-of-type {\n",
       "        vertical-align: middle;\n",
       "    }\n",
       "\n",
       "    .dataframe tbody tr th {\n",
       "        vertical-align: top;\n",
       "    }\n",
       "\n",
       "    .dataframe thead th {\n",
       "        text-align: right;\n",
       "    }\n",
       "</style>\n",
       "<table border=\"1\" class=\"dataframe\">\n",
       "  <thead>\n",
       "    <tr style=\"text-align: right;\">\n",
       "      <th></th>\n",
       "      <th>Year_of_Release</th>\n",
       "      <th>NA_Sales</th>\n",
       "      <th>EU_Sales</th>\n",
       "      <th>JP_Sales</th>\n",
       "      <th>Other_Sales</th>\n",
       "      <th>Critic_Score</th>\n",
       "      <th>Critic_Count</th>\n",
       "      <th>User_Count</th>\n",
       "      <th>Platform_3DS</th>\n",
       "      <th>Platform_DC</th>\n",
       "      <th>...</th>\n",
       "      <th>Developer_h.a.n.d. Inc.</th>\n",
       "      <th>Developer_iNiS</th>\n",
       "      <th>Developer_id Software</th>\n",
       "      <th>Developer_id Software, Nerve Software</th>\n",
       "      <th>Developer_id Software, Raven Software</th>\n",
       "      <th>Developer_n-Space</th>\n",
       "      <th>Developer_neo Software</th>\n",
       "      <th>Developer_odenis studio</th>\n",
       "      <th>Developer_syn Sophia</th>\n",
       "      <th>Developer_zSlide</th>\n",
       "    </tr>\n",
       "  </thead>\n",
       "  <tbody>\n",
       "    <tr>\n",
       "      <th>0</th>\n",
       "      <td>-0.341201</td>\n",
       "      <td>42.349741</td>\n",
       "      <td>41.793631</td>\n",
       "      <td>12.887711</td>\n",
       "      <td>31.007176</td>\n",
       "      <td>0.413044</td>\n",
       "      <td>1.148059</td>\n",
       "      <td>0.250734</td>\n",
       "      <td>-0.152441</td>\n",
       "      <td>-0.045338</td>\n",
       "      <td>...</td>\n",
       "      <td>-0.029663</td>\n",
       "      <td>-0.024216</td>\n",
       "      <td>-0.034257</td>\n",
       "      <td>-0.012105</td>\n",
       "      <td>-0.02097</td>\n",
       "      <td>-0.043685</td>\n",
       "      <td>-0.012105</td>\n",
       "      <td>-0.012105</td>\n",
       "      <td>-0.017121</td>\n",
       "      <td>-0.012105</td>\n",
       "    </tr>\n",
       "    <tr>\n",
       "      <th>2</th>\n",
       "      <td>0.133752</td>\n",
       "      <td>15.802014</td>\n",
       "      <td>18.222438</td>\n",
       "      <td>12.957265</td>\n",
       "      <td>11.885525</td>\n",
       "      <td>0.845709</td>\n",
       "      <td>2.292536</td>\n",
       "      <td>0.909586</td>\n",
       "      <td>-0.152441</td>\n",
       "      <td>-0.045338</td>\n",
       "      <td>...</td>\n",
       "      <td>-0.029663</td>\n",
       "      <td>-0.024216</td>\n",
       "      <td>-0.034257</td>\n",
       "      <td>-0.012105</td>\n",
       "      <td>-0.02097</td>\n",
       "      <td>-0.043685</td>\n",
       "      <td>-0.012105</td>\n",
       "      <td>-0.012105</td>\n",
       "      <td>-0.017121</td>\n",
       "      <td>-0.012105</td>\n",
       "    </tr>\n",
       "    <tr>\n",
       "      <th>3</th>\n",
       "      <td>0.371229</td>\n",
       "      <td>15.729649</td>\n",
       "      <td>15.559767</td>\n",
       "      <td>11.183651</td>\n",
       "      <td>10.625572</td>\n",
       "      <td>0.701487</td>\n",
       "      <td>2.292536</td>\n",
       "      <td>0.029415</td>\n",
       "      <td>-0.152441</td>\n",
       "      <td>-0.045338</td>\n",
       "      <td>...</td>\n",
       "      <td>-0.029663</td>\n",
       "      <td>-0.024216</td>\n",
       "      <td>-0.034257</td>\n",
       "      <td>-0.012105</td>\n",
       "      <td>-0.02097</td>\n",
       "      <td>-0.043685</td>\n",
       "      <td>-0.012105</td>\n",
       "      <td>-0.012105</td>\n",
       "      <td>-0.017121</td>\n",
       "      <td>-0.012105</td>\n",
       "    </tr>\n",
       "    <tr>\n",
       "      <th>6</th>\n",
       "      <td>-0.341201</td>\n",
       "      <td>11.253338</td>\n",
       "      <td>12.955296</td>\n",
       "      <td>22.381762</td>\n",
       "      <td>10.366169</td>\n",
       "      <td>1.350484</td>\n",
       "      <td>1.876363</td>\n",
       "      <td>0.436302</td>\n",
       "      <td>-0.152441</td>\n",
       "      <td>-0.045338</td>\n",
       "      <td>...</td>\n",
       "      <td>-0.029663</td>\n",
       "      <td>-0.024216</td>\n",
       "      <td>-0.034257</td>\n",
       "      <td>-0.012105</td>\n",
       "      <td>-0.02097</td>\n",
       "      <td>-0.043685</td>\n",
       "      <td>-0.012105</td>\n",
       "      <td>-0.012105</td>\n",
       "      <td>-0.017121</td>\n",
       "      <td>-0.012105</td>\n",
       "    </tr>\n",
       "    <tr>\n",
       "      <th>7</th>\n",
       "      <td>-0.341201</td>\n",
       "      <td>14.023895</td>\n",
       "      <td>13.013496</td>\n",
       "      <td>9.966465</td>\n",
       "      <td>10.217939</td>\n",
       "      <td>-0.884950</td>\n",
       "      <td>0.627843</td>\n",
       "      <td>-0.077840</td>\n",
       "      <td>-0.152441</td>\n",
       "      <td>-0.045338</td>\n",
       "      <td>...</td>\n",
       "      <td>-0.029663</td>\n",
       "      <td>-0.024216</td>\n",
       "      <td>-0.034257</td>\n",
       "      <td>-0.012105</td>\n",
       "      <td>-0.02097</td>\n",
       "      <td>-0.043685</td>\n",
       "      <td>-0.012105</td>\n",
       "      <td>-0.012105</td>\n",
       "      <td>-0.017121</td>\n",
       "      <td>-0.012105</td>\n",
       "    </tr>\n",
       "  </tbody>\n",
       "</table>\n",
       "<p>5 rows × 1677 columns</p>\n",
       "</div>"
      ],
      "text/plain": [
       "   Year_of_Release   NA_Sales   EU_Sales   JP_Sales  Other_Sales  \\\n",
       "0        -0.341201  42.349741  41.793631  12.887711    31.007176   \n",
       "2         0.133752  15.802014  18.222438  12.957265    11.885525   \n",
       "3         0.371229  15.729649  15.559767  11.183651    10.625572   \n",
       "6        -0.341201  11.253338  12.955296  22.381762    10.366169   \n",
       "7        -0.341201  14.023895  13.013496   9.966465    10.217939   \n",
       "\n",
       "   Critic_Score  Critic_Count  User_Count  Platform_3DS  Platform_DC  ...  \\\n",
       "0      0.413044      1.148059    0.250734     -0.152441    -0.045338  ...   \n",
       "2      0.845709      2.292536    0.909586     -0.152441    -0.045338  ...   \n",
       "3      0.701487      2.292536    0.029415     -0.152441    -0.045338  ...   \n",
       "6      1.350484      1.876363    0.436302     -0.152441    -0.045338  ...   \n",
       "7     -0.884950      0.627843   -0.077840     -0.152441    -0.045338  ...   \n",
       "\n",
       "   Developer_h.a.n.d. Inc.  Developer_iNiS  Developer_id Software  \\\n",
       "0                -0.029663       -0.024216              -0.034257   \n",
       "2                -0.029663       -0.024216              -0.034257   \n",
       "3                -0.029663       -0.024216              -0.034257   \n",
       "6                -0.029663       -0.024216              -0.034257   \n",
       "7                -0.029663       -0.024216              -0.034257   \n",
       "\n",
       "   Developer_id Software, Nerve Software  \\\n",
       "0                              -0.012105   \n",
       "2                              -0.012105   \n",
       "3                              -0.012105   \n",
       "6                              -0.012105   \n",
       "7                              -0.012105   \n",
       "\n",
       "   Developer_id Software, Raven Software  Developer_n-Space  \\\n",
       "0                               -0.02097          -0.043685   \n",
       "2                               -0.02097          -0.043685   \n",
       "3                               -0.02097          -0.043685   \n",
       "6                               -0.02097          -0.043685   \n",
       "7                               -0.02097          -0.043685   \n",
       "\n",
       "   Developer_neo Software  Developer_odenis studio  Developer_syn Sophia  \\\n",
       "0               -0.012105                -0.012105             -0.017121   \n",
       "2               -0.012105                -0.012105             -0.017121   \n",
       "3               -0.012105                -0.012105             -0.017121   \n",
       "6               -0.012105                -0.012105             -0.017121   \n",
       "7               -0.012105                -0.012105             -0.017121   \n",
       "\n",
       "   Developer_zSlide  \n",
       "0         -0.012105  \n",
       "2         -0.012105  \n",
       "3         -0.012105  \n",
       "6         -0.012105  \n",
       "7         -0.012105  \n",
       "\n",
       "[5 rows x 1677 columns]"
      ]
     },
     "execution_count": 12,
     "metadata": {},
     "output_type": "execute_result"
    }
   ],
   "source": [
    "# Normalize X using mean() and std()  NOTE: The output is provided for your reference.\n",
    "X = (X - np.mean(X, axis = 0)) / np.std(X, axis = 0)\n",
    "print(X.shape)\n",
    "X.head()"
   ]
  },
  {
   "cell_type": "code",
   "execution_count": 13,
   "metadata": {
    "colab": {
     "base_uri": "https://localhost:8080/",
     "height": 85
    },
    "colab_type": "code",
    "id": "3X0QNdBteZ-J",
    "outputId": "11fcfafe-5259-475e-cdec-01908f7aace1"
   },
   "outputs": [
    {
     "name": "stdout",
     "output_type": "stream",
     "text": [
      "(5460, 1677)\n",
      "(5460,)\n",
      "(1365, 1677)\n",
      "(1365,)\n"
     ]
    }
   ],
   "source": [
    "# Split the data to train and test with ratio of 80/20 for train/test respectively\n",
    "X_train, X_test, y_train, y_test = train_test_split(X, y, test_size = 0.2, random_state = 360)\n",
    "\n",
    "print(X_train.shape)\n",
    "print(y_train.shape)\n",
    "print(X_test.shape)\n",
    "print(y_test.shape)"
   ]
  },
  {
   "cell_type": "markdown",
   "metadata": {
    "colab_type": "text",
    "id": "tUOdussueZ-M"
   },
   "source": [
    "> Now, you should put the data into tensors. Be aware though that there are other ways to prepare the data in tensorflow."
   ]
  },
  {
   "cell_type": "code",
   "execution_count": 14,
   "metadata": {
    "colab": {},
    "colab_type": "code",
    "id": "FGc5cL0leZ-M"
   },
   "outputs": [],
   "source": [
    "# Batch train and test data\n",
    "train_tensor = tf.data.Dataset.from_tensor_slices((X_train.values, y_train.values))\n",
    "test_tensor = tf.data.Dataset.from_tensor_slices((X_test.values, y_test.values))\n",
    "train_batch = train_tensor.shuffle(len(X_train)).batch(10)\n",
    "test_batch = test_tensor.shuffle(len(X_test)).batch(10)"
   ]
  },
  {
   "cell_type": "code",
   "execution_count": 15,
   "metadata": {
    "colab": {
     "base_uri": "https://localhost:8080/",
     "height": 34
    },
    "colab_type": "code",
    "id": "uNoqPaFieZ-P",
    "outputId": "7a5b2822-1a14-4188-f539-09ef0a1f491b"
   },
   "outputs": [
    {
     "data": {
      "text/plain": [
       "tensorflow.python.data.ops.dataset_ops.TensorSliceDataset"
      ]
     },
     "execution_count": 15,
     "metadata": {},
     "output_type": "execute_result"
    }
   ],
   "source": [
    "type(train_tensor)"
   ]
  },
  {
   "cell_type": "code",
   "execution_count": 16,
   "metadata": {
    "colab": {
     "base_uri": "https://localhost:8080/",
     "height": 51
    },
    "colab_type": "code",
    "id": "Cbm0oSw7eZ-S",
    "outputId": "a4cdb816-ae97-4dba-cd08-1559aba26b9e"
   },
   "outputs": [
    {
     "data": {
      "text/plain": [
       "(TensorSpec(shape=(1677,), dtype=tf.float64, name=None),\n",
       " TensorSpec(shape=(), dtype=tf.int64, name=None))"
      ]
     },
     "execution_count": 16,
     "metadata": {},
     "output_type": "execute_result"
    }
   ],
   "source": [
    "train_tensor.element_spec"
   ]
  },
  {
   "cell_type": "markdown",
   "metadata": {
    "colab_type": "text",
    "id": "WyFdU3KweZ-U"
   },
   "source": [
    "### Building the NN for Multi-Class Classification"
   ]
  },
  {
   "cell_type": "markdown",
   "metadata": {
    "colab_type": "text",
    "id": "gubS9gOgeZ-U"
   },
   "source": [
    "> You can begin with a simple neural network with a couple of hidden layers, and increase number of hidden layers and neurons as needed. You may also use callback and early stopping to find the optimal number of epochs, but it's possible to obtain the minimum required accuracy (0.70) with 20 epochs only.\n",
    "\n",
    "> **Hint**: During training, you should see a clear trend of descending loss and increasing accuracy epoch after epoch; otherwise, your model has not been developed properly.\n",
    "\n",
    "> **Very Important Note**: All your cells should be run and show outputs and/or plots!"
   ]
  },
  {
   "cell_type": "code",
   "execution_count": 17,
   "metadata": {
    "colab": {},
    "colab_type": "code",
    "id": "myL0cQtFeZ-V"
   },
   "outputs": [],
   "source": [
    "# Build a sequential NN with appropriate layers for multi-class classification\n",
    "# Use ReLU for all hidden layers\n",
    "\n",
    "# Hint1: input_dim of the first layer should match with the number of features in X_train\n",
    "\n",
    "# Hint2: Notice that the activation function and number of neurons in the output layer are determined\n",
    "# by the type of ML task i.e. Multi-class Classification\n",
    "nn_clf = tf.keras.Sequential([\n",
    "    # Add layers accordingly\n",
    "    tf.keras.layers.Dense(300, input_dim = 1677, activation = 'relu'),\n",
    "    tf.keras.layers.Dense(200, activation = 'relu'),\n",
    "    tf.keras.layers.Dense(100, activation = 'relu'),\n",
    "    tf.keras.layers.Dense(7, activation = 'softmax')\n",
    "    ]) "
   ]
  },
  {
   "cell_type": "code",
   "execution_count": 18,
   "metadata": {
    "colab": {
     "base_uri": "https://localhost:8080/",
     "height": 289
    },
    "colab_type": "code",
    "id": "ty18W7LjeZ-X",
    "outputId": "00856f47-7a50-44e6-d173-0ce41e11757c"
   },
   "outputs": [
    {
     "name": "stdout",
     "output_type": "stream",
     "text": [
      "Model: \"sequential\"\n",
      "_________________________________________________________________\n",
      "Layer (type)                 Output Shape              Param #   \n",
      "=================================================================\n",
      "dense (Dense)                (None, 300)               503400    \n",
      "_________________________________________________________________\n",
      "dense_1 (Dense)              (None, 200)               60200     \n",
      "_________________________________________________________________\n",
      "dense_2 (Dense)              (None, 100)               20100     \n",
      "_________________________________________________________________\n",
      "dense_3 (Dense)              (None, 7)                 707       \n",
      "=================================================================\n",
      "Total params: 584,407\n",
      "Trainable params: 584,407\n",
      "Non-trainable params: 0\n",
      "_________________________________________________________________\n"
     ]
    }
   ],
   "source": [
    "nn_clf.summary()"
   ]
  },
  {
   "cell_type": "code",
   "execution_count": 19,
   "metadata": {
    "colab": {},
    "colab_type": "code",
    "id": "A3_c16AceZ-Z"
   },
   "outputs": [],
   "source": [
    "# Compile nn_clf with loss='sparse_categorical_crossentropy' and metrics=['sparse_categorical_accuracy']\n",
    "# Hint1: One of the hyperparameters you can change is the optimizer (Adam, RMSprop, SGD, ...)\n",
    "# Hint2: The other impactful hyperparameter is learning_rate\n",
    "nn_clf.compile(optimizer = tf.keras.optimizers.Adam(learning_rate=0.001),\n",
    "               loss = 'sparse_categorical_crossentropy', \n",
    "               metrics = ['sparse_categorical_accuracy'])"
   ]
  },
  {
   "cell_type": "markdown",
   "metadata": {
    "colab_type": "text",
    "id": "KoH2LfAgeZ-b"
   },
   "source": [
    "> To train the model, you use `fit()` method, and since you've created `train_batch`, you don't need to pass `y_train` as it's already included in the batch."
   ]
  },
  {
   "cell_type": "code",
   "execution_count": 20,
   "metadata": {
    "colab": {
     "base_uri": "https://localhost:8080/",
     "height": 697
    },
    "colab_type": "code",
    "id": "dXDkB0v7eZ-c",
    "outputId": "384c61ab-f39d-4552-e6e2-ef455703b6e4"
   },
   "outputs": [
    {
     "name": "stdout",
     "output_type": "stream",
     "text": [
      "Train for 546 steps\n",
      "Epoch 1/20\n",
      "546/546 [==============================] - 1s 2ms/step - loss: 1.0008 - sparse_categorical_accuracy: 0.5954\n",
      "Epoch 2/20\n",
      "546/546 [==============================] - 1s 2ms/step - loss: 0.5298 - sparse_categorical_accuracy: 0.7921\n",
      "Epoch 3/20\n",
      "546/546 [==============================] - 1s 2ms/step - loss: 0.3972 - sparse_categorical_accuracy: 0.8374\n",
      "Epoch 4/20\n",
      "546/546 [==============================] - 1s 2ms/step - loss: 0.3105 - sparse_categorical_accuracy: 0.8729\n",
      "Epoch 5/20\n",
      "546/546 [==============================] - 1s 2ms/step - loss: 0.2363 - sparse_categorical_accuracy: 0.9022\n",
      "Epoch 6/20\n",
      "546/546 [==============================] - 1s 2ms/step - loss: 0.1893 - sparse_categorical_accuracy: 0.9238\n",
      "Epoch 7/20\n",
      "546/546 [==============================] - 1s 2ms/step - loss: 0.1587 - sparse_categorical_accuracy: 0.9366\n",
      "Epoch 8/20\n",
      "546/546 [==============================] - 1s 2ms/step - loss: 0.1183 - sparse_categorical_accuracy: 0.9570\n",
      "Epoch 9/20\n",
      "546/546 [==============================] - 1s 2ms/step - loss: 0.0992 - sparse_categorical_accuracy: 0.9619\n",
      "Epoch 10/20\n",
      "546/546 [==============================] - 1s 2ms/step - loss: 0.0838 - sparse_categorical_accuracy: 0.9668\n",
      "Epoch 11/20\n",
      "546/546 [==============================] - 1s 2ms/step - loss: 0.0706 - sparse_categorical_accuracy: 0.9716\n",
      "Epoch 12/20\n",
      "546/546 [==============================] - 1s 2ms/step - loss: 0.0596 - sparse_categorical_accuracy: 0.9769\n",
      "Epoch 13/20\n",
      "546/546 [==============================] - 1s 2ms/step - loss: 0.0610 - sparse_categorical_accuracy: 0.9808\n",
      "Epoch 14/20\n",
      "546/546 [==============================] - 1s 2ms/step - loss: 0.0689 - sparse_categorical_accuracy: 0.9755\n",
      "Epoch 15/20\n",
      "546/546 [==============================] - 1s 2ms/step - loss: 0.0565 - sparse_categorical_accuracy: 0.9788\n",
      "Epoch 16/20\n",
      "546/546 [==============================] - 1s 2ms/step - loss: 0.0501 - sparse_categorical_accuracy: 0.9830\n",
      "Epoch 17/20\n",
      "546/546 [==============================] - 1s 2ms/step - loss: 0.0480 - sparse_categorical_accuracy: 0.9841\n",
      "Epoch 18/20\n",
      "546/546 [==============================] - 1s 2ms/step - loss: 0.0481 - sparse_categorical_accuracy: 0.9844\n",
      "Epoch 19/20\n",
      "546/546 [==============================] - 1s 2ms/step - loss: 0.0423 - sparse_categorical_accuracy: 0.9861\n",
      "Epoch 20/20\n",
      "546/546 [==============================] - 1s 2ms/step - loss: 0.0282 - sparse_categorical_accuracy: 0.9894\n"
     ]
    }
   ],
   "source": [
    "# Fit the network on train_batch with 20 epochs (you may train with more epochs or use callback if needed)\n",
    "nn_clf_history = nn_clf.fit(train_batch, epochs = 20)"
   ]
  },
  {
   "cell_type": "code",
   "execution_count": 21,
   "metadata": {
    "colab": {
     "base_uri": "https://localhost:8080/",
     "height": 341
    },
    "colab_type": "code",
    "id": "xDXRATECeZ-e",
    "outputId": "b0f051ab-a890-443e-ce4c-de255d485180"
   },
   "outputs": [
    {
     "data": {
      "text/plain": [
       "(0, 1)"
      ]
     },
     "execution_count": 21,
     "metadata": {},
     "output_type": "execute_result"
    },
    {
     "data": {
      "image/png": "[encoded data removed]",
      "text/plain": [
       "<Figure size 720x360 with 1 Axes>"
      ]
     },
     "metadata": {
      "needs_background": "light"
     },
     "output_type": "display_data"
    }
   ],
   "source": [
    "pd.DataFrame(nn_clf_history.history).plot(figsize=(10, 5))\n",
    "plt.grid(True)\n",
    "\n",
    "# Set the xticks - label locations\n",
    "plt.xticks(np.arange(0, 20, step=2))  \n",
    "\n",
    "# set the y-axis range to [0-1]\n",
    "plt.gca().set_ylim(0, 1) "
   ]
  },
  {
   "cell_type": "markdown",
   "metadata": {
    "colab_type": "text",
    "id": "EysAxES6eZ-g"
   },
   "source": [
    "> To evaluate the model, you use `evaluate()` method.\n",
    "\n",
    "> <font color='red'>**Minimum Accuracy Requirement**</font>: Your accuracy on `test_batch` must be at least **0.70**. Otherwise, your notebook will get NO CREDIT for this part, so you must fine-tune your `nn_clf` accordingly."
   ]
  },
  {
   "cell_type": "code",
   "execution_count": 22,
   "metadata": {
    "colab": {
     "base_uri": "https://localhost:8080/",
     "height": 34
    },
    "colab_type": "code",
    "id": "6CVx8ZA-eZ-h",
    "outputId": "f2e3a4a1-12a7-46a8-a861-d51c63bbb6d6"
   },
   "outputs": [
    {
     "name": "stdout",
     "output_type": "stream",
     "text": [
      "137/137 [==============================] - 0s 1ms/step - loss: 2.7348 - sparse_categorical_accuracy: 0.7011\n"
     ]
    }
   ],
   "source": [
    "# Evaluate the model on test_batch - no need to pass y_test because it's included in test_batch\n",
    "cross_entropy_loss, accuracy = nn_clf.evaluate(test_batch)"
   ]
  },
  {
   "cell_type": "code",
   "execution_count": 23,
   "metadata": {
    "colab": {
     "base_uri": "https://localhost:8080/",
     "height": 34
    },
    "colab_type": "code",
    "id": "ysdqUbUdeZ-k",
    "outputId": "94335b8a-8aa2-4d11-bf38-d6e261ac0323"
   },
   "outputs": [
    {
     "data": {
      "text/plain": [
       "0.7"
      ]
     },
     "execution_count": 23,
     "metadata": {},
     "output_type": "execute_result"
    }
   ],
   "source": [
    "# Minimum Required Accuracy: 0.70\n",
    "round(accuracy, 2)"
   ]
  },
  {
   "cell_type": "code",
   "execution_count": 24,
   "metadata": {
    "colab": {
     "base_uri": "https://localhost:8080/",
     "height": 88
    },
    "colab_type": "code",
    "id": "WlTpoK6BeZ-m",
    "outputId": "b6a7643e-c554-4083-9a1d-fb76f9b64358"
   },
   "outputs": [],
   "source": [
    "y_pred = nn_clf.predict_classes(X_test)"
   ]
  },
  {
   "cell_type": "code",
   "execution_count": 25,
   "metadata": {
    "colab": {
     "base_uri": "https://localhost:8080/",
     "height": 34
    },
    "colab_type": "code",
    "id": "EiiCfee8eZ-o",
    "outputId": "bbd7c146-067d-4e87-a456-d30ecbd8c185"
   },
   "outputs": [
    {
     "data": {
      "text/plain": [
       "array([1, 2, 2, ..., 2, 3, 1])"
      ]
     },
     "execution_count": 25,
     "metadata": {},
     "output_type": "execute_result"
    }
   ],
   "source": [
    "y_pred"
   ]
  },
  {
   "cell_type": "markdown",
   "metadata": {
    "colab_type": "text",
    "id": "eDO0GK39eZ-q"
   },
   "source": [
    "> Get a [classification report](https://scikit-learn.org/stable/modules/generated/sklearn.metrics.classification_report.html)."
   ]
  },
  {
   "cell_type": "code",
   "execution_count": 26,
   "metadata": {
    "colab": {
     "base_uri": "https://localhost:8080/",
     "height": 221
    },
    "colab_type": "code",
    "id": "HMarKKZZeZ-r",
    "outputId": "3761a6bf-414e-47dd-830a-841345e1e3f8"
   },
   "outputs": [
    {
     "name": "stdout",
     "output_type": "stream",
     "text": [
      "              precision    recall  f1-score   support\n",
      "\n",
      "           0       0.77      0.76      0.76       407\n",
      "           1       0.54      0.50      0.52       183\n",
      "           2       0.67      0.73      0.70       490\n",
      "           3       0.76      0.70      0.73       284\n",
      "           5       0.00      0.00      0.00         1\n",
      "\n",
      "    accuracy                           0.70      1365\n",
      "   macro avg       0.55      0.54      0.54      1365\n",
      "weighted avg       0.70      0.70      0.70      1365\n",
      "\n"
     ]
    }
   ],
   "source": [
    "print(classification_report(y_test, y_pred))"
   ]
  },
  {
   "cell_type": "markdown",
   "metadata": {
    "colab_type": "text",
    "id": "qnIraqtIeZ-t"
   },
   "source": [
    "> Next, you're going to fine-tune your learning-rate specifically. To do so and to avoid repeating the code, let's write a function."
   ]
  },
  {
   "cell_type": "code",
   "execution_count": 27,
   "metadata": {
    "colab": {},
    "colab_type": "code",
    "id": "hfdQOPQWeZ-u"
   },
   "outputs": [],
   "source": [
    "def build_model():\n",
    "    nn_clf = tf.keras.Sequential([\n",
    "        # Add layers accordingly\n",
    "        tf.keras.layers.Dense(300, input_dim = 1677, activation = 'relu'),\n",
    "        tf.keras.layers.Dense(200, activation = 'relu'),\n",
    "        tf.keras.layers.Dense(100, activation = 'relu'),\n",
    "        tf.keras.layers.Dense(7, activation = 'softmax')\n",
    "        ]) \n",
    "    return nn_clf"
   ]
  },
  {
   "cell_type": "markdown",
   "metadata": {
    "colab_type": "text",
    "id": "IIPCCpJbeZ-w"
   },
   "source": [
    "> The learning rate range that you're going to investigate is between 0.001 and 0.1 with an increment step of 0.001. Use the optimizer of your choice that performed the best in your fine-tuning, and don't change it in the `for` loop.\n",
    "\n",
    "> It's possible to try different learning rate scheduling policies, including those policies with an exponential decay rate, but you narrow down your investigation on this specific range for this part of the assignment.\n",
    "\n",
    "> Running this cell may take a few minutes!"
   ]
  },
  {
   "cell_type": "code",
   "execution_count": 28,
   "metadata": {
    "colab": {
     "base_uri": "https://localhost:8080/",
     "height": 391
    },
    "colab_type": "code",
    "id": "4naD8040eZ-w",
    "outputId": "d41003a2-0f76-4158-a0d4-cb3b3251e441"
   },
   "outputs": [
    {
     "name": "stdout",
     "output_type": "stream",
     "text": [
      "lr =  0.001\n",
      "137/137 [==============================] - 0s 1ms/step - loss: 2.2371 - sparse_categorical_accuracy: 0.6960\n",
      "accuracy =  0.6959707\n",
      "lr =  0.002\n",
      "137/137 [==============================] - 0s 999us/step - loss: 3.0502 - sparse_categorical_accuracy: 0.6527\n",
      "accuracy =  0.6527473\n",
      "lr =  0.003\n",
      "137/137 [==============================] - 0s 1ms/step - loss: 9.2834 - sparse_categorical_accuracy: 0.6652\n",
      "accuracy =  0.6652015\n",
      "lr =  0.004\n",
      "137/137 [==============================] - 0s 985us/step - loss: 4.3891 - sparse_categorical_accuracy: 0.7026\n",
      "accuracy =  0.7025641\n",
      "lr =  0.005\n",
      "137/137 [==============================] - 0s 936us/step - loss: 7.3838 - sparse_categorical_accuracy: 0.6586\n",
      "accuracy =  0.6586081\n",
      "lr =  0.006\n",
      "137/137 [==============================] - 0s 976us/step - loss: 5.7104 - sparse_categorical_accuracy: 0.6601\n",
      "accuracy =  0.6600733\n",
      "lr =  0.007\n",
      "137/137 [==============================] - 0s 944us/step - loss: 6.3549 - sparse_categorical_accuracy: 0.6520\n",
      "accuracy =  0.6520147\n",
      "lr =  0.008\n",
      "137/137 [==============================] - 0s 1ms/step - loss: 2.8348 - sparse_categorical_accuracy: 0.5802\n",
      "accuracy =  0.5802198\n",
      "lr =  0.009000000000000001\n",
      "137/137 [==============================] - 0s 1ms/step - loss: 1.5777 - sparse_categorical_accuracy: 0.5905\n",
      "accuracy =  0.5904762\n",
      "lr =  0.010000000000000002\n",
      "137/137 [==============================] - 0s 993us/step - loss: 2.3793 - sparse_categorical_accuracy: 0.4513\n",
      "accuracy =  0.45128205\n"
     ]
    }
   ],
   "source": [
    "accuracies = []\n",
    "learning_rates = np.arange(0.001, 0.011, 0.001)\n",
    "\n",
    "''' Write a for loop that iterates over learning_rate\n",
    "    In each iteration:\n",
    "        build a new model by calling build_model(),\n",
    "        compile with the optimizer of your choice and the current learning_rate,\n",
    "        train on train_batch with 20 epochs,\n",
    "        evaluate on test_batch and get the accuracy,\n",
    "        append accuracy to accuracies\n",
    "'''\n",
    "for lr in learning_rates: #lr is current learning rate\n",
    "    print(\"lr = \", lr)\n",
    "    nn_clf = build_model()\n",
    "    nn_clf.compile(optimizer = tf.keras.optimizers.Adam(learning_rate = lr),\n",
    "                   loss = 'sparse_categorical_crossentropy',\n",
    "                   metrics = ['sparse_categorical_accuracy'])\n",
    "    nn_clf.fit(train_batch, epochs = 20, verbose = 0) # too much spam, sorry\n",
    "    _, accuracy = nn_clf.evaluate(test_batch)\n",
    "    print(\"accuracy = \", accuracy)\n",
    "    accuracies.append(accuracy)"
   ]
  },
  {
   "cell_type": "code",
   "execution_count": 29,
   "metadata": {
    "colab": {},
    "colab_type": "code",
    "id": "KAu3j1OieZ-z",
    "scrolled": true
   },
   "outputs": [
    {
     "data": {
      "text/plain": [
       "Text(0.5, 0, 'Learning Rate (Adam Optimizer)')"
      ]
     },
     "execution_count": 29,
     "metadata": {},
     "output_type": "execute_result"
    },
    {
     "data": {
      "image/png": "[encoded data removed]",
      "text/plain": [
       "<Figure size 432x288 with 1 Axes>"
      ]
     },
     "metadata": {
      "needs_background": "light"
     },
     "output_type": "display_data"
    }
   ],
   "source": [
    "# Plot the \"Impact of Learning Rate on Accuracy\" with learning_rates on x-axis and accuracies on y_axis\n",
    "# Plot must have title and axis labels. Incomplete plots will get NO CREDIT!\n",
    "plt.title('Impact of Learning Rate on Accuracy')\n",
    "plt.plot(learning_rates, accuracies, 'b', label = 'sparse_categorical_accuracy')\n",
    "plt.legend(loc = 'lower right')\n",
    "plt.plot([0, 1], [0, 1], 'r--')\n",
    "plt.xlim([0.001, 0.010])\n",
    "plt.ylim([0.4, 0.75])\n",
    "plt.ylabel('Accuracy')\n",
    "plt.xlabel('Learning Rate (Adam Optimizer)')"
   ]
  },
  {
   "cell_type": "markdown",
   "metadata": {
    "colab_type": "text",
    "id": "3x7KuF5DeZ-1"
   },
   "source": [
    "## Part I - Questions"
   ]
  },
  {
   "cell_type": "markdown",
   "metadata": {
    "colab_type": "text",
    "id": "zNfnjoPreZ-2"
   },
   "source": [
    "ANSWER THE FOLLOWING QUESTIONS HERE:\n",
    "\n",
    "**Q1 [5 points]** - According to your learning rate fine-tuning plot, what is a good value for learning rate?\n",
    "\n",
    "**Any value from 0.001 to 0.004 shows comparable performance, but has sharp drop-offs afterward. This is probably at the mercy of shuffling/randomness, especially since 0.004 yielded a better accuracy than 0.001 Given that the default learning rate for `Adam` is 0.001 at  the discretion of the Keras library maintainers, I would say that is a fine value.**\n",
    "\n",
    "**Q2 [5 points]** - If you change the batch size in `train_batch` and `test_batch`:\n",
    "\n",
    "(a - 2 points) would it increase or decrease the speed of training? Also, would it increase or decrease the accuracy? YOU MUST DO EXPERIMENTS and report whether training speed and accuracy increase or decrease by changing batch size.\n",
    "\n",
    "**Increasing the size of both batches results in slower training, and a decrease in accuracy. On the other hand, decreasing the batch size results in overly fast training, and still a decrease in accuracy. There is a balance to strike in choosing batch size when designing a training scheme.**\n",
    "\n",
    "(b - 3 points) Explain why those observations on training speed and accuracy happen.\n",
    "\n",
    "**Increasing batch size means that the learning will converge much slower, but with more accurate estimates of the error while running the risk of converging suboptimally, whereas decreasing batch size means that the learning will converge much faster at the cost of introducing a ton of noise, and being negatively influenced by said noise. Extremes corresponding to these methods are batch training, and stochastic training. Mini-batch training offers a middle ground where you can control the tradeoff between suboptimal convergence, and noise reduction.**\n",
    "\n",
    "**Q3 [5 points]** - Name five learning rate scheduling policies known as **learning schedules** (you may consult with the textbook), and explain each briefly in no more than two sentences.\n",
    "\n",
    "**Power scheduling: uses an inverse exponential function to drop the learning rate at each step, with a large initial slope, and a continuously shallower/tapered slope as steps occur.**\n",
    "\n",
    "**Exponential scheduling: uses a composite exponential function to drop the learning rate by a factor of 10 every s steps.**\n",
    "\n",
    "**Piecewise constant scheduling: uses a sequenced scheme of assigning a constant learning rate for a certain amount of epochs, and then an adjusted (usually smaller) constant learning rate for the following set of epochs.**\n",
    "\n",
    "**Performance scheduling: adjusts (usually reduces) the learning rate whenever the validation error of past steps stops decreasing in an attempt to further drive down the overall error.**\n",
    "\n",
    "**Time-based scheduling: adjusts the learning rate according to the learning rate observed in a discrete period of time in the past.**"
   ]
  },
  {
   "cell_type": "markdown",
   "metadata": {
    "colab_type": "text",
    "id": "GJ77iUVKeZ-2"
   },
   "source": [
    "## Part II - Regression Using NNs"
   ]
  },
  {
   "cell_type": "markdown",
   "metadata": {
    "colab_type": "text",
    "id": "nj9BDNhbeZ-2"
   },
   "source": [
    "In Part II, you're going to perform regression using NNs."
   ]
  },
  {
   "cell_type": "markdown",
   "metadata": {
    "colab_type": "text",
    "id": "zKtj2FOreZ-3"
   },
   "source": [
    "You're going to predict `NA_Sales` based on other sales in the world. It is possible to frame the regression problem with other values as target, but this is how you're going to do regression practice for Part II. Notice that you should already drop `Global_Sales` from your game_data."
   ]
  },
  {
   "cell_type": "markdown",
   "metadata": {
    "colab_type": "text",
    "id": "1WuD9IMJeZ-3"
   },
   "source": [
    "## <font color=\"red\"> Required Coding"
   ]
  },
  {
   "cell_type": "code",
   "execution_count": 30,
   "metadata": {
    "colab": {},
    "colab_type": "code",
    "id": "eQK6thsreZ-4"
   },
   "outputs": [],
   "source": [
    "# Get feature vector X_reg (all columns but \"NA_Sales\") and target label y_reg as \"NA_Sales\"\n",
    "X_reg = game_data.drop(['NA_Sales'], axis = 1)\n",
    "y_reg = game_data['NA_Sales']"
   ]
  },
  {
   "cell_type": "code",
   "execution_count": 31,
   "metadata": {
    "colab": {},
    "colab_type": "code",
    "id": "W0yPEKg7eZ-6"
   },
   "outputs": [
    {
     "name": "stdout",
     "output_type": "stream",
     "text": [
      "(6825, 13)\n"
     ]
    },
    {
     "data": {
      "text/html": [
       "<div>\n",
       "<style scoped>\n",
       "    .dataframe tbody tr th:only-of-type {\n",
       "        vertical-align: middle;\n",
       "    }\n",
       "\n",
       "    .dataframe tbody tr th {\n",
       "        vertical-align: top;\n",
       "    }\n",
       "\n",
       "    .dataframe thead th {\n",
       "        text-align: right;\n",
       "    }\n",
       "</style>\n",
       "<table border=\"1\" class=\"dataframe\">\n",
       "  <thead>\n",
       "    <tr style=\"text-align: right;\">\n",
       "      <th></th>\n",
       "      <th>Platform</th>\n",
       "      <th>Year_of_Release</th>\n",
       "      <th>Genre</th>\n",
       "      <th>Publisher</th>\n",
       "      <th>EU_Sales</th>\n",
       "      <th>JP_Sales</th>\n",
       "      <th>Other_Sales</th>\n",
       "      <th>Critic_Score</th>\n",
       "      <th>Critic_Count</th>\n",
       "      <th>User_Score</th>\n",
       "      <th>User_Count</th>\n",
       "      <th>Developer</th>\n",
       "      <th>Rating</th>\n",
       "    </tr>\n",
       "  </thead>\n",
       "  <tbody>\n",
       "    <tr>\n",
       "      <th>0</th>\n",
       "      <td>Wii</td>\n",
       "      <td>2006.0</td>\n",
       "      <td>Sports</td>\n",
       "      <td>Nintendo</td>\n",
       "      <td>28.96</td>\n",
       "      <td>3.77</td>\n",
       "      <td>8.45</td>\n",
       "      <td>76.0</td>\n",
       "      <td>51.0</td>\n",
       "      <td>8</td>\n",
       "      <td>322.0</td>\n",
       "      <td>Nintendo</td>\n",
       "      <td>E</td>\n",
       "    </tr>\n",
       "    <tr>\n",
       "      <th>2</th>\n",
       "      <td>Wii</td>\n",
       "      <td>2008.0</td>\n",
       "      <td>Racing</td>\n",
       "      <td>Nintendo</td>\n",
       "      <td>12.76</td>\n",
       "      <td>3.79</td>\n",
       "      <td>3.29</td>\n",
       "      <td>82.0</td>\n",
       "      <td>73.0</td>\n",
       "      <td>8.3</td>\n",
       "      <td>709.0</td>\n",
       "      <td>Nintendo</td>\n",
       "      <td>E</td>\n",
       "    </tr>\n",
       "    <tr>\n",
       "      <th>3</th>\n",
       "      <td>Wii</td>\n",
       "      <td>2009.0</td>\n",
       "      <td>Sports</td>\n",
       "      <td>Nintendo</td>\n",
       "      <td>10.93</td>\n",
       "      <td>3.28</td>\n",
       "      <td>2.95</td>\n",
       "      <td>80.0</td>\n",
       "      <td>73.0</td>\n",
       "      <td>8</td>\n",
       "      <td>192.0</td>\n",
       "      <td>Nintendo</td>\n",
       "      <td>E</td>\n",
       "    </tr>\n",
       "    <tr>\n",
       "      <th>6</th>\n",
       "      <td>DS</td>\n",
       "      <td>2006.0</td>\n",
       "      <td>Platform</td>\n",
       "      <td>Nintendo</td>\n",
       "      <td>9.14</td>\n",
       "      <td>6.50</td>\n",
       "      <td>2.88</td>\n",
       "      <td>89.0</td>\n",
       "      <td>65.0</td>\n",
       "      <td>8.5</td>\n",
       "      <td>431.0</td>\n",
       "      <td>Nintendo</td>\n",
       "      <td>E</td>\n",
       "    </tr>\n",
       "    <tr>\n",
       "      <th>7</th>\n",
       "      <td>Wii</td>\n",
       "      <td>2006.0</td>\n",
       "      <td>Misc</td>\n",
       "      <td>Nintendo</td>\n",
       "      <td>9.18</td>\n",
       "      <td>2.93</td>\n",
       "      <td>2.84</td>\n",
       "      <td>58.0</td>\n",
       "      <td>41.0</td>\n",
       "      <td>6.6</td>\n",
       "      <td>129.0</td>\n",
       "      <td>Nintendo</td>\n",
       "      <td>E</td>\n",
       "    </tr>\n",
       "  </tbody>\n",
       "</table>\n",
       "</div>"
      ],
      "text/plain": [
       "  Platform  Year_of_Release     Genre Publisher  EU_Sales  JP_Sales  \\\n",
       "0      Wii           2006.0    Sports  Nintendo     28.96      3.77   \n",
       "2      Wii           2008.0    Racing  Nintendo     12.76      3.79   \n",
       "3      Wii           2009.0    Sports  Nintendo     10.93      3.28   \n",
       "6       DS           2006.0  Platform  Nintendo      9.14      6.50   \n",
       "7      Wii           2006.0      Misc  Nintendo      9.18      2.93   \n",
       "\n",
       "   Other_Sales  Critic_Score  Critic_Count User_Score  User_Count Developer  \\\n",
       "0         8.45          76.0          51.0          8       322.0  Nintendo   \n",
       "2         3.29          82.0          73.0        8.3       709.0  Nintendo   \n",
       "3         2.95          80.0          73.0          8       192.0  Nintendo   \n",
       "6         2.88          89.0          65.0        8.5       431.0  Nintendo   \n",
       "7         2.84          58.0          41.0        6.6       129.0  Nintendo   \n",
       "\n",
       "  Rating  \n",
       "0      E  \n",
       "2      E  \n",
       "3      E  \n",
       "6      E  \n",
       "7      E  "
      ]
     },
     "execution_count": 31,
     "metadata": {},
     "output_type": "execute_result"
    }
   ],
   "source": [
    "# Print X_reg shape and head\n",
    "print(X_reg.shape)\n",
    "X_reg.head()"
   ]
  },
  {
   "cell_type": "code",
   "execution_count": 32,
   "metadata": {
    "colab": {},
    "colab_type": "code",
    "id": "kgtg3aYjeZ-9"
   },
   "outputs": [
    {
     "name": "stdout",
     "output_type": "stream",
     "text": [
      "(6825, 1683)\n"
     ]
    },
    {
     "data": {
      "text/html": [
       "<div>\n",
       "<style scoped>\n",
       "    .dataframe tbody tr th:only-of-type {\n",
       "        vertical-align: middle;\n",
       "    }\n",
       "\n",
       "    .dataframe tbody tr th {\n",
       "        vertical-align: top;\n",
       "    }\n",
       "\n",
       "    .dataframe thead th {\n",
       "        text-align: right;\n",
       "    }\n",
       "</style>\n",
       "<table border=\"1\" class=\"dataframe\">\n",
       "  <thead>\n",
       "    <tr style=\"text-align: right;\">\n",
       "      <th></th>\n",
       "      <th>Year_of_Release</th>\n",
       "      <th>EU_Sales</th>\n",
       "      <th>JP_Sales</th>\n",
       "      <th>Other_Sales</th>\n",
       "      <th>Critic_Score</th>\n",
       "      <th>Critic_Count</th>\n",
       "      <th>User_Count</th>\n",
       "      <th>Platform_3DS</th>\n",
       "      <th>Platform_DC</th>\n",
       "      <th>Platform_DS</th>\n",
       "      <th>...</th>\n",
       "      <th>Developer_odenis studio</th>\n",
       "      <th>Developer_syn Sophia</th>\n",
       "      <th>Developer_zSlide</th>\n",
       "      <th>Rating_AO</th>\n",
       "      <th>Rating_E</th>\n",
       "      <th>Rating_E10+</th>\n",
       "      <th>Rating_K-A</th>\n",
       "      <th>Rating_M</th>\n",
       "      <th>Rating_RP</th>\n",
       "      <th>Rating_T</th>\n",
       "    </tr>\n",
       "  </thead>\n",
       "  <tbody>\n",
       "    <tr>\n",
       "      <th>0</th>\n",
       "      <td>2006.0</td>\n",
       "      <td>28.96</td>\n",
       "      <td>3.77</td>\n",
       "      <td>8.45</td>\n",
       "      <td>76.0</td>\n",
       "      <td>51.0</td>\n",
       "      <td>322.0</td>\n",
       "      <td>0</td>\n",
       "      <td>0</td>\n",
       "      <td>0</td>\n",
       "      <td>...</td>\n",
       "      <td>0</td>\n",
       "      <td>0</td>\n",
       "      <td>0</td>\n",
       "      <td>0</td>\n",
       "      <td>1</td>\n",
       "      <td>0</td>\n",
       "      <td>0</td>\n",
       "      <td>0</td>\n",
       "      <td>0</td>\n",
       "      <td>0</td>\n",
       "    </tr>\n",
       "    <tr>\n",
       "      <th>2</th>\n",
       "      <td>2008.0</td>\n",
       "      <td>12.76</td>\n",
       "      <td>3.79</td>\n",
       "      <td>3.29</td>\n",
       "      <td>82.0</td>\n",
       "      <td>73.0</td>\n",
       "      <td>709.0</td>\n",
       "      <td>0</td>\n",
       "      <td>0</td>\n",
       "      <td>0</td>\n",
       "      <td>...</td>\n",
       "      <td>0</td>\n",
       "      <td>0</td>\n",
       "      <td>0</td>\n",
       "      <td>0</td>\n",
       "      <td>1</td>\n",
       "      <td>0</td>\n",
       "      <td>0</td>\n",
       "      <td>0</td>\n",
       "      <td>0</td>\n",
       "      <td>0</td>\n",
       "    </tr>\n",
       "    <tr>\n",
       "      <th>3</th>\n",
       "      <td>2009.0</td>\n",
       "      <td>10.93</td>\n",
       "      <td>3.28</td>\n",
       "      <td>2.95</td>\n",
       "      <td>80.0</td>\n",
       "      <td>73.0</td>\n",
       "      <td>192.0</td>\n",
       "      <td>0</td>\n",
       "      <td>0</td>\n",
       "      <td>0</td>\n",
       "      <td>...</td>\n",
       "      <td>0</td>\n",
       "      <td>0</td>\n",
       "      <td>0</td>\n",
       "      <td>0</td>\n",
       "      <td>1</td>\n",
       "      <td>0</td>\n",
       "      <td>0</td>\n",
       "      <td>0</td>\n",
       "      <td>0</td>\n",
       "      <td>0</td>\n",
       "    </tr>\n",
       "    <tr>\n",
       "      <th>6</th>\n",
       "      <td>2006.0</td>\n",
       "      <td>9.14</td>\n",
       "      <td>6.50</td>\n",
       "      <td>2.88</td>\n",
       "      <td>89.0</td>\n",
       "      <td>65.0</td>\n",
       "      <td>431.0</td>\n",
       "      <td>0</td>\n",
       "      <td>0</td>\n",
       "      <td>1</td>\n",
       "      <td>...</td>\n",
       "      <td>0</td>\n",
       "      <td>0</td>\n",
       "      <td>0</td>\n",
       "      <td>0</td>\n",
       "      <td>1</td>\n",
       "      <td>0</td>\n",
       "      <td>0</td>\n",
       "      <td>0</td>\n",
       "      <td>0</td>\n",
       "      <td>0</td>\n",
       "    </tr>\n",
       "    <tr>\n",
       "      <th>7</th>\n",
       "      <td>2006.0</td>\n",
       "      <td>9.18</td>\n",
       "      <td>2.93</td>\n",
       "      <td>2.84</td>\n",
       "      <td>58.0</td>\n",
       "      <td>41.0</td>\n",
       "      <td>129.0</td>\n",
       "      <td>0</td>\n",
       "      <td>0</td>\n",
       "      <td>0</td>\n",
       "      <td>...</td>\n",
       "      <td>0</td>\n",
       "      <td>0</td>\n",
       "      <td>0</td>\n",
       "      <td>0</td>\n",
       "      <td>1</td>\n",
       "      <td>0</td>\n",
       "      <td>0</td>\n",
       "      <td>0</td>\n",
       "      <td>0</td>\n",
       "      <td>0</td>\n",
       "    </tr>\n",
       "  </tbody>\n",
       "</table>\n",
       "<p>5 rows × 1683 columns</p>\n",
       "</div>"
      ],
      "text/plain": [
       "   Year_of_Release  EU_Sales  JP_Sales  Other_Sales  Critic_Score  \\\n",
       "0           2006.0     28.96      3.77         8.45          76.0   \n",
       "2           2008.0     12.76      3.79         3.29          82.0   \n",
       "3           2009.0     10.93      3.28         2.95          80.0   \n",
       "6           2006.0      9.14      6.50         2.88          89.0   \n",
       "7           2006.0      9.18      2.93         2.84          58.0   \n",
       "\n",
       "   Critic_Count  User_Count  Platform_3DS  Platform_DC  Platform_DS  ...  \\\n",
       "0          51.0       322.0             0            0            0  ...   \n",
       "2          73.0       709.0             0            0            0  ...   \n",
       "3          73.0       192.0             0            0            0  ...   \n",
       "6          65.0       431.0             0            0            1  ...   \n",
       "7          41.0       129.0             0            0            0  ...   \n",
       "\n",
       "   Developer_odenis studio  Developer_syn Sophia  Developer_zSlide  Rating_AO  \\\n",
       "0                        0                     0                 0          0   \n",
       "2                        0                     0                 0          0   \n",
       "3                        0                     0                 0          0   \n",
       "6                        0                     0                 0          0   \n",
       "7                        0                     0                 0          0   \n",
       "\n",
       "   Rating_E  Rating_E10+  Rating_K-A  Rating_M  Rating_RP  Rating_T  \n",
       "0         1            0           0         0          0         0  \n",
       "2         1            0           0         0          0         0  \n",
       "3         1            0           0         0          0         0  \n",
       "6         1            0           0         0          0         0  \n",
       "7         1            0           0         0          0         0  \n",
       "\n",
       "[5 rows x 1683 columns]"
      ]
     },
     "execution_count": 32,
     "metadata": {},
     "output_type": "execute_result"
    }
   ],
   "source": [
    "# Using pandas.get_dummies() create dummy variables for categorical features\n",
    "X_reg = pd.get_dummies(X_reg)\n",
    "print(X_reg.shape)\n",
    "X_reg.head()"
   ]
  },
  {
   "cell_type": "code",
   "execution_count": 33,
   "metadata": {
    "colab": {},
    "colab_type": "code",
    "id": "hlWTAaM-eZ-_"
   },
   "outputs": [
    {
     "name": "stdout",
     "output_type": "stream",
     "text": [
      "(6825, 1683)\n"
     ]
    },
    {
     "data": {
      "text/html": [
       "<div>\n",
       "<style scoped>\n",
       "    .dataframe tbody tr th:only-of-type {\n",
       "        vertical-align: middle;\n",
       "    }\n",
       "\n",
       "    .dataframe tbody tr th {\n",
       "        vertical-align: top;\n",
       "    }\n",
       "\n",
       "    .dataframe thead th {\n",
       "        text-align: right;\n",
       "    }\n",
       "</style>\n",
       "<table border=\"1\" class=\"dataframe\">\n",
       "  <thead>\n",
       "    <tr style=\"text-align: right;\">\n",
       "      <th></th>\n",
       "      <th>Year_of_Release</th>\n",
       "      <th>EU_Sales</th>\n",
       "      <th>JP_Sales</th>\n",
       "      <th>Other_Sales</th>\n",
       "      <th>Critic_Score</th>\n",
       "      <th>Critic_Count</th>\n",
       "      <th>User_Count</th>\n",
       "      <th>Platform_3DS</th>\n",
       "      <th>Platform_DC</th>\n",
       "      <th>Platform_DS</th>\n",
       "      <th>...</th>\n",
       "      <th>Developer_odenis studio</th>\n",
       "      <th>Developer_syn Sophia</th>\n",
       "      <th>Developer_zSlide</th>\n",
       "      <th>Rating_AO</th>\n",
       "      <th>Rating_E</th>\n",
       "      <th>Rating_E10+</th>\n",
       "      <th>Rating_K-A</th>\n",
       "      <th>Rating_M</th>\n",
       "      <th>Rating_RP</th>\n",
       "      <th>Rating_T</th>\n",
       "    </tr>\n",
       "  </thead>\n",
       "  <tbody>\n",
       "    <tr>\n",
       "      <th>0</th>\n",
       "      <td>-0.341201</td>\n",
       "      <td>41.793631</td>\n",
       "      <td>12.887711</td>\n",
       "      <td>31.007176</td>\n",
       "      <td>0.413044</td>\n",
       "      <td>1.148059</td>\n",
       "      <td>0.250734</td>\n",
       "      <td>-0.152441</td>\n",
       "      <td>-0.045338</td>\n",
       "      <td>-0.270082</td>\n",
       "      <td>...</td>\n",
       "      <td>-0.012105</td>\n",
       "      <td>-0.017121</td>\n",
       "      <td>-0.012105</td>\n",
       "      <td>-0.012105</td>\n",
       "      <td>1.509337</td>\n",
       "      <td>-0.397191</td>\n",
       "      <td>-0.012105</td>\n",
       "      <td>-0.515523</td>\n",
       "      <td>-0.012105</td>\n",
       "      <td>-0.731025</td>\n",
       "    </tr>\n",
       "    <tr>\n",
       "      <th>2</th>\n",
       "      <td>0.133752</td>\n",
       "      <td>18.222438</td>\n",
       "      <td>12.957265</td>\n",
       "      <td>11.885525</td>\n",
       "      <td>0.845709</td>\n",
       "      <td>2.292536</td>\n",
       "      <td>0.909586</td>\n",
       "      <td>-0.152441</td>\n",
       "      <td>-0.045338</td>\n",
       "      <td>-0.270082</td>\n",
       "      <td>...</td>\n",
       "      <td>-0.012105</td>\n",
       "      <td>-0.017121</td>\n",
       "      <td>-0.012105</td>\n",
       "      <td>-0.012105</td>\n",
       "      <td>1.509337</td>\n",
       "      <td>-0.397191</td>\n",
       "      <td>-0.012105</td>\n",
       "      <td>-0.515523</td>\n",
       "      <td>-0.012105</td>\n",
       "      <td>-0.731025</td>\n",
       "    </tr>\n",
       "    <tr>\n",
       "      <th>3</th>\n",
       "      <td>0.371229</td>\n",
       "      <td>15.559767</td>\n",
       "      <td>11.183651</td>\n",
       "      <td>10.625572</td>\n",
       "      <td>0.701487</td>\n",
       "      <td>2.292536</td>\n",
       "      <td>0.029415</td>\n",
       "      <td>-0.152441</td>\n",
       "      <td>-0.045338</td>\n",
       "      <td>-0.270082</td>\n",
       "      <td>...</td>\n",
       "      <td>-0.012105</td>\n",
       "      <td>-0.017121</td>\n",
       "      <td>-0.012105</td>\n",
       "      <td>-0.012105</td>\n",
       "      <td>1.509337</td>\n",
       "      <td>-0.397191</td>\n",
       "      <td>-0.012105</td>\n",
       "      <td>-0.515523</td>\n",
       "      <td>-0.012105</td>\n",
       "      <td>-0.731025</td>\n",
       "    </tr>\n",
       "    <tr>\n",
       "      <th>6</th>\n",
       "      <td>-0.341201</td>\n",
       "      <td>12.955296</td>\n",
       "      <td>22.381762</td>\n",
       "      <td>10.366169</td>\n",
       "      <td>1.350484</td>\n",
       "      <td>1.876363</td>\n",
       "      <td>0.436302</td>\n",
       "      <td>-0.152441</td>\n",
       "      <td>-0.045338</td>\n",
       "      <td>3.702574</td>\n",
       "      <td>...</td>\n",
       "      <td>-0.012105</td>\n",
       "      <td>-0.017121</td>\n",
       "      <td>-0.012105</td>\n",
       "      <td>-0.012105</td>\n",
       "      <td>1.509337</td>\n",
       "      <td>-0.397191</td>\n",
       "      <td>-0.012105</td>\n",
       "      <td>-0.515523</td>\n",
       "      <td>-0.012105</td>\n",
       "      <td>-0.731025</td>\n",
       "    </tr>\n",
       "    <tr>\n",
       "      <th>7</th>\n",
       "      <td>-0.341201</td>\n",
       "      <td>13.013496</td>\n",
       "      <td>9.966465</td>\n",
       "      <td>10.217939</td>\n",
       "      <td>-0.884950</td>\n",
       "      <td>0.627843</td>\n",
       "      <td>-0.077840</td>\n",
       "      <td>-0.152441</td>\n",
       "      <td>-0.045338</td>\n",
       "      <td>-0.270082</td>\n",
       "      <td>...</td>\n",
       "      <td>-0.012105</td>\n",
       "      <td>-0.017121</td>\n",
       "      <td>-0.012105</td>\n",
       "      <td>-0.012105</td>\n",
       "      <td>1.509337</td>\n",
       "      <td>-0.397191</td>\n",
       "      <td>-0.012105</td>\n",
       "      <td>-0.515523</td>\n",
       "      <td>-0.012105</td>\n",
       "      <td>-0.731025</td>\n",
       "    </tr>\n",
       "  </tbody>\n",
       "</table>\n",
       "<p>5 rows × 1683 columns</p>\n",
       "</div>"
      ],
      "text/plain": [
       "   Year_of_Release   EU_Sales   JP_Sales  Other_Sales  Critic_Score  \\\n",
       "0        -0.341201  41.793631  12.887711    31.007176      0.413044   \n",
       "2         0.133752  18.222438  12.957265    11.885525      0.845709   \n",
       "3         0.371229  15.559767  11.183651    10.625572      0.701487   \n",
       "6        -0.341201  12.955296  22.381762    10.366169      1.350484   \n",
       "7        -0.341201  13.013496   9.966465    10.217939     -0.884950   \n",
       "\n",
       "   Critic_Count  User_Count  Platform_3DS  Platform_DC  Platform_DS  ...  \\\n",
       "0      1.148059    0.250734     -0.152441    -0.045338    -0.270082  ...   \n",
       "2      2.292536    0.909586     -0.152441    -0.045338    -0.270082  ...   \n",
       "3      2.292536    0.029415     -0.152441    -0.045338    -0.270082  ...   \n",
       "6      1.876363    0.436302     -0.152441    -0.045338     3.702574  ...   \n",
       "7      0.627843   -0.077840     -0.152441    -0.045338    -0.270082  ...   \n",
       "\n",
       "   Developer_odenis studio  Developer_syn Sophia  Developer_zSlide  Rating_AO  \\\n",
       "0                -0.012105             -0.017121         -0.012105  -0.012105   \n",
       "2                -0.012105             -0.017121         -0.012105  -0.012105   \n",
       "3                -0.012105             -0.017121         -0.012105  -0.012105   \n",
       "6                -0.012105             -0.017121         -0.012105  -0.012105   \n",
       "7                -0.012105             -0.017121         -0.012105  -0.012105   \n",
       "\n",
       "   Rating_E  Rating_E10+  Rating_K-A  Rating_M  Rating_RP  Rating_T  \n",
       "0  1.509337    -0.397191   -0.012105 -0.515523  -0.012105 -0.731025  \n",
       "2  1.509337    -0.397191   -0.012105 -0.515523  -0.012105 -0.731025  \n",
       "3  1.509337    -0.397191   -0.012105 -0.515523  -0.012105 -0.731025  \n",
       "6  1.509337    -0.397191   -0.012105 -0.515523  -0.012105 -0.731025  \n",
       "7  1.509337    -0.397191   -0.012105 -0.515523  -0.012105 -0.731025  \n",
       "\n",
       "[5 rows x 1683 columns]"
      ]
     },
     "execution_count": 33,
     "metadata": {},
     "output_type": "execute_result"
    }
   ],
   "source": [
    "# Normalize X_reg using mean() and std()  NOTE: The output is provided for your reference.\n",
    "X_reg = (X_reg - np.mean(X_reg, axis = 0)) / np.std(X_reg, axis = 0)\n",
    "print(X_reg.shape)\n",
    "X_reg.head()"
   ]
  },
  {
   "cell_type": "code",
   "execution_count": 34,
   "metadata": {
    "colab": {},
    "colab_type": "code",
    "id": "xidG3A3TeZ_C"
   },
   "outputs": [
    {
     "name": "stdout",
     "output_type": "stream",
     "text": [
      "(5460, 1683)\n",
      "(5460,)\n",
      "(1365, 1683)\n",
      "(1365,)\n"
     ]
    }
   ],
   "source": [
    "# Split the data to train and test with ratio of 80/20 for train/test respectively\n",
    "X_reg_train, X_reg_test, y_reg_train, y_reg_test = train_test_split(X_reg, y_reg, test_size = 0.2, random_state = 360)\n",
    "\n",
    "print(X_reg_train.shape)\n",
    "print(y_reg_train.shape)\n",
    "print(X_reg_test.shape)\n",
    "print(y_reg_test.shape)"
   ]
  },
  {
   "cell_type": "code",
   "execution_count": 35,
   "metadata": {
    "colab": {},
    "colab_type": "code",
    "id": "NyU_OQ3peZ_E"
   },
   "outputs": [],
   "source": [
    "# Batch the data\n",
    "train_tensor_reg = tf.data.Dataset.from_tensor_slices((X_reg_train.values, y_reg_train.values))\n",
    "test_tensor_reg = tf.data.Dataset.from_tensor_slices((X_reg_test.values, y_reg_test.values))\n",
    "train_batch_reg = train_tensor_reg.shuffle(len(X_reg_train)).batch(10)\n",
    "test_batch_reg = test_tensor_reg.shuffle(len(X_reg_test)).batch(10)"
   ]
  },
  {
   "cell_type": "code",
   "execution_count": 36,
   "metadata": {
    "colab": {},
    "colab_type": "code",
    "id": "gH5hV0DoeZ_H"
   },
   "outputs": [
    {
     "data": {
      "text/plain": [
       "(TensorSpec(shape=(1683,), dtype=tf.float64, name=None),\n",
       " TensorSpec(shape=(), dtype=tf.float64, name=None))"
      ]
     },
     "execution_count": 36,
     "metadata": {},
     "output_type": "execute_result"
    }
   ],
   "source": [
    "train_tensor_reg.element_spec"
   ]
  },
  {
   "cell_type": "markdown",
   "metadata": {
    "colab_type": "text",
    "id": "2-_dI1EIeZ_J"
   },
   "source": [
    "### Building NN for Regression"
   ]
  },
  {
   "cell_type": "code",
   "execution_count": 37,
   "metadata": {
    "colab": {},
    "colab_type": "code",
    "id": "pGoyuU3geZ_J"
   },
   "outputs": [],
   "source": [
    "# Build a sequential NN with appropriate layers for regression\n",
    "# Use ReLU for all hidden layers\n",
    "\n",
    "# Hint1: input_dim of the first layer should match with the number of features in X_train_reg\n",
    "# Hint2: Notice that the activation function and number of neurons in the output layer are determined\n",
    "# by the type of ML task i.e. Regression\n",
    "\n",
    "nn_reg = tf.keras.Sequential([\n",
    "    # Add layers accordingly\n",
    "    tf.keras.layers.Dense(300, input_dim = 1683, activation = 'relu'),\n",
    "    tf.keras.layers.Dense(200, activation = 'relu'),\n",
    "    tf.keras.layers.Dense(100, activation = 'relu'),\n",
    "    tf.keras.layers.Dense(1)\n",
    "    ]) "
   ]
  },
  {
   "cell_type": "code",
   "execution_count": 38,
   "metadata": {
    "colab": {},
    "colab_type": "code",
    "id": "FCHrmwnAeZ_N"
   },
   "outputs": [
    {
     "name": "stdout",
     "output_type": "stream",
     "text": [
      "Model: \"sequential_11\"\n",
      "_________________________________________________________________\n",
      "Layer (type)                 Output Shape              Param #   \n",
      "=================================================================\n",
      "dense_44 (Dense)             (None, 300)               505200    \n",
      "_________________________________________________________________\n",
      "dense_45 (Dense)             (None, 200)               60200     \n",
      "_________________________________________________________________\n",
      "dense_46 (Dense)             (None, 100)               20100     \n",
      "_________________________________________________________________\n",
      "dense_47 (Dense)             (None, 1)                 101       \n",
      "=================================================================\n",
      "Total params: 585,601\n",
      "Trainable params: 585,601\n",
      "Non-trainable params: 0\n",
      "_________________________________________________________________\n"
     ]
    }
   ],
   "source": [
    "nn_reg.summary()"
   ]
  },
  {
   "cell_type": "code",
   "execution_count": 39,
   "metadata": {
    "colab": {},
    "colab_type": "code",
    "id": "gh6DTbG2eZ_Q"
   },
   "outputs": [],
   "source": [
    "# Compile nn_reg with appropriate loss and metric\n",
    "\n",
    "# Hint1: You need to choose the loss and metric for regression\n",
    "# Hint2: For this regression task, loss and metrics might be the same\n",
    "nn_reg.compile(optimizer = tf.keras.optimizers.RMSprop(learning_rate = 0.001),\n",
    "               loss = 'mse',\n",
    "               metrics = ['mse'])"
   ]
  },
  {
   "cell_type": "code",
   "execution_count": 40,
   "metadata": {
    "colab": {},
    "colab_type": "code",
    "id": "ipyi6I-teZ_S",
    "scrolled": true
   },
   "outputs": [
    {
     "name": "stdout",
     "output_type": "stream",
     "text": [
      "Train for 546 steps\n",
      "Epoch 1/20\n",
      "546/546 [==============================] - 2s 4ms/step - loss: 0.4796 - mse: 0.4796\n",
      "Epoch 2/20\n",
      "546/546 [==============================] - 2s 3ms/step - loss: 0.2518 - mse: 0.2518\n",
      "Epoch 3/20\n",
      "546/546 [==============================] - 2s 3ms/step - loss: 0.2924 - mse: 0.2924\n",
      "Epoch 4/20\n",
      "546/546 [==============================] - 2s 3ms/step - loss: 0.1847 - mse: 0.1847\n",
      "Epoch 5/20\n",
      "546/546 [==============================] - 2s 3ms/step - loss: 0.1337 - mse: 0.1337\n",
      "Epoch 6/20\n",
      "546/546 [==============================] - 2s 3ms/step - loss: 0.1385 - mse: 0.1385\n",
      "Epoch 7/20\n",
      "546/546 [==============================] - 2s 3ms/step - loss: 0.1093 - mse: 0.1093\n",
      "Epoch 8/20\n",
      "546/546 [==============================] - 2s 3ms/step - loss: 0.0933 - mse: 0.0933\n",
      "Epoch 9/20\n",
      "546/546 [==============================] - 2s 3ms/step - loss: 0.0922 - mse: 0.0922\n",
      "Epoch 10/20\n",
      "546/546 [==============================] - 2s 3ms/step - loss: 0.0987 - mse: 0.0987\n",
      "Epoch 11/20\n",
      "546/546 [==============================] - 2s 3ms/step - loss: 0.0832 - mse: 0.0832\n",
      "Epoch 12/20\n",
      "546/546 [==============================] - 2s 3ms/step - loss: 0.1123 - mse: 0.1123\n",
      "Epoch 13/20\n",
      "546/546 [==============================] - 2s 3ms/step - loss: 0.0652 - mse: 0.0652\n",
      "Epoch 14/20\n",
      "546/546 [==============================] - 2s 3ms/step - loss: 0.0625 - mse: 0.0625\n",
      "Epoch 15/20\n",
      "546/546 [==============================] - 2s 3ms/step - loss: 0.0910 - mse: 0.0910\n",
      "Epoch 16/20\n",
      "546/546 [==============================] - 2s 3ms/step - loss: 0.0773 - mse: 0.0773\n",
      "Epoch 17/20\n",
      "546/546 [==============================] - 2s 3ms/step - loss: 0.0469 - mse: 0.0469\n",
      "Epoch 18/20\n",
      "546/546 [==============================] - 2s 3ms/step - loss: 0.0573 - mse: 0.0573\n",
      "Epoch 19/20\n",
      "546/546 [==============================] - 2s 3ms/step - loss: 0.0315 - mse: 0.0315\n",
      "Epoch 20/20\n",
      "546/546 [==============================] - 2s 3ms/step - loss: 0.0383 - mse: 0.0383\n"
     ]
    }
   ],
   "source": [
    "# Fit the network on train_batch_reg with 20 epochs\n",
    "nn_reg_history = nn_reg.fit(train_batch_reg, epochs = 20)"
   ]
  },
  {
   "cell_type": "code",
   "execution_count": 41,
   "metadata": {
    "colab": {},
    "colab_type": "code",
    "id": "_2KdKoQWeZ_U"
   },
   "outputs": [
    {
     "data": {
      "text/plain": [
       "(0, 1)"
      ]
     },
     "execution_count": 41,
     "metadata": {},
     "output_type": "execute_result"
    },
    {
     "data": {
      "image/png": "[encoded data removed]",
      "text/plain": [
       "<Figure size 720x360 with 1 Axes>"
      ]
     },
     "metadata": {
      "needs_background": "light"
     },
     "output_type": "display_data"
    }
   ],
   "source": [
    "pd.DataFrame(nn_reg_history.history).plot(figsize=(10, 5))\n",
    "plt.grid(True)\n",
    "\n",
    "# Set the xticks - label locations\n",
    "plt.xticks(np.arange(0, 20, step=2))  \n",
    "\n",
    "# set the y-axis range to [0-1]\n",
    "plt.gca().set_ylim(0, 1) "
   ]
  },
  {
   "cell_type": "markdown",
   "metadata": {
    "colab_type": "text",
    "id": "FtL7JMy0eZ_W"
   },
   "source": [
    "> <font color='red'>**Maximum Acceptable Loss Requirement**</font>: Your loss on `test_batch_reg` should not exceed **0.15**. Otherwise, your notebook will get NO CREDIT for this part, so you must fine-tune your `nn_reg` accordingly."
   ]
  },
  {
   "cell_type": "code",
   "execution_count": 42,
   "metadata": {
    "colab": {},
    "colab_type": "code",
    "id": "lYb538hzeZ_X"
   },
   "outputs": [
    {
     "name": "stdout",
     "output_type": "stream",
     "text": [
      "137/137 [==============================] - 0s 965us/step - loss: 0.1430 - mse: 0.1419\n"
     ]
    }
   ],
   "source": [
    "# Evaluate the model on test_batch_reg\n",
    "loss, metric = nn_reg.evaluate(test_batch_reg)"
   ]
  },
  {
   "cell_type": "code",
   "execution_count": 43,
   "metadata": {
    "colab": {},
    "colab_type": "code",
    "id": "7qtb939seZ_Z"
   },
   "outputs": [
    {
     "data": {
      "text/plain": [
       "0.14"
      ]
     },
     "execution_count": 43,
     "metadata": {},
     "output_type": "execute_result"
    }
   ],
   "source": [
    "# Maximum acceptable loss: 0.15\n",
    "round(loss, 2)"
   ]
  },
  {
   "cell_type": "markdown",
   "metadata": {
    "colab_type": "text",
    "id": "tPQLwVcueZ_b"
   },
   "source": [
    "> Next, you're going to build another NN and use callback and early stopping to determine the optimal number of epochs."
   ]
  },
  {
   "cell_type": "code",
   "execution_count": 44,
   "metadata": {
    "colab": {},
    "colab_type": "code",
    "id": "dcSltUhXeZ_b"
   },
   "outputs": [],
   "source": [
    "# Build a sequential NN with appropriate layers for regression\n",
    "# Use ReLU for all hidden layers\n",
    "\n",
    "# Hint1: input_dim of the first layer should match with the number of features in X_train_reg\n",
    "# Hint2: Notice that the activation function and number of neurons in the output layer are determined\n",
    "# by the type of ML task i.e. Regression\n",
    "\n",
    "nn_reg2 = tf.keras.Sequential([\n",
    "    # Add layers accordingly\n",
    "    tf.keras.layers.Dense(300, input_dim = 1683, activation = 'relu'),\n",
    "    tf.keras.layers.Dense(200, activation = 'relu'),\n",
    "    tf.keras.layers.Dense(100, activation = 'relu'),\n",
    "    tf.keras.layers.Dense(1)\n",
    "    ]) "
   ]
  },
  {
   "cell_type": "code",
   "execution_count": 45,
   "metadata": {
    "colab": {},
    "colab_type": "code",
    "id": "xIrf60kneZ_d"
   },
   "outputs": [],
   "source": [
    "# Create an optimizer of your choice with a learning rate of 0.001\n",
    "optimizer = tf.keras.optimizers.RMSprop(learning_rate = 0.001)"
   ]
  },
  {
   "cell_type": "markdown",
   "metadata": {
    "colab_type": "text",
    "id": "k5tBWCm0eZ_e"
   },
   "source": [
    "> Next, you're going to create `callbacks` and `EarlyStopping`.\n",
    "\n",
    "> **Note:** The `patience` parameter is the number of epochs to monitor for improvement. You may want to look up textbook examples to learn how to do this, but notice that there is no validation data here."
   ]
  },
  {
   "cell_type": "code",
   "execution_count": 46,
   "metadata": {
    "colab": {},
    "colab_type": "code",
    "id": "hLcNyS5EeZ_f"
   },
   "outputs": [],
   "source": [
    "# Create a tf.keras.callbacks with EarlyStopping method and monitor='loss' and patience=10 \n",
    "early_stop = tf.keras.callbacks.EarlyStopping(monitor='loss', patience=10)"
   ]
  },
  {
   "cell_type": "code",
   "execution_count": 47,
   "metadata": {
    "colab": {},
    "colab_type": "code",
    "id": "Dx_D_ndreZ_i"
   },
   "outputs": [],
   "source": [
    "# Compile nn_reg2 with appropriate loss, optimizer=optimizer and TWO metrics for regression\n",
    "# Hint: The two metrics must be both for regression, and one of them may be the same as loss\n",
    "nn_reg2.compile(optimizer = optimizer,\n",
    "               loss = 'mse',\n",
    "               metrics = ['mse', 'mae'])"
   ]
  },
  {
   "cell_type": "markdown",
   "metadata": {
    "colab_type": "text",
    "id": "coNR84KYeZ_k"
   },
   "source": [
    "> Now run the training, sit back and let tf/keras determine the optimal number of epochs!"
   ]
  },
  {
   "cell_type": "code",
   "execution_count": 48,
   "metadata": {
    "colab": {},
    "colab_type": "code",
    "id": "kNlI8QHceZ_k"
   },
   "outputs": [
    {
     "name": "stdout",
     "output_type": "stream",
     "text": [
      "Train for 546 steps\n",
      "Epoch 1/1000\n",
      "546/546 [==============================] - 2s 4ms/step - loss: 0.6914 - mse: 0.6914 - mae: 0.3621\n",
      "Epoch 2/1000\n",
      "546/546 [==============================] - 2s 3ms/step - loss: 0.3071 - mse: 0.3071 - mae: 0.2428\n",
      "Epoch 3/1000\n",
      "546/546 [==============================] - 2s 3ms/step - loss: 0.2272 - mse: 0.2272 - mae: 0.2095\n",
      "Epoch 4/1000\n",
      "546/546 [==============================] - 2s 3ms/step - loss: 0.1719 - mse: 0.1719 - mae: 0.1901\n",
      "Epoch 5/1000\n",
      "546/546 [==============================] - 2s 3ms/step - loss: 0.1508 - mse: 0.1508 - mae: 0.1721\n",
      "Epoch 6/1000\n",
      "546/546 [==============================] - 2s 3ms/step - loss: 0.1160 - mse: 0.1160 - mae: 0.1587\n",
      "Epoch 7/1000\n",
      "546/546 [==============================] - 2s 3ms/step - loss: 0.1402 - mse: 0.1402 - mae: 0.1466\n",
      "Epoch 8/1000\n",
      "546/546 [==============================] - 2s 3ms/step - loss: 0.1111 - mse: 0.1111 - mae: 0.1378\n",
      "Epoch 9/1000\n",
      "546/546 [==============================] - 2s 3ms/step - loss: 0.0992 - mse: 0.0992 - mae: 0.1298\n",
      "Epoch 10/1000\n",
      "546/546 [==============================] - 2s 3ms/step - loss: 0.1015 - mse: 0.1015 - mae: 0.1224\n",
      "Epoch 11/1000\n",
      "546/546 [==============================] - 1s 3ms/step - loss: 0.0925 - mse: 0.0925 - mae: 0.1166\n",
      "Epoch 12/1000\n",
      "546/546 [==============================] - 1s 3ms/step - loss: 0.0774 - mse: 0.0774 - mae: 0.1110\n",
      "Epoch 13/1000\n",
      "546/546 [==============================] - 2s 3ms/step - loss: 0.0911 - mse: 0.0911 - mae: 0.1076\n",
      "Epoch 14/1000\n",
      "546/546 [==============================] - 2s 3ms/step - loss: 0.0477 - mse: 0.0477 - mae: 0.0980\n",
      "Epoch 15/1000\n",
      "546/546 [==============================] - 2s 3ms/step - loss: 0.0618 - mse: 0.0618 - mae: 0.0970\n",
      "Epoch 16/1000\n",
      "546/546 [==============================] - 2s 3ms/step - loss: 0.0578 - mse: 0.0578 - mae: 0.0944\n",
      "Epoch 17/1000\n",
      "546/546 [==============================] - 2s 3ms/step - loss: 0.0485 - mse: 0.0485 - mae: 0.0898\n",
      "Epoch 18/1000\n",
      "546/546 [==============================] - 2s 3ms/step - loss: 0.0501 - mse: 0.0501 - mae: 0.0858\n",
      "Epoch 19/1000\n",
      "546/546 [==============================] - 2s 3ms/step - loss: 0.0383 - mse: 0.0383 - mae: 0.0856\n",
      "Epoch 20/1000\n",
      "546/546 [==============================] - 2s 3ms/step - loss: 0.0616 - mse: 0.0616 - mae: 0.0822\n",
      "Epoch 21/1000\n",
      "546/546 [==============================] - 2s 3ms/step - loss: 0.0323 - mse: 0.0323 - mae: 0.0786\n",
      "Epoch 22/1000\n",
      "546/546 [==============================] - 2s 3ms/step - loss: 0.0350 - mse: 0.0350 - mae: 0.0791\n",
      "Epoch 23/1000\n",
      "546/546 [==============================] - 2s 3ms/step - loss: 0.0343 - mse: 0.0343 - mae: 0.0757\n",
      "Epoch 24/1000\n",
      "546/546 [==============================] - 2s 3ms/step - loss: 0.0319 - mse: 0.0319 - mae: 0.0746\n",
      "Epoch 25/1000\n",
      "546/546 [==============================] - 2s 3ms/step - loss: 0.0392 - mse: 0.0392 - mae: 0.0739\n",
      "Epoch 26/1000\n",
      "546/546 [==============================] - 2s 3ms/step - loss: 0.0254 - mse: 0.0254 - mae: 0.0703\n",
      "Epoch 27/1000\n",
      "546/546 [==============================] - 2s 3ms/step - loss: 0.0238 - mse: 0.0238 - mae: 0.0694\n",
      "Epoch 28/1000\n",
      "546/546 [==============================] - 2s 3ms/step - loss: 0.0254 - mse: 0.0254 - mae: 0.0686\n",
      "Epoch 29/1000\n",
      "546/546 [==============================] - 2s 3ms/step - loss: 0.0249 - mse: 0.0249 - mae: 0.0685\n",
      "Epoch 30/1000\n",
      "546/546 [==============================] - 2s 3ms/step - loss: 0.0235 - mse: 0.0235 - mae: 0.0642\n",
      "Epoch 31/1000\n",
      "546/546 [==============================] - 2s 3ms/step - loss: 0.0237 - mse: 0.0237 - mae: 0.0655\n",
      "Epoch 32/1000\n",
      "546/546 [==============================] - 2s 3ms/step - loss: 0.0232 - mse: 0.0232 - mae: 0.0645\n",
      "Epoch 33/1000\n",
      "546/546 [==============================] - 2s 3ms/step - loss: 0.0249 - mse: 0.0249 - mae: 0.0609\n",
      "Epoch 34/1000\n",
      "546/546 [==============================] - 2s 3ms/step - loss: 0.0282 - mse: 0.0282 - mae: 0.0620\n",
      "Epoch 35/1000\n",
      "546/546 [==============================] - 2s 3ms/step - loss: 0.0229 - mse: 0.0229 - mae: 0.0625\n",
      "Epoch 36/1000\n",
      "546/546 [==============================] - 2s 3ms/step - loss: 0.0197 - mse: 0.0197 - mae: 0.0608\n",
      "Epoch 37/1000\n",
      "546/546 [==============================] - 1s 3ms/step - loss: 0.0197 - mse: 0.0197 - mae: 0.0571\n",
      "Epoch 38/1000\n",
      "546/546 [==============================] - 2s 3ms/step - loss: 0.0172 - mse: 0.0172 - mae: 0.0577\n",
      "Epoch 39/1000\n",
      "546/546 [==============================] - 1s 3ms/step - loss: 0.0199 - mse: 0.0199 - mae: 0.0566\n",
      "Epoch 40/1000\n",
      "546/546 [==============================] - 1s 3ms/step - loss: 0.0192 - mse: 0.0192 - mae: 0.0570\n",
      "Epoch 41/1000\n",
      "546/546 [==============================] - 1s 3ms/step - loss: 0.0179 - mse: 0.0179 - mae: 0.0566\n",
      "Epoch 42/1000\n",
      "546/546 [==============================] - 1s 3ms/step - loss: 0.0170 - mse: 0.0170 - mae: 0.0544\n",
      "Epoch 43/1000\n",
      "546/546 [==============================] - 1s 3ms/step - loss: 0.0411 - mse: 0.0411 - mae: 0.0567\n",
      "Epoch 44/1000\n",
      "546/546 [==============================] - 1s 3ms/step - loss: 0.0131 - mse: 0.0131 - mae: 0.0529\n",
      "Epoch 45/1000\n",
      "546/546 [==============================] - 2s 3ms/step - loss: 0.0233 - mse: 0.0233 - mae: 0.0541\n",
      "Epoch 46/1000\n",
      "546/546 [==============================] - 2s 3ms/step - loss: 0.0179 - mse: 0.0179 - mae: 0.0534\n",
      "Epoch 47/1000\n",
      "546/546 [==============================] - 2s 3ms/step - loss: 0.0153 - mse: 0.0153 - mae: 0.0507\n",
      "Epoch 48/1000\n",
      "546/546 [==============================] - 2s 3ms/step - loss: 0.0149 - mse: 0.0149 - mae: 0.0516\n",
      "Epoch 49/1000\n",
      "546/546 [==============================] - 2s 3ms/step - loss: 0.0137 - mse: 0.0137 - mae: 0.0514\n",
      "Epoch 50/1000\n",
      "546/546 [==============================] - 2s 3ms/step - loss: 0.0183 - mse: 0.0183 - mae: 0.0502\n",
      "Epoch 51/1000\n",
      "546/546 [==============================] - 2s 3ms/step - loss: 0.0189 - mse: 0.0189 - mae: 0.0522\n",
      "Epoch 52/1000\n",
      "546/546 [==============================] - 2s 3ms/step - loss: 0.0144 - mse: 0.0144 - mae: 0.0500\n",
      "Epoch 53/1000\n",
      "546/546 [==============================] - 2s 3ms/step - loss: 0.0128 - mse: 0.0128 - mae: 0.0493\n",
      "Epoch 54/1000\n",
      "546/546 [==============================] - 2s 3ms/step - loss: 0.0122 - mse: 0.0122 - mae: 0.0474\n",
      "Epoch 55/1000\n",
      "546/546 [==============================] - 2s 3ms/step - loss: 0.0216 - mse: 0.0216 - mae: 0.0487\n",
      "Epoch 56/1000\n",
      "546/546 [==============================] - 2s 3ms/step - loss: 0.0308 - mse: 0.0308 - mae: 0.0493\n",
      "Epoch 57/1000\n",
      "546/546 [==============================] - 2s 3ms/step - loss: 0.0163 - mse: 0.0163 - mae: 0.0475\n",
      "Epoch 58/1000\n",
      "546/546 [==============================] - 2s 3ms/step - loss: 0.0136 - mse: 0.0136 - mae: 0.0470\n",
      "Epoch 59/1000\n",
      "546/546 [==============================] - 2s 3ms/step - loss: 0.0206 - mse: 0.0206 - mae: 0.0479\n",
      "Epoch 60/1000\n",
      "546/546 [==============================] - 2s 3ms/step - loss: 0.0141 - mse: 0.0141 - mae: 0.0466\n",
      "Epoch 61/1000\n",
      "546/546 [==============================] - 2s 3ms/step - loss: 0.0120 - mse: 0.0120 - mae: 0.0455\n",
      "Epoch 62/1000\n",
      "546/546 [==============================] - 2s 3ms/step - loss: 0.0190 - mse: 0.0190 - mae: 0.0472\n",
      "Epoch 63/1000\n",
      "546/546 [==============================] - 2s 3ms/step - loss: 0.0120 - mse: 0.0120 - mae: 0.0465\n",
      "Epoch 64/1000\n",
      "546/546 [==============================] - 2s 3ms/step - loss: 0.0134 - mse: 0.0134 - mae: 0.0452\n",
      "Epoch 65/1000\n",
      "546/546 [==============================] - 2s 3ms/step - loss: 0.0179 - mse: 0.0179 - mae: 0.0459\n",
      "Epoch 66/1000\n",
      "546/546 [==============================] - 2s 3ms/step - loss: 0.0205 - mse: 0.0205 - mae: 0.0458\n",
      "Epoch 67/1000\n",
      "546/546 [==============================] - 2s 3ms/step - loss: 0.0123 - mse: 0.0123 - mae: 0.0438\n",
      "Epoch 68/1000\n",
      "546/546 [==============================] - 2s 3ms/step - loss: 0.0108 - mse: 0.0108 - mae: 0.0445\n",
      "Epoch 69/1000\n",
      "546/546 [==============================] - 2s 3ms/step - loss: 0.0111 - mse: 0.0111 - mae: 0.0447\n",
      "Epoch 70/1000\n",
      "546/546 [==============================] - 2s 3ms/step - loss: 0.0108 - mse: 0.0108 - mae: 0.0437\n",
      "Epoch 71/1000\n",
      "546/546 [==============================] - 2s 3ms/step - loss: 0.0098 - mse: 0.0098 - mae: 0.0442\n",
      "Epoch 72/1000\n",
      "546/546 [==============================] - 2s 3ms/step - loss: 0.0273 - mse: 0.0273 - mae: 0.0455\n",
      "Epoch 73/1000\n",
      "546/546 [==============================] - 2s 3ms/step - loss: 0.0097 - mse: 0.0097 - mae: 0.0434\n",
      "Epoch 74/1000\n"
     ]
    },
    {
     "name": "stdout",
     "output_type": "stream",
     "text": [
      "546/546 [==============================] - 2s 3ms/step - loss: 0.0128 - mse: 0.0128 - mae: 0.0441\n",
      "Epoch 75/1000\n",
      "546/546 [==============================] - 1s 3ms/step - loss: 0.0127 - mse: 0.0127 - mae: 0.0427\n",
      "Epoch 76/1000\n",
      "546/546 [==============================] - 2s 3ms/step - loss: 0.0131 - mse: 0.0131 - mae: 0.0426\n",
      "Epoch 77/1000\n",
      "546/546 [==============================] - 2s 3ms/step - loss: 0.0095 - mse: 0.0095 - mae: 0.0418\n",
      "Epoch 78/1000\n",
      "546/546 [==============================] - 2s 3ms/step - loss: 0.0113 - mse: 0.0113 - mae: 0.0424\n",
      "Epoch 79/1000\n",
      "546/546 [==============================] - 2s 3ms/step - loss: 0.0100 - mse: 0.0100 - mae: 0.0410\n",
      "Epoch 80/1000\n",
      "546/546 [==============================] - 2s 3ms/step - loss: 0.0131 - mse: 0.0131 - mae: 0.0421\n",
      "Epoch 81/1000\n",
      "546/546 [==============================] - 2s 3ms/step - loss: 0.0094 - mse: 0.0094 - mae: 0.0405\n",
      "Epoch 82/1000\n",
      "546/546 [==============================] - 2s 3ms/step - loss: 0.0113 - mse: 0.0113 - mae: 0.0420\n",
      "Epoch 83/1000\n",
      "546/546 [==============================] - 2s 3ms/step - loss: 0.0075 - mse: 0.0075 - mae: 0.0402\n",
      "Epoch 84/1000\n",
      "546/546 [==============================] - 2s 3ms/step - loss: 0.0147 - mse: 0.0147 - mae: 0.0418\n",
      "Epoch 85/1000\n",
      "546/546 [==============================] - 2s 3ms/step - loss: 0.0082 - mse: 0.0082 - mae: 0.0393\n",
      "Epoch 86/1000\n",
      "546/546 [==============================] - 2s 3ms/step - loss: 0.0189 - mse: 0.0189 - mae: 0.0419\n",
      "Epoch 87/1000\n",
      "546/546 [==============================] - 2s 3ms/step - loss: 0.0090 - mse: 0.0090 - mae: 0.0387\n",
      "Epoch 88/1000\n",
      "546/546 [==============================] - 2s 3ms/step - loss: 0.0122 - mse: 0.0122 - mae: 0.0417\n",
      "Epoch 89/1000\n",
      "546/546 [==============================] - 2s 3ms/step - loss: 0.0111 - mse: 0.0111 - mae: 0.0397\n",
      "Epoch 90/1000\n",
      "546/546 [==============================] - 2s 3ms/step - loss: 0.0075 - mse: 0.0075 - mae: 0.0387\n",
      "Epoch 91/1000\n",
      "546/546 [==============================] - 2s 3ms/step - loss: 0.0088 - mse: 0.0088 - mae: 0.0389\n",
      "Epoch 92/1000\n",
      "546/546 [==============================] - 2s 3ms/step - loss: 0.0126 - mse: 0.0126 - mae: 0.0380\n",
      "Epoch 93/1000\n",
      "546/546 [==============================] - 2s 3ms/step - loss: 0.0089 - mse: 0.0089 - mae: 0.0385\n"
     ]
    }
   ],
   "source": [
    "EPOCHS = 1000\n",
    "# Fit nn_reg2 on train_batch_reg, epochs=EPOCHS, callbacks=[early_stop]\n",
    "nn_reg2_history = nn_reg2.fit(train_batch_reg, epochs = EPOCHS, callbacks = [early_stop])"
   ]
  },
  {
   "cell_type": "code",
   "execution_count": 49,
   "metadata": {
    "colab": {},
    "colab_type": "code",
    "id": "c-hB6AgpeZ_n"
   },
   "outputs": [
    {
     "data": {
      "text/plain": [
       "(0, 1)"
      ]
     },
     "execution_count": 49,
     "metadata": {},
     "output_type": "execute_result"
    },
    {
     "data": {
      "image/png": "[encoded data removed]",
      "text/plain": [
       "<Figure size 720x360 with 1 Axes>"
      ]
     },
     "metadata": {
      "needs_background": "light"
     },
     "output_type": "display_data"
    }
   ],
   "source": [
    "pd.DataFrame(nn_reg2_history.history).plot(figsize=(10, 5))\n",
    "plt.grid(True)\n",
    "\n",
    "# set the y-axis range to [0-1]\n",
    "plt.gca().set_ylim(0, 1) # why was this set to (0, 6) lol"
   ]
  },
  {
   "cell_type": "markdown",
   "metadata": {
    "colab_type": "text",
    "id": "5dF-sV4NeZ_q"
   },
   "source": [
    "## Part II - Questions"
   ]
  },
  {
   "cell_type": "markdown",
   "metadata": {
    "colab_type": "text",
    "id": "e_5mmxCmeZ_r"
   },
   "source": [
    "ANSWER THE FOLLOWING QUESTIONS HERE:\n",
    "\n",
    "**Q1 [5 points]** <br>\n",
    "(a - 3 points) - Using eraly stopping and callbacks, how may epochs did the training run for `nn_reg2`? Find the attribute in history object that logs number of epochs. Write the code to get number of epochs in the following cell.\n",
    "\n",
    "**93**\n",
    "\n",
    "(b - 2 points) - How did the training stop? Your answer should exactly mention the criteria for when the training stops. EXPLAIN CLEARLY AND COMPLETELY IN NO MORE THAN TWO SENTENCES!\n",
    "\n",
    "**Since we specified the `monitor` parameter to watch `loss`, the training came to a halt once the number of epochs where `loss` did not improve exceeded the patience of the callback (defined by the value `patience`). The last dozen or so epochs show the value of `loss` floundering, so the callback kicked in and ended training.**"
   ]
  },
  {
   "cell_type": "code",
   "execution_count": 57,
   "metadata": {
    "colab": {},
    "colab_type": "code",
    "id": "J0lnAK81eZ_r"
   },
   "outputs": [
    {
     "data": {
      "text/plain": [
       "93"
      ]
     },
     "execution_count": 57,
     "metadata": {},
     "output_type": "execute_result"
    }
   ],
   "source": [
    "# Get number of epochs from history object (Hint: it would return a list)\n",
    "len(nn_reg2_history.history['loss'])"
   ]
  },
  {
   "cell_type": "markdown",
   "metadata": {
    "colab_type": "text",
    "id": "JySuIwONeZ_t"
   },
   "source": [
    "**Q2 [5 points]** - On the history plot of `nn_reg2`, you have three colors/curves, but only two of them are displayed. Explain why?\n",
    "\n",
    "**`loss` was defined as `mse`, so the `mse` curve overlapped exactly with `loss`.** "
   ]
  },
  {
   "cell_type": "markdown",
   "metadata": {
    "colab_type": "text",
    "id": "CblnxlZneZ_t"
   },
   "source": [
    "## Grading\n",
    "\n",
    "Assignment-4 has a maximum of 100 points. Make sure that you get the correct outputs for all cells that you implement and give complete answers to all questions. Also, your notebook should be written with no grammatical and spelling errors and should be easy-to-read.\n",
    "\n",
    "The breakdown of the 100 points is as follows:\n",
    "\n",
    "- Part I Classification on Rating: [total 70 points]\n",
    "    - Implementation of nn_clf: 40 points - **Minimum Required Accuracy**: 0.70 otherwise ZERO CREDIT!\n",
    "    - Learning rate fine-tuning plot: 15 points\n",
    "    - Questions: 15 points (5 points each)\n",
    "\n",
    "\n",
    "- Part II Regression on NA_Sales: [total 30 points]\n",
    "    - Implementation of nn_reg: 10 points - **Maximum Acceptable Loss**: 0.15 otherwise ZERO CREDIT!\n",
    "    - Early stopping of nn_reg_2: 10 points\n",
    "    - Questions: 10 points (5 points each)\n",
    "   \n",
    "\n",
    "<b>Note: </b>Follow the instructions of each section carefully. Up to 10 points may be deducted if your submitted notebook is not easy to read and follow or if it has grammatical, spelling or formatting issues."
   ]
  },
  {
   "cell_type": "markdown",
   "metadata": {
    "colab_type": "text",
    "id": "BdDMM5S0eZ_u"
   },
   "source": [
    "Name your notebook ```Lastname-A4.ipynb```. Submit the completed notebook using the ```Assignment-4``` link on Blackboard.\n",
    "\n",
    "Grading will be based on \n",
    "\n",
    "  * correct implementation and results, correct answer to the questions, and\n",
    "  * readability of the notebook.\n",
    "  \n",
    "<font color=red><b>Due Date: Monday May 4th, 11:59PM.</b></font>"
   ]
  }
 ],
 "metadata": {
  "colab": {
   "collapsed_sections": [
    "2-_dI1EIeZ_J"
   ],
   "name": "Assignment-4.ipynb",
   "provenance": [],
   "toc_visible": true
  },
  "kernelspec": {
   "display_name": "Python 3",
   "language": "python",
   "name": "python3"
  },
  "language_info": {
   "codemirror_mode": {
    "name": "ipython",
    "version": 3
   },
   "file_extension": ".py",
   "mimetype": "text/x-python",
   "name": "python",
   "nbconvert_exporter": "python",
   "pygments_lexer": "ipython3",
   "version": "3.7.4"
  }
 },
 "nbformat": 4,
 "nbformat_minor": 1
}
